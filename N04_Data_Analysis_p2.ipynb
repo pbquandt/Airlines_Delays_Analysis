{
 "cells": [
  {
   "cell_type": "markdown",
   "metadata": {},
   "source": [
    "# P4: DATA ANALYSIS: Further analysis\n",
    "\n",
    "### Notebook Description\n",
    "\n",
    "This notebook is a continuation of the analysis of flight data and delays. From this point, the available datasets will be merged, allowing for additional analyses"
   ]
  },
  {
   "cell_type": "markdown",
   "metadata": {},
   "source": [
    "####\n",
    "## Notebook Configuration"
   ]
  },
  {
   "cell_type": "markdown",
   "metadata": {},
   "source": [
    "<p style='background-color: #FFFFE0; margin-top:20px; padding:5px 15px; font-weight: 500'>Libraries import</p>"
   ]
  },
  {
   "cell_type": "code",
   "execution_count": 19,
   "metadata": {
    "ExecuteTime": {
     "end_time": "2024-11-22T07:50:52.391237Z",
     "start_time": "2024-11-22T07:50:52.068790Z"
    },
    "id": "iRCQjALFgaHf"
   },
   "outputs": [],
   "source": [
    "from psycopg2 import connect\n",
    "import pandas as pd\n",
    "import matplotlib.pyplot as plt\n",
    "import numpy as np"
   ]
  },
  {
   "cell_type": "markdown",
   "metadata": {},
   "source": [
    "<p style='background-color: #FFFFE0; margin-top:20px; padding:5px 15px; font-weight: 500'>Connecting to the database</p>"
   ]
  },
  {
   "cell_type": "code",
   "execution_count": 2,
   "metadata": {},
   "outputs": [],
   "source": [
    "cnx = connect(user='postgres_user', password='coderslab', host='localhost', database='airlines')"
   ]
  },
  {
   "cell_type": "markdown",
   "metadata": {},
   "source": [
    "<p style='background-color: #FFFFE0; margin-top:20px; padding:5px 15px; font-weight: 500'>Creating the 'read_sql_table' method to extract data from the database</p>"
   ]
  },
  {
   "cell_type": "code",
   "execution_count": 3,
   "metadata": {
    "id": "1OSLh07PgaHj"
   },
   "outputs": [],
   "source": [
    "def read_sql_table(table_name):\n",
    "    query = f\"SELECT * FROM {table_name}\"\n",
    "    cursor = cnx.cursor()\n",
    "    cursor.execute(query)\n",
    "    column_names = [desc[0] for desc in cursor.description]\n",
    "    results = cursor.fetchall()\n",
    "    cursor.close()\n",
    "    cnx.close()\n",
    "    df = pd.DataFrame(results, columns=column_names)   \n",
    "    return df"
   ]
  },
  {
   "cell_type": "markdown",
   "metadata": {},
   "source": [
    "<p style='background-color: #FFFFE0; margin-top:20px; padding:5px 15px; font-weight: 500'>Loading the DataFrame 'flight_df_01', saved as a .csv file in the previous notebook</p>"
   ]
  },
  {
   "cell_type": "code",
   "execution_count": 4,
   "metadata": {
    "id": "N-LGijOxgaHm"
   },
   "outputs": [],
   "source": [
    "flight_df = pd.read_csv(\"/Users/me/PycharmProjects/Airlines_Delays_Analysis/data/processed/flight_df_01.csv\")"
   ]
  },
  {
   "cell_type": "code",
   "execution_count": 5,
   "metadata": {},
   "outputs": [
    {
     "data": {
      "text/html": [
       "<div>\n",
       "<style scoped>\n",
       "    .dataframe tbody tr th:only-of-type {\n",
       "        vertical-align: middle;\n",
       "    }\n",
       "\n",
       "    .dataframe tbody tr th {\n",
       "        vertical-align: top;\n",
       "    }\n",
       "\n",
       "    .dataframe thead th {\n",
       "        text-align: right;\n",
       "    }\n",
       "</style>\n",
       "<table border=\"1\" class=\"dataframe\">\n",
       "  <thead>\n",
       "    <tr style=\"text-align: right;\">\n",
       "      <th></th>\n",
       "      <th>id</th>\n",
       "      <th>month</th>\n",
       "      <th>day_of_month</th>\n",
       "      <th>day_of_week</th>\n",
       "      <th>op_unique_carrier</th>\n",
       "      <th>tail_num</th>\n",
       "      <th>op_carrier_fl_num</th>\n",
       "      <th>origin_airport_id</th>\n",
       "      <th>dest_airport_id</th>\n",
       "      <th>crs_dep_time</th>\n",
       "      <th>...</th>\n",
       "      <th>distance_group</th>\n",
       "      <th>year</th>\n",
       "      <th>carrier_delay</th>\n",
       "      <th>weather_delay</th>\n",
       "      <th>nas_delay</th>\n",
       "      <th>security_delay</th>\n",
       "      <th>late_aircraft_delay</th>\n",
       "      <th>is_delayed</th>\n",
       "      <th>is_weekend</th>\n",
       "      <th>distance_agg</th>\n",
       "    </tr>\n",
       "  </thead>\n",
       "  <tbody>\n",
       "    <tr>\n",
       "      <th>0</th>\n",
       "      <td>0</td>\n",
       "      <td>1</td>\n",
       "      <td>1</td>\n",
       "      <td>2</td>\n",
       "      <td>9E</td>\n",
       "      <td>N931XJ</td>\n",
       "      <td>3290</td>\n",
       "      <td>10874</td>\n",
       "      <td>10397</td>\n",
       "      <td>600</td>\n",
       "      <td>...</td>\n",
       "      <td>3</td>\n",
       "      <td>2019</td>\n",
       "      <td>NaN</td>\n",
       "      <td>NaN</td>\n",
       "      <td>NaN</td>\n",
       "      <td>NaN</td>\n",
       "      <td>NaN</td>\n",
       "      <td>False</td>\n",
       "      <td>False</td>\n",
       "      <td>(500, 600]</td>\n",
       "    </tr>\n",
       "    <tr>\n",
       "      <th>1</th>\n",
       "      <td>1</td>\n",
       "      <td>1</td>\n",
       "      <td>1</td>\n",
       "      <td>2</td>\n",
       "      <td>OH</td>\n",
       "      <td>N723PS</td>\n",
       "      <td>5495</td>\n",
       "      <td>10874</td>\n",
       "      <td>11057</td>\n",
       "      <td>704</td>\n",
       "      <td>...</td>\n",
       "      <td>2</td>\n",
       "      <td>2019</td>\n",
       "      <td>NaN</td>\n",
       "      <td>NaN</td>\n",
       "      <td>NaN</td>\n",
       "      <td>NaN</td>\n",
       "      <td>NaN</td>\n",
       "      <td>True</td>\n",
       "      <td>False</td>\n",
       "      <td>(300, 400]</td>\n",
       "    </tr>\n",
       "    <tr>\n",
       "      <th>2</th>\n",
       "      <td>2</td>\n",
       "      <td>1</td>\n",
       "      <td>1</td>\n",
       "      <td>2</td>\n",
       "      <td>OH</td>\n",
       "      <td>N525EA</td>\n",
       "      <td>5416</td>\n",
       "      <td>10874</td>\n",
       "      <td>11057</td>\n",
       "      <td>1944</td>\n",
       "      <td>...</td>\n",
       "      <td>2</td>\n",
       "      <td>2019</td>\n",
       "      <td>NaN</td>\n",
       "      <td>NaN</td>\n",
       "      <td>NaN</td>\n",
       "      <td>NaN</td>\n",
       "      <td>NaN</td>\n",
       "      <td>False</td>\n",
       "      <td>False</td>\n",
       "      <td>(300, 400]</td>\n",
       "    </tr>\n",
       "    <tr>\n",
       "      <th>3</th>\n",
       "      <td>3</td>\n",
       "      <td>1</td>\n",
       "      <td>1</td>\n",
       "      <td>2</td>\n",
       "      <td>OH</td>\n",
       "      <td>N706PS</td>\n",
       "      <td>5426</td>\n",
       "      <td>10874</td>\n",
       "      <td>11057</td>\n",
       "      <td>1521</td>\n",
       "      <td>...</td>\n",
       "      <td>2</td>\n",
       "      <td>2019</td>\n",
       "      <td>NaN</td>\n",
       "      <td>NaN</td>\n",
       "      <td>NaN</td>\n",
       "      <td>NaN</td>\n",
       "      <td>NaN</td>\n",
       "      <td>False</td>\n",
       "      <td>False</td>\n",
       "      <td>(300, 400]</td>\n",
       "    </tr>\n",
       "    <tr>\n",
       "      <th>4</th>\n",
       "      <td>4</td>\n",
       "      <td>1</td>\n",
       "      <td>1</td>\n",
       "      <td>2</td>\n",
       "      <td>OH</td>\n",
       "      <td>N262PS</td>\n",
       "      <td>5440</td>\n",
       "      <td>10874</td>\n",
       "      <td>14100</td>\n",
       "      <td>756</td>\n",
       "      <td>...</td>\n",
       "      <td>2</td>\n",
       "      <td>2019</td>\n",
       "      <td>NaN</td>\n",
       "      <td>NaN</td>\n",
       "      <td>NaN</td>\n",
       "      <td>NaN</td>\n",
       "      <td>NaN</td>\n",
       "      <td>False</td>\n",
       "      <td>False</td>\n",
       "      <td>(300, 400]</td>\n",
       "    </tr>\n",
       "    <tr>\n",
       "      <th>...</th>\n",
       "      <td>...</td>\n",
       "      <td>...</td>\n",
       "      <td>...</td>\n",
       "      <td>...</td>\n",
       "      <td>...</td>\n",
       "      <td>...</td>\n",
       "      <td>...</td>\n",
       "      <td>...</td>\n",
       "      <td>...</td>\n",
       "      <td>...</td>\n",
       "      <td>...</td>\n",
       "      <td>...</td>\n",
       "      <td>...</td>\n",
       "      <td>...</td>\n",
       "      <td>...</td>\n",
       "      <td>...</td>\n",
       "      <td>...</td>\n",
       "      <td>...</td>\n",
       "      <td>...</td>\n",
       "      <td>...</td>\n",
       "      <td>...</td>\n",
       "    </tr>\n",
       "    <tr>\n",
       "      <th>6922919</th>\n",
       "      <td>9251553</td>\n",
       "      <td>12</td>\n",
       "      <td>30</td>\n",
       "      <td>1</td>\n",
       "      <td>MQ</td>\n",
       "      <td>N818AE</td>\n",
       "      <td>3744</td>\n",
       "      <td>12511</td>\n",
       "      <td>13930</td>\n",
       "      <td>1411</td>\n",
       "      <td>...</td>\n",
       "      <td>2</td>\n",
       "      <td>2019</td>\n",
       "      <td>2.0</td>\n",
       "      <td>0.0</td>\n",
       "      <td>0.0</td>\n",
       "      <td>0.0</td>\n",
       "      <td>31.0</td>\n",
       "      <td>True</td>\n",
       "      <td>False</td>\n",
       "      <td>(400, 500]</td>\n",
       "    </tr>\n",
       "    <tr>\n",
       "      <th>6922920</th>\n",
       "      <td>9251554</td>\n",
       "      <td>12</td>\n",
       "      <td>30</td>\n",
       "      <td>1</td>\n",
       "      <td>MQ</td>\n",
       "      <td>N821AE</td>\n",
       "      <td>4235</td>\n",
       "      <td>12511</td>\n",
       "      <td>11298</td>\n",
       "      <td>1615</td>\n",
       "      <td>...</td>\n",
       "      <td>2</td>\n",
       "      <td>2019</td>\n",
       "      <td>NaN</td>\n",
       "      <td>NaN</td>\n",
       "      <td>NaN</td>\n",
       "      <td>NaN</td>\n",
       "      <td>NaN</td>\n",
       "      <td>False</td>\n",
       "      <td>False</td>\n",
       "      <td>(300, 400]</td>\n",
       "    </tr>\n",
       "    <tr>\n",
       "      <th>6922921</th>\n",
       "      <td>9251556</td>\n",
       "      <td>12</td>\n",
       "      <td>31</td>\n",
       "      <td>2</td>\n",
       "      <td>MQ</td>\n",
       "      <td>N245NN</td>\n",
       "      <td>4040</td>\n",
       "      <td>12511</td>\n",
       "      <td>11298</td>\n",
       "      <td>745</td>\n",
       "      <td>...</td>\n",
       "      <td>2</td>\n",
       "      <td>2019</td>\n",
       "      <td>224.0</td>\n",
       "      <td>129.0</td>\n",
       "      <td>0.0</td>\n",
       "      <td>0.0</td>\n",
       "      <td>0.0</td>\n",
       "      <td>True</td>\n",
       "      <td>False</td>\n",
       "      <td>(300, 400]</td>\n",
       "    </tr>\n",
       "    <tr>\n",
       "      <th>6922922</th>\n",
       "      <td>9251557</td>\n",
       "      <td>12</td>\n",
       "      <td>31</td>\n",
       "      <td>2</td>\n",
       "      <td>MQ</td>\n",
       "      <td>N806AE</td>\n",
       "      <td>3744</td>\n",
       "      <td>12511</td>\n",
       "      <td>13930</td>\n",
       "      <td>1411</td>\n",
       "      <td>...</td>\n",
       "      <td>2</td>\n",
       "      <td>2019</td>\n",
       "      <td>3.0</td>\n",
       "      <td>0.0</td>\n",
       "      <td>0.0</td>\n",
       "      <td>0.0</td>\n",
       "      <td>71.0</td>\n",
       "      <td>True</td>\n",
       "      <td>False</td>\n",
       "      <td>(400, 500]</td>\n",
       "    </tr>\n",
       "    <tr>\n",
       "      <th>6922923</th>\n",
       "      <td>9251558</td>\n",
       "      <td>12</td>\n",
       "      <td>31</td>\n",
       "      <td>2</td>\n",
       "      <td>MQ</td>\n",
       "      <td>N854AE</td>\n",
       "      <td>4235</td>\n",
       "      <td>12511</td>\n",
       "      <td>11298</td>\n",
       "      <td>1615</td>\n",
       "      <td>...</td>\n",
       "      <td>2</td>\n",
       "      <td>2019</td>\n",
       "      <td>NaN</td>\n",
       "      <td>NaN</td>\n",
       "      <td>NaN</td>\n",
       "      <td>NaN</td>\n",
       "      <td>NaN</td>\n",
       "      <td>False</td>\n",
       "      <td>False</td>\n",
       "      <td>(300, 400]</td>\n",
       "    </tr>\n",
       "  </tbody>\n",
       "</table>\n",
       "<p>6922924 rows × 31 columns</p>\n",
       "</div>"
      ],
      "text/plain": [
       "              id  month  day_of_month  day_of_week op_unique_carrier tail_num  \\\n",
       "0              0      1             1            2                9E   N931XJ   \n",
       "1              1      1             1            2                OH   N723PS   \n",
       "2              2      1             1            2                OH   N525EA   \n",
       "3              3      1             1            2                OH   N706PS   \n",
       "4              4      1             1            2                OH   N262PS   \n",
       "...          ...    ...           ...          ...               ...      ...   \n",
       "6922919  9251553     12            30            1                MQ   N818AE   \n",
       "6922920  9251554     12            30            1                MQ   N821AE   \n",
       "6922921  9251556     12            31            2                MQ   N245NN   \n",
       "6922922  9251557     12            31            2                MQ   N806AE   \n",
       "6922923  9251558     12            31            2                MQ   N854AE   \n",
       "\n",
       "         op_carrier_fl_num  origin_airport_id  dest_airport_id  crs_dep_time  \\\n",
       "0                     3290              10874            10397           600   \n",
       "1                     5495              10874            11057           704   \n",
       "2                     5416              10874            11057          1944   \n",
       "3                     5426              10874            11057          1521   \n",
       "4                     5440              10874            14100           756   \n",
       "...                    ...                ...              ...           ...   \n",
       "6922919               3744              12511            13930          1411   \n",
       "6922920               4235              12511            11298          1615   \n",
       "6922921               4040              12511            11298           745   \n",
       "6922922               3744              12511            13930          1411   \n",
       "6922923               4235              12511            11298          1615   \n",
       "\n",
       "         ...  distance_group  year carrier_delay  weather_delay  nas_delay  \\\n",
       "0        ...               3  2019           NaN            NaN        NaN   \n",
       "1        ...               2  2019           NaN            NaN        NaN   \n",
       "2        ...               2  2019           NaN            NaN        NaN   \n",
       "3        ...               2  2019           NaN            NaN        NaN   \n",
       "4        ...               2  2019           NaN            NaN        NaN   \n",
       "...      ...             ...   ...           ...            ...        ...   \n",
       "6922919  ...               2  2019           2.0            0.0        0.0   \n",
       "6922920  ...               2  2019           NaN            NaN        NaN   \n",
       "6922921  ...               2  2019         224.0          129.0        0.0   \n",
       "6922922  ...               2  2019           3.0            0.0        0.0   \n",
       "6922923  ...               2  2019           NaN            NaN        NaN   \n",
       "\n",
       "         security_delay late_aircraft_delay  is_delayed  is_weekend  \\\n",
       "0                   NaN                 NaN       False       False   \n",
       "1                   NaN                 NaN        True       False   \n",
       "2                   NaN                 NaN       False       False   \n",
       "3                   NaN                 NaN       False       False   \n",
       "4                   NaN                 NaN       False       False   \n",
       "...                 ...                 ...         ...         ...   \n",
       "6922919             0.0                31.0        True       False   \n",
       "6922920             NaN                 NaN       False       False   \n",
       "6922921             0.0                 0.0        True       False   \n",
       "6922922             0.0                71.0        True       False   \n",
       "6922923             NaN                 NaN       False       False   \n",
       "\n",
       "         distance_agg  \n",
       "0          (500, 600]  \n",
       "1          (300, 400]  \n",
       "2          (300, 400]  \n",
       "3          (300, 400]  \n",
       "4          (300, 400]  \n",
       "...               ...  \n",
       "6922919    (400, 500]  \n",
       "6922920    (300, 400]  \n",
       "6922921    (300, 400]  \n",
       "6922922    (400, 500]  \n",
       "6922923    (300, 400]  \n",
       "\n",
       "[6922924 rows x 31 columns]"
      ]
     },
     "execution_count": 5,
     "metadata": {},
     "output_type": "execute_result"
    }
   ],
   "source": [
    "flight_df"
   ]
  },
  {
   "cell_type": "markdown",
   "metadata": {},
   "source": [
    "###\n",
    "## Enriching The Dataset With Additional Information From The 'aircraft' Table"
   ]
  },
  {
   "cell_type": "markdown",
   "metadata": {},
   "source": [
    "<p style='background-color: #FFFFE0; margin-top:20px; padding:5px 15px; font-weight: 500'>Loading the 'aircraft' table form the database</p>"
   ]
  },
  {
   "cell_type": "code",
   "execution_count": 6,
   "metadata": {
    "id": "HonLC9KegaHo"
   },
   "outputs": [
    {
     "data": {
      "text/html": [
       "<div>\n",
       "<style scoped>\n",
       "    .dataframe tbody tr th:only-of-type {\n",
       "        vertical-align: middle;\n",
       "    }\n",
       "\n",
       "    .dataframe tbody tr th {\n",
       "        vertical-align: top;\n",
       "    }\n",
       "\n",
       "    .dataframe thead th {\n",
       "        text-align: right;\n",
       "    }\n",
       "</style>\n",
       "<table border=\"1\" class=\"dataframe\">\n",
       "  <thead>\n",
       "    <tr style=\"text-align: right;\">\n",
       "      <th></th>\n",
       "      <th>id</th>\n",
       "      <th>manufacture_year</th>\n",
       "      <th>tail_num</th>\n",
       "      <th>number_of_seats</th>\n",
       "    </tr>\n",
       "  </thead>\n",
       "  <tbody>\n",
       "    <tr>\n",
       "      <th>0</th>\n",
       "      <td>0</td>\n",
       "      <td>1944</td>\n",
       "      <td>N54514</td>\n",
       "      <td>0.0</td>\n",
       "    </tr>\n",
       "    <tr>\n",
       "      <th>1</th>\n",
       "      <td>1</td>\n",
       "      <td>1945</td>\n",
       "      <td>N1651M</td>\n",
       "      <td>0.0</td>\n",
       "    </tr>\n",
       "    <tr>\n",
       "      <th>2</th>\n",
       "      <td>2</td>\n",
       "      <td>1953</td>\n",
       "      <td>N100CE</td>\n",
       "      <td>0.0</td>\n",
       "    </tr>\n",
       "    <tr>\n",
       "      <th>3</th>\n",
       "      <td>3</td>\n",
       "      <td>1953</td>\n",
       "      <td>N141FL</td>\n",
       "      <td>0.0</td>\n",
       "    </tr>\n",
       "    <tr>\n",
       "      <th>4</th>\n",
       "      <td>4</td>\n",
       "      <td>1953</td>\n",
       "      <td>N151FL</td>\n",
       "      <td>0.0</td>\n",
       "    </tr>\n",
       "    <tr>\n",
       "      <th>...</th>\n",
       "      <td>...</td>\n",
       "      <td>...</td>\n",
       "      <td>...</td>\n",
       "      <td>...</td>\n",
       "    </tr>\n",
       "    <tr>\n",
       "      <th>7378</th>\n",
       "      <td>7378</td>\n",
       "      <td>2019</td>\n",
       "      <td>N14011</td>\n",
       "      <td>337.0</td>\n",
       "    </tr>\n",
       "    <tr>\n",
       "      <th>7379</th>\n",
       "      <td>7379</td>\n",
       "      <td>2019</td>\n",
       "      <td>N16008</td>\n",
       "      <td>337.0</td>\n",
       "    </tr>\n",
       "    <tr>\n",
       "      <th>7380</th>\n",
       "      <td>7380</td>\n",
       "      <td>2019</td>\n",
       "      <td>N16009</td>\n",
       "      <td>337.0</td>\n",
       "    </tr>\n",
       "    <tr>\n",
       "      <th>7381</th>\n",
       "      <td>7381</td>\n",
       "      <td>2019</td>\n",
       "      <td>N2250U</td>\n",
       "      <td>276.0</td>\n",
       "    </tr>\n",
       "    <tr>\n",
       "      <th>7382</th>\n",
       "      <td>7382</td>\n",
       "      <td>2019</td>\n",
       "      <td>N2749U</td>\n",
       "      <td>276.0</td>\n",
       "    </tr>\n",
       "  </tbody>\n",
       "</table>\n",
       "<p>7383 rows × 4 columns</p>\n",
       "</div>"
      ],
      "text/plain": [
       "        id  manufacture_year tail_num  number_of_seats\n",
       "0        0              1944   N54514              0.0\n",
       "1        1              1945   N1651M              0.0\n",
       "2        2              1953   N100CE              0.0\n",
       "3        3              1953   N141FL              0.0\n",
       "4        4              1953   N151FL              0.0\n",
       "...    ...               ...      ...              ...\n",
       "7378  7378              2019   N14011            337.0\n",
       "7379  7379              2019   N16008            337.0\n",
       "7380  7380              2019   N16009            337.0\n",
       "7381  7381              2019   N2250U            276.0\n",
       "7382  7382              2019   N2749U            276.0\n",
       "\n",
       "[7383 rows x 4 columns]"
      ]
     },
     "execution_count": 6,
     "metadata": {},
     "output_type": "execute_result"
    }
   ],
   "source": [
    "aircraft_df = read_sql_table('aircraft')\n",
    "aircraft_df"
   ]
  },
  {
   "cell_type": "markdown",
   "metadata": {},
   "source": [
    "<p style='background-color: #FFFFE0; margin-top:20px; padding:5px 15px; font-weight: 500'>Dropping the 'number_of_seats' column and removing possible data duplicates from the 'aircraft' DataFrame</p>"
   ]
  },
  {
   "cell_type": "code",
   "execution_count": 7,
   "metadata": {
    "id": "UEGn63ligaHp"
   },
   "outputs": [],
   "source": [
    "aircraft_df = aircraft_df.drop(['number_of_seats', 'id'], axis=1).drop_duplicates()"
   ]
  },
  {
   "cell_type": "markdown",
   "metadata": {},
   "source": [
    "<p style='background-color: #FFFFE0; margin-top:20px; padding:5px 15px; font-weight: 500'>Additionally, verifying and removing any duplicates within the tail_num column. Specifically, checking if a single tail_num is associated with more than one year of production.</p>"
   ]
  },
  {
   "cell_type": "code",
   "execution_count": 8,
   "metadata": {
    "id": "NXRY9FcmgaHq"
   },
   "outputs": [],
   "source": [
    "tail_duplicates = aircraft_df['tail_num'].duplicated()\n",
    "if tail_duplicates.any():\n",
    "    aircraft_df_duplicated = aircraft_df[tail_duplicates]\n",
    "    aircraft_df.drop_duplicates(subset='tail_num', keep='last', inplace=True)"
   ]
  },
  {
   "cell_type": "markdown",
   "metadata": {},
   "source": [
    "<p style='background-color: #FFFFE0; margin-top:20px; padding:5px 15px; font-weight: 500'>Setting the 'manufacture_year' to the highest value for any duplicate 'tail_num' entries</p>"
   ]
  },
  {
   "cell_type": "code",
   "execution_count": 9,
   "metadata": {
    "id": "vH8EshdJgaHs"
   },
   "outputs": [],
   "source": [
    "aircraft_df['manufacture_year'] = aircraft_df.groupby('tail_num')['manufacture_year'].transform('max')\n",
    "aircraft_df = aircraft_df.drop_duplicates()"
   ]
  },
  {
   "cell_type": "markdown",
   "metadata": {},
   "source": [
    "<p style='background-color: #FFFFE0; margin-top:20px; padding:5px 15px; font-weight: 500'>Joining DataFrames 'aircraft_df' together with 'flight_df'</p>"
   ]
  },
  {
   "cell_type": "code",
   "execution_count": 10,
   "metadata": {
    "id": "5M7ZmGpugaHt"
   },
   "outputs": [],
   "source": [
    "tmp_flight_df = flight_df.merge(aircraft_df, on='tail_num', how='left')"
   ]
  },
  {
   "cell_type": "markdown",
   "metadata": {},
   "source": [
    "<p style='background-color: #FFFFE0; margin-top:20px; padding:5px 15px; font-weight: 500'>Checking for possible duplicates</p>"
   ]
  },
  {
   "cell_type": "code",
   "execution_count": 11,
   "metadata": {
    "id": "jz1FiBqXgaHu"
   },
   "outputs": [
    {
     "data": {
      "text/plain": [
       "False    6922924\n",
       "Name: count, dtype: int64"
      ]
     },
     "execution_count": 11,
     "metadata": {},
     "output_type": "execute_result"
    }
   ],
   "source": [
    "duplicates = tmp_flight_df.duplicated()\n",
    "duplicates.value_counts()"
   ]
  },
  {
   "cell_type": "markdown",
   "metadata": {},
   "source": [
    "<p style='background-color: #FFFFE0; margin-top:20px; padding:5px 15px; font-weight: 500'>Overwriting the temporary DataFrame 'mp_flight_df' from above, with 'flight_df'</p>"
   ]
  },
  {
   "cell_type": "code",
   "execution_count": 12,
   "metadata": {
    "id": "ljwe8v4ngaHu"
   },
   "outputs": [],
   "source": [
    "flight_df = tmp_flight_df.copy()"
   ]
  },
  {
   "cell_type": "markdown",
   "metadata": {},
   "source": [
    "###\n",
    "## Further Analysis"
   ]
  },
  {
   "cell_type": "markdown",
   "metadata": {},
   "source": [
    "### Delays vs. Production Year p1"
   ]
  },
  {
   "cell_type": "markdown",
   "metadata": {},
   "source": [
    "<p style='background-color: #FFFFE0; margin-top:20px; padding:5px 15px; font-weight: 500'>Interpolating missing manufacture years, converting them to integers, and analyzing delays and flight counts grouped by aircraft manufacture year</p>"
   ]
  },
  {
   "cell_type": "code",
   "execution_count": 25,
   "metadata": {},
   "outputs": [],
   "source": [
    "flight_df[\"manufacture_year\"] = flight_df[\"manufacture_year\"].interpolate(method='linear')"
   ]
  },
  {
   "cell_type": "code",
   "execution_count": 26,
   "metadata": {},
   "outputs": [],
   "source": [
    "flight_df[\"manufacture_year\"] = flight_df[\"manufacture_year\"].astype(np.int64)"
   ]
  },
  {
   "cell_type": "code",
   "execution_count": 27,
   "metadata": {},
   "outputs": [
    {
     "data": {
      "text/plain": [
       "array([2008, 2004, 2005, 2016, 2003, 2002, 2010, 2006, 2007, 2009, 2014,\n",
       "       2001, 1991, 1997, 2012, 2015, 2013, 1993, 1987, 1992, 1988, 2011,\n",
       "       1995, 1999, 1996, 2000, 2017, 1990, 1998, 2018, 1994, 2019, 1989])"
      ]
     },
     "execution_count": 27,
     "metadata": {},
     "output_type": "execute_result"
    }
   ],
   "source": [
    "flight_df[\"manufacture_year\"].unique()"
   ]
  },
  {
   "cell_type": "code",
   "execution_count": 28,
   "metadata": {},
   "outputs": [],
   "source": [
    "delays_by_manufacture_year_df = flight_df.groupby('manufacture_year').agg({'dep_delay': 'mean', 'tail_num': 'count'}).reset_index()\n",
    "delays_by_manufacture_year_df.columns = ['manufacture_year', 'average_delay', 'flight_count']"
   ]
  },
  {
   "cell_type": "code",
   "execution_count": 30,
   "metadata": {
    "id": "GP8jatMNgaHv"
   },
   "outputs": [
    {
     "data": {
      "image/png": "[encoded data removed]",
      "text/plain": [
       "<Figure size 1000x600 with 1 Axes>"
      ]
     },
     "metadata": {},
     "output_type": "display_data"
    }
   ],
   "source": [
    "plt.style.use('fivethirtyeight')\n",
    "plt.figure(figsize=(10,6))\n",
    "plt.scatter(delays_by_manufacture_year_df['manufacture_year'], delays_by_manufacture_year_df['average_delay'], alpha=0.7)\n",
    "plt.xlabel('Year of manufacture',fontsize=10, labelpad=15)\n",
    "plt.ylabel('Average delay (in minutes)',fontsize=10, labelpad=15)\n",
    "plt.title(\"A scatter plot illustrating the relationship between an aircraft's year of manufacture and its frequency of delays\", fontsize=10)\n",
    "start_year = delays_by_manufacture_year_df['manufacture_year'].min()\n",
    "end_year = delays_by_manufacture_year_df['manufacture_year'].max()\n",
    "year_step = 1\n",
    "x_ticks = np.arange(start_year, end_year + 1, year_step)\n",
    "plt.xticks(x_ticks, rotation=90, fontsize=10)\n",
    "plt.yticks(fontsize=10)\n",
    "plt.grid(True)\n",
    "plt.show()"
   ]
  },
  {
   "cell_type": "markdown",
   "metadata": {},
   "source": [
    "### Key Observations\n",
    "???"
   ]
  },
  {
   "cell_type": "markdown",
   "metadata": {},
   "source": [
    "<p style='background-color: #FFFFE0; margin-top:20px; padding:5px 15px; font-weight: 500'>Customizing the chart to filter and display only years with more than 10,000 flights</p>"
   ]
  },
  {
   "cell_type": "code",
   "execution_count": 34,
   "metadata": {
    "id": "SlyMqFHdgaHv"
   },
   "outputs": [
    {
     "data": {
      "image/png": "[encoded data removed]",
      "text/plain": [
       "<Figure size 1000x600 with 1 Axes>"
      ]
     },
     "metadata": {},
     "output_type": "display_data"
    }
   ],
   "source": [
    "flights_10k = delays_by_manufacture_year_df[delays_by_manufacture_year_df['flight_count'] > 10000]\n",
    "\n",
    "plt.style.use('fivethirtyeight')\n",
    "plt.figure(figsize=(10,6))\n",
    "plt.scatter(flights_10k['manufacture_year'], flights_10k['average_delay'], alpha=0.7)\n",
    "plt.xlabel('Year of manufacture',fontsize=10, labelpad=15)\n",
    "plt.ylabel('Average delay (in minutes)',fontsize=10, labelpad=15)\n",
    "plt.title(\"A scatter plot illustrating the relationship between an aircraft's year of manufacture \\n and its frequency of delays (year > 10000 flights)\",fontsize=10)\n",
    "start_year = flights_10k['manufacture_year'].min()\n",
    "end_year = flights_10k['manufacture_year'].max()\n",
    "year_step = 1\n",
    "x_ticks = np.arange(start_year, end_year + 1, year_step)\n",
    "plt.xticks(x_ticks, rotation=90, fontsize=10)\n",
    "plt.yticks(fontsize=10)\n",
    "plt.grid(True)\n",
    "plt.show()"
   ]
  },
  {
   "cell_type": "markdown",
   "metadata": {},
   "source": [
    "### Key Observations\n",
    "???"
   ]
  },
  {
   "cell_type": "markdown",
   "metadata": {},
   "source": [
    "## Delays vs. Production Year p2"
   ]
  },
  {
   "cell_type": "markdown",
   "metadata": {
    "id": "mrFXx39hgaHv"
   },
   "source": [
    " ## Opóźnienia vs. rok produkcji samolotu cz. 2\n",
    " Dokonaj agregacji kolumny `manufacture_year` do kolumny `manufacture_year_agg` zgodnie z poniższym:\n",
    " 1. Grupując dane co 3 lata -> Czy po grupowaniu można zauważyć zależność? Wyniki zapisz do ramki `flight_delays_by_manufacture_year_agg_df`.\n",
    " 1. Wyznacz top 5 roczników samolotu, które wykonały najwięcej lotów. Wyniki zapisz do ramki `top_manufactured_df`, do obliczeń wykorzystaj `delays_by_manufacture_year_df`."
   ]
  },
  {
   "cell_type": "markdown",
   "metadata": {},
   "source": [
    "<p style='background-color: #FFFFE0; margin-top:20px; padding:5px 15px; font-weight: 500'>Aggregating the manufacture_year values into 3-year groups in the manufacture_year_agg column</p>"
   ]
  },
  {
   "cell_type": "code",
   "execution_count": 39,
   "metadata": {
    "id": "ple31F7kgaHv"
   },
   "outputs": [],
   "source": [
    "flight_df['manufacture_year_agg'] = flight_df['manufacture_year'] // 3 * 3"
   ]
  },
  {
   "cell_type": "markdown",
   "metadata": {},
   "source": [
    "<p style='background-color: #FFFFE0; margin-top:20px; padding:5px 15px; font-weight: 500'>Assinging 'manufacture_year_agg' to 'flight_delays_by_manufacture_year_agg_df' variable</p>"
   ]
  },
  {
   "cell_type": "code",
   "execution_count": 40,
   "metadata": {
    "id": "8bkI8NuigaHw"
   },
   "outputs": [],
   "source": [
    "flight_delays_by_manufacture_year_agg_df = flight_df.groupby('manufacture_year_agg').agg({'dep_delay': 'mean', 'tail_num': 'count'}).reset_index()\n",
    "flight_delays_by_manufacture_year_agg_df.columns = ['manufacture_year_agg', 'average_delay', 'flight_count']"
   ]
  },
  {
   "cell_type": "markdown",
   "metadata": {},
   "source": [
    "<p style='background-color: #FFFFE0; margin-top:20px; padding:5px 15px; font-weight: 500'>Drawing a scatterplot based on the 'flight_delays_by_manufacture_year_agg_df'</p>"
   ]
  },
  {
   "cell_type": "code",
   "execution_count": 45,
   "metadata": {
    "id": "moVOM8RdgaHw"
   },
   "outputs": [
    {
     "data": {
      "image/png": "[encoded data removed]",
      "text/plain": [
       "<Figure size 1000x600 with 1 Axes>"
      ]
     },
     "metadata": {},
     "output_type": "display_data"
    }
   ],
   "source": [
    "plt.style.use('fivethirtyeight')\n",
    "plt.figure(figsize=(10,6))\n",
    "plt.scatter(flight_delays_by_manufacture_year_agg_df['manufacture_year_agg'], flight_delays_by_manufacture_year_agg_df['average_delay'])\n",
    "plt.xlabel('Year of manufacture (aggregated every 3 years)',fontsize=10, labelpad=15)\n",
    "plt.ylabel('Average delay (in minutes)',fontsize=10, labelpad=15)\n",
    "plt.title(\"A scatter plot showing the relationship between the aircraft's year of manufacture \\n and the frequency of delays (aggregated every 3 years)\",fontsize=10)\n",
    "start_year = flight_delays_by_manufacture_year_agg_df['manufacture_year_agg'].min()\n",
    "end_year = flight_delays_by_manufacture_year_agg_df['manufacture_year_agg'].max()\n",
    "year_step = 3\n",
    "x_ticks = np.arange(start_year, end_year + 3, year_step)\n",
    "plt.xticks(x_ticks, rotation=90, fontsize=10)\n",
    "plt.yticks(fontsize=10)\n",
    "plt.grid(True)\n",
    "plt.show()"
   ]
  },
  {
   "cell_type": "markdown",
   "metadata": {},
   "source": [
    "### Key Observations\n",
    "???"
   ]
  },
  {
   "cell_type": "markdown",
   "metadata": {},
   "source": [
    "<p style='background-color: #FFFFE0; margin-top:20px; padding:5px 15px; font-weight: 500'>Selecting the top 5 aircraft manufacture years with the most flights based on flight count</p>"
   ]
  },
  {
   "cell_type": "code",
   "execution_count": 46,
   "metadata": {
    "id": "2L73EbOSgaHw"
   },
   "outputs": [
    {
     "data": {
      "text/html": [
       "<div>\n",
       "<style scoped>\n",
       "    .dataframe tbody tr th:only-of-type {\n",
       "        vertical-align: middle;\n",
       "    }\n",
       "\n",
       "    .dataframe tbody tr th {\n",
       "        vertical-align: top;\n",
       "    }\n",
       "\n",
       "    .dataframe thead th {\n",
       "        text-align: right;\n",
       "    }\n",
       "</style>\n",
       "<table border=\"1\" class=\"dataframe\">\n",
       "  <thead>\n",
       "    <tr style=\"text-align: right;\">\n",
       "      <th></th>\n",
       "      <th>manufacture_year</th>\n",
       "      <th>average_delay</th>\n",
       "      <th>flight_count</th>\n",
       "    </tr>\n",
       "  </thead>\n",
       "  <tbody>\n",
       "    <tr>\n",
       "      <th>14</th>\n",
       "      <td>2001</td>\n",
       "      <td>13.505254</td>\n",
       "      <td>491058</td>\n",
       "    </tr>\n",
       "    <tr>\n",
       "      <th>17</th>\n",
       "      <td>2004</td>\n",
       "      <td>14.992950</td>\n",
       "      <td>483943</td>\n",
       "    </tr>\n",
       "    <tr>\n",
       "      <th>29</th>\n",
       "      <td>2016</td>\n",
       "      <td>12.649388</td>\n",
       "      <td>413679</td>\n",
       "    </tr>\n",
       "    <tr>\n",
       "      <th>18</th>\n",
       "      <td>2005</td>\n",
       "      <td>15.121638</td>\n",
       "      <td>408015</td>\n",
       "    </tr>\n",
       "    <tr>\n",
       "      <th>16</th>\n",
       "      <td>2003</td>\n",
       "      <td>15.608392</td>\n",
       "      <td>374525</td>\n",
       "    </tr>\n",
       "  </tbody>\n",
       "</table>\n",
       "</div>"
      ],
      "text/plain": [
       "    manufacture_year  average_delay  flight_count\n",
       "14              2001      13.505254        491058\n",
       "17              2004      14.992950        483943\n",
       "29              2016      12.649388        413679\n",
       "18              2005      15.121638        408015\n",
       "16              2003      15.608392        374525"
      ]
     },
     "execution_count": 46,
     "metadata": {},
     "output_type": "execute_result"
    }
   ],
   "source": [
    "top5_manufactured_df = delays_by_manufacture_year_df.nlargest(5, 'flight_count')\n",
    "top5_manufactured_df"
   ]
  },
  {
   "cell_type": "markdown",
   "metadata": {},
   "source": [
    "### Key Observations\n",
    "???"
   ]
  },
  {
   "cell_type": "markdown",
   "metadata": {
    "id": "OaqRdm7DgaHw"
   },
   "source": [
    "####\n",
    "<p style='background-color: #FFFFE0; margin-top:20px; padding:5px 15px; font-weight: 500'>Savind DataFrame for futher analysis</p>"
   ]
  },
  {
   "cell_type": "code",
   "execution_count": null,
   "metadata": {
    "id": "1AFhdfaugaHx"
   },
   "outputs": [],
   "source": [
    "flight_df.to_csv(\"/Users/me/PycharmProjects/Airlines_Delays_Analysis/data/processed/flight_df_02.csv\", index=False)"
   ]
  }
 ],
 "metadata": {
  "colab": {
   "provenance": []
  },
  "kernelspec": {
   "display_name": "Python 3 (ipykernel)",
   "language": "python",
   "name": "python3"
  },
  "language_info": {
   "codemirror_mode": {
    "name": "ipython",
    "version": 3
   },
   "file_extension": ".py",
   "mimetype": "text/x-python",
   "name": "python",
   "nbconvert_exporter": "python",
   "pygments_lexer": "ipython3",
   "version": "3.12.2"
  },
  "vscode": {
   "interpreter": {
    "hash": "136089914e87e2d4f80cd8636e7ceb6fbad42888d13047c5eed4d3dfe8a58423"
   }
  }
 },
 "nbformat": 4,
 "nbformat_minor": 4
}
