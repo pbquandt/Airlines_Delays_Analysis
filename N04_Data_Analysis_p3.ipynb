{
 "cells": [
  {
   "cell_type": "markdown",
   "metadata": {
    "id": "GSGpg7lciSr0"
   },
   "source": [
    "# P5: DATA ANALYSIS: Final analysis\n",
    "\n",
    "### Notebook Description\n",
    "\n",
    "This notebook provides a final analysis of flight data and delays, this time exploring the impact of route and weather conditions on delays."
   ]
  },
  {
   "cell_type": "markdown",
   "metadata": {
    "id": "GSGpg7lciSr0"
   },
   "source": [
    "####\n",
    "## Notebook Configuration"
   ]
  },
  {
   "cell_type": "code",
   "execution_count": 1,
   "metadata": {
    "ExecuteTime": {
     "end_time": "2024-11-25T21:12:11.655685Z",
     "start_time": "2024-11-25T21:12:11.199286Z"
    },
    "id": "UuQtAJAOiSr5"
   },
   "outputs": [],
   "source": [
    "# import psycopg2\n",
    "from psycopg2 import connect\n",
    "import pandas as pd\n",
    "# from sqlalchemy import create_engine\n",
    "import matplotlib.pyplot as plt\n",
    "# import numpy as np\n",
    "# from scipy.stats import ttest_ind\n",
    "# from scipy.stats import f_oneway"
   ]
  },
  {
   "cell_type": "markdown",
   "metadata": {
    "id": "WRSC_2ogiSr6"
   },
   "source": [
    "<p style='background-color: #FFFFE0; margin-top:20px; padding:5px 15px; font-weight: 500'>Connecting to the database</p>"
   ]
  },
  {
   "cell_type": "code",
   "execution_count": 2,
   "metadata": {
    "id": "444G833ciSr7"
   },
   "outputs": [],
   "source": [
    "cnx = connect(user='postgres_user', password='coderslab', host='localhost', database='airlines')"
   ]
  },
  {
   "cell_type": "markdown",
   "metadata": {
    "id": "IlQvHCwHiSr7"
   },
   "source": [
    "<p style='background-color: #FFFFE0; margin-top:20px; padding:5px 15px; font-weight: 500'>Creating the 'read_sql_table' method to extract data from the database</p>"
   ]
  },
  {
   "cell_type": "code",
   "execution_count": 3,
   "metadata": {
    "id": "uczM1OVWiSr8"
   },
   "outputs": [],
   "source": [
    "def read_sql_table(table_name):\n",
    "    query = f\"SELECT * FROM {table_name}\"\n",
    "    cursor = cnx.cursor()\n",
    "    cursor.execute(query)\n",
    "    column_names = [desc[0] for desc in cursor.description]\n",
    "    results = cursor.fetchall()\n",
    "    cursor.close()\n",
    "    cnx.close()\n",
    "    df = pd.DataFrame(results, columns=column_names)   \n",
    "    return df"
   ]
  },
  {
   "cell_type": "markdown",
   "metadata": {
    "id": "s5VOVS0DiSr-"
   },
   "source": [
    "<p style='background-color: #FFFFE0; margin-top:20px; padding:5px 15px; font-weight: 500'>Loading the DataFrame 'flight_df_02', saved as a .csv file in the previous notebook</p>"
   ]
  },
  {
   "cell_type": "code",
   "execution_count": 4,
   "metadata": {
    "id": "1qkBzo5QiSr-"
   },
   "outputs": [],
   "source": [
    "flight_df = pd.read_csv(\"/Users/Me/Desktop/Airports_CL/data/processed/flight_df_02.csv\")"
   ]
  },
  {
   "cell_type": "code",
   "execution_count": 5,
   "metadata": {
    "id": "1qkBzo5QiSr-"
   },
   "outputs": [
    {
     "data": {
      "text/html": [
       "<div>\n",
       "<style scoped>\n",
       "    .dataframe tbody tr th:only-of-type {\n",
       "        vertical-align: middle;\n",
       "    }\n",
       "\n",
       "    .dataframe tbody tr th {\n",
       "        vertical-align: top;\n",
       "    }\n",
       "\n",
       "    .dataframe thead th {\n",
       "        text-align: right;\n",
       "    }\n",
       "</style>\n",
       "<table border=\"1\" class=\"dataframe\">\n",
       "  <thead>\n",
       "    <tr style=\"text-align: right;\">\n",
       "      <th></th>\n",
       "      <th>id</th>\n",
       "      <th>month</th>\n",
       "      <th>day_of_month</th>\n",
       "      <th>day_of_week</th>\n",
       "      <th>op_unique_carrier</th>\n",
       "      <th>tail_num</th>\n",
       "      <th>op_carrier_fl_num</th>\n",
       "      <th>origin_airport_id</th>\n",
       "      <th>dest_airport_id</th>\n",
       "      <th>crs_dep_time</th>\n",
       "      <th>...</th>\n",
       "      <th>carrier_delay</th>\n",
       "      <th>weather_delay</th>\n",
       "      <th>nas_delay</th>\n",
       "      <th>security_delay</th>\n",
       "      <th>late_aircraft_delay</th>\n",
       "      <th>is_delayed</th>\n",
       "      <th>is_weekend</th>\n",
       "      <th>distance_agg</th>\n",
       "      <th>manufacture_year</th>\n",
       "      <th>manufacture_year_agg</th>\n",
       "    </tr>\n",
       "  </thead>\n",
       "  <tbody>\n",
       "    <tr>\n",
       "      <th>0</th>\n",
       "      <td>0</td>\n",
       "      <td>1</td>\n",
       "      <td>1</td>\n",
       "      <td>2</td>\n",
       "      <td>9E</td>\n",
       "      <td>N931XJ</td>\n",
       "      <td>3290</td>\n",
       "      <td>10874</td>\n",
       "      <td>10397</td>\n",
       "      <td>600</td>\n",
       "      <td>...</td>\n",
       "      <td>NaN</td>\n",
       "      <td>NaN</td>\n",
       "      <td>NaN</td>\n",
       "      <td>NaN</td>\n",
       "      <td>NaN</td>\n",
       "      <td>False</td>\n",
       "      <td>False</td>\n",
       "      <td>(500, 600]</td>\n",
       "      <td>2008</td>\n",
       "      <td>2007</td>\n",
       "    </tr>\n",
       "    <tr>\n",
       "      <th>1</th>\n",
       "      <td>1</td>\n",
       "      <td>1</td>\n",
       "      <td>1</td>\n",
       "      <td>2</td>\n",
       "      <td>OH</td>\n",
       "      <td>N723PS</td>\n",
       "      <td>5495</td>\n",
       "      <td>10874</td>\n",
       "      <td>11057</td>\n",
       "      <td>704</td>\n",
       "      <td>...</td>\n",
       "      <td>NaN</td>\n",
       "      <td>NaN</td>\n",
       "      <td>NaN</td>\n",
       "      <td>NaN</td>\n",
       "      <td>NaN</td>\n",
       "      <td>True</td>\n",
       "      <td>False</td>\n",
       "      <td>(300, 400]</td>\n",
       "      <td>2004</td>\n",
       "      <td>2004</td>\n",
       "    </tr>\n",
       "    <tr>\n",
       "      <th>2</th>\n",
       "      <td>2</td>\n",
       "      <td>1</td>\n",
       "      <td>1</td>\n",
       "      <td>2</td>\n",
       "      <td>OH</td>\n",
       "      <td>N525EA</td>\n",
       "      <td>5416</td>\n",
       "      <td>10874</td>\n",
       "      <td>11057</td>\n",
       "      <td>1944</td>\n",
       "      <td>...</td>\n",
       "      <td>NaN</td>\n",
       "      <td>NaN</td>\n",
       "      <td>NaN</td>\n",
       "      <td>NaN</td>\n",
       "      <td>NaN</td>\n",
       "      <td>False</td>\n",
       "      <td>False</td>\n",
       "      <td>(300, 400]</td>\n",
       "      <td>2004</td>\n",
       "      <td>2004</td>\n",
       "    </tr>\n",
       "    <tr>\n",
       "      <th>3</th>\n",
       "      <td>3</td>\n",
       "      <td>1</td>\n",
       "      <td>1</td>\n",
       "      <td>2</td>\n",
       "      <td>OH</td>\n",
       "      <td>N706PS</td>\n",
       "      <td>5426</td>\n",
       "      <td>10874</td>\n",
       "      <td>11057</td>\n",
       "      <td>1521</td>\n",
       "      <td>...</td>\n",
       "      <td>NaN</td>\n",
       "      <td>NaN</td>\n",
       "      <td>NaN</td>\n",
       "      <td>NaN</td>\n",
       "      <td>NaN</td>\n",
       "      <td>False</td>\n",
       "      <td>False</td>\n",
       "      <td>(300, 400]</td>\n",
       "      <td>2004</td>\n",
       "      <td>2004</td>\n",
       "    </tr>\n",
       "    <tr>\n",
       "      <th>4</th>\n",
       "      <td>4</td>\n",
       "      <td>1</td>\n",
       "      <td>1</td>\n",
       "      <td>2</td>\n",
       "      <td>OH</td>\n",
       "      <td>N262PS</td>\n",
       "      <td>5440</td>\n",
       "      <td>10874</td>\n",
       "      <td>14100</td>\n",
       "      <td>756</td>\n",
       "      <td>...</td>\n",
       "      <td>NaN</td>\n",
       "      <td>NaN</td>\n",
       "      <td>NaN</td>\n",
       "      <td>NaN</td>\n",
       "      <td>NaN</td>\n",
       "      <td>False</td>\n",
       "      <td>False</td>\n",
       "      <td>(300, 400]</td>\n",
       "      <td>2004</td>\n",
       "      <td>2004</td>\n",
       "    </tr>\n",
       "    <tr>\n",
       "      <th>...</th>\n",
       "      <td>...</td>\n",
       "      <td>...</td>\n",
       "      <td>...</td>\n",
       "      <td>...</td>\n",
       "      <td>...</td>\n",
       "      <td>...</td>\n",
       "      <td>...</td>\n",
       "      <td>...</td>\n",
       "      <td>...</td>\n",
       "      <td>...</td>\n",
       "      <td>...</td>\n",
       "      <td>...</td>\n",
       "      <td>...</td>\n",
       "      <td>...</td>\n",
       "      <td>...</td>\n",
       "      <td>...</td>\n",
       "      <td>...</td>\n",
       "      <td>...</td>\n",
       "      <td>...</td>\n",
       "      <td>...</td>\n",
       "      <td>...</td>\n",
       "    </tr>\n",
       "    <tr>\n",
       "      <th>6922919</th>\n",
       "      <td>9251553</td>\n",
       "      <td>12</td>\n",
       "      <td>30</td>\n",
       "      <td>1</td>\n",
       "      <td>MQ</td>\n",
       "      <td>N818AE</td>\n",
       "      <td>3744</td>\n",
       "      <td>12511</td>\n",
       "      <td>13930</td>\n",
       "      <td>1411</td>\n",
       "      <td>...</td>\n",
       "      <td>2.0</td>\n",
       "      <td>0.0</td>\n",
       "      <td>0.0</td>\n",
       "      <td>0.0</td>\n",
       "      <td>31.0</td>\n",
       "      <td>True</td>\n",
       "      <td>False</td>\n",
       "      <td>(400, 500]</td>\n",
       "      <td>2002</td>\n",
       "      <td>2001</td>\n",
       "    </tr>\n",
       "    <tr>\n",
       "      <th>6922920</th>\n",
       "      <td>9251554</td>\n",
       "      <td>12</td>\n",
       "      <td>30</td>\n",
       "      <td>1</td>\n",
       "      <td>MQ</td>\n",
       "      <td>N821AE</td>\n",
       "      <td>4235</td>\n",
       "      <td>12511</td>\n",
       "      <td>11298</td>\n",
       "      <td>1615</td>\n",
       "      <td>...</td>\n",
       "      <td>NaN</td>\n",
       "      <td>NaN</td>\n",
       "      <td>NaN</td>\n",
       "      <td>NaN</td>\n",
       "      <td>NaN</td>\n",
       "      <td>False</td>\n",
       "      <td>False</td>\n",
       "      <td>(300, 400]</td>\n",
       "      <td>2002</td>\n",
       "      <td>2001</td>\n",
       "    </tr>\n",
       "    <tr>\n",
       "      <th>6922921</th>\n",
       "      <td>9251556</td>\n",
       "      <td>12</td>\n",
       "      <td>31</td>\n",
       "      <td>2</td>\n",
       "      <td>MQ</td>\n",
       "      <td>N245NN</td>\n",
       "      <td>4040</td>\n",
       "      <td>12511</td>\n",
       "      <td>11298</td>\n",
       "      <td>745</td>\n",
       "      <td>...</td>\n",
       "      <td>224.0</td>\n",
       "      <td>129.0</td>\n",
       "      <td>0.0</td>\n",
       "      <td>0.0</td>\n",
       "      <td>0.0</td>\n",
       "      <td>True</td>\n",
       "      <td>False</td>\n",
       "      <td>(300, 400]</td>\n",
       "      <td>2016</td>\n",
       "      <td>2016</td>\n",
       "    </tr>\n",
       "    <tr>\n",
       "      <th>6922922</th>\n",
       "      <td>9251557</td>\n",
       "      <td>12</td>\n",
       "      <td>31</td>\n",
       "      <td>2</td>\n",
       "      <td>MQ</td>\n",
       "      <td>N806AE</td>\n",
       "      <td>3744</td>\n",
       "      <td>12511</td>\n",
       "      <td>13930</td>\n",
       "      <td>1411</td>\n",
       "      <td>...</td>\n",
       "      <td>3.0</td>\n",
       "      <td>0.0</td>\n",
       "      <td>0.0</td>\n",
       "      <td>0.0</td>\n",
       "      <td>71.0</td>\n",
       "      <td>True</td>\n",
       "      <td>False</td>\n",
       "      <td>(400, 500]</td>\n",
       "      <td>2001</td>\n",
       "      <td>2001</td>\n",
       "    </tr>\n",
       "    <tr>\n",
       "      <th>6922923</th>\n",
       "      <td>9251558</td>\n",
       "      <td>12</td>\n",
       "      <td>31</td>\n",
       "      <td>2</td>\n",
       "      <td>MQ</td>\n",
       "      <td>N854AE</td>\n",
       "      <td>4235</td>\n",
       "      <td>12511</td>\n",
       "      <td>11298</td>\n",
       "      <td>1615</td>\n",
       "      <td>...</td>\n",
       "      <td>NaN</td>\n",
       "      <td>NaN</td>\n",
       "      <td>NaN</td>\n",
       "      <td>NaN</td>\n",
       "      <td>NaN</td>\n",
       "      <td>False</td>\n",
       "      <td>False</td>\n",
       "      <td>(300, 400]</td>\n",
       "      <td>2003</td>\n",
       "      <td>2001</td>\n",
       "    </tr>\n",
       "  </tbody>\n",
       "</table>\n",
       "<p>6922924 rows × 33 columns</p>\n",
       "</div>"
      ],
      "text/plain": [
       "              id  month  day_of_month  day_of_week op_unique_carrier tail_num  \\\n",
       "0              0      1             1            2                9E   N931XJ   \n",
       "1              1      1             1            2                OH   N723PS   \n",
       "2              2      1             1            2                OH   N525EA   \n",
       "3              3      1             1            2                OH   N706PS   \n",
       "4              4      1             1            2                OH   N262PS   \n",
       "...          ...    ...           ...          ...               ...      ...   \n",
       "6922919  9251553     12            30            1                MQ   N818AE   \n",
       "6922920  9251554     12            30            1                MQ   N821AE   \n",
       "6922921  9251556     12            31            2                MQ   N245NN   \n",
       "6922922  9251557     12            31            2                MQ   N806AE   \n",
       "6922923  9251558     12            31            2                MQ   N854AE   \n",
       "\n",
       "         op_carrier_fl_num  origin_airport_id  dest_airport_id  crs_dep_time  \\\n",
       "0                     3290              10874            10397           600   \n",
       "1                     5495              10874            11057           704   \n",
       "2                     5416              10874            11057          1944   \n",
       "3                     5426              10874            11057          1521   \n",
       "4                     5440              10874            14100           756   \n",
       "...                    ...                ...              ...           ...   \n",
       "6922919               3744              12511            13930          1411   \n",
       "6922920               4235              12511            11298          1615   \n",
       "6922921               4040              12511            11298           745   \n",
       "6922922               3744              12511            13930          1411   \n",
       "6922923               4235              12511            11298          1615   \n",
       "\n",
       "         ...  carrier_delay  weather_delay nas_delay  security_delay  \\\n",
       "0        ...            NaN            NaN       NaN             NaN   \n",
       "1        ...            NaN            NaN       NaN             NaN   \n",
       "2        ...            NaN            NaN       NaN             NaN   \n",
       "3        ...            NaN            NaN       NaN             NaN   \n",
       "4        ...            NaN            NaN       NaN             NaN   \n",
       "...      ...            ...            ...       ...             ...   \n",
       "6922919  ...            2.0            0.0       0.0             0.0   \n",
       "6922920  ...            NaN            NaN       NaN             NaN   \n",
       "6922921  ...          224.0          129.0       0.0             0.0   \n",
       "6922922  ...            3.0            0.0       0.0             0.0   \n",
       "6922923  ...            NaN            NaN       NaN             NaN   \n",
       "\n",
       "         late_aircraft_delay  is_delayed is_weekend  distance_agg  \\\n",
       "0                        NaN       False      False    (500, 600]   \n",
       "1                        NaN        True      False    (300, 400]   \n",
       "2                        NaN       False      False    (300, 400]   \n",
       "3                        NaN       False      False    (300, 400]   \n",
       "4                        NaN       False      False    (300, 400]   \n",
       "...                      ...         ...        ...           ...   \n",
       "6922919                 31.0        True      False    (400, 500]   \n",
       "6922920                  NaN       False      False    (300, 400]   \n",
       "6922921                  0.0        True      False    (300, 400]   \n",
       "6922922                 71.0        True      False    (400, 500]   \n",
       "6922923                  NaN       False      False    (300, 400]   \n",
       "\n",
       "         manufacture_year  manufacture_year_agg  \n",
       "0                    2008                  2007  \n",
       "1                    2004                  2004  \n",
       "2                    2004                  2004  \n",
       "3                    2004                  2004  \n",
       "4                    2004                  2004  \n",
       "...                   ...                   ...  \n",
       "6922919              2002                  2001  \n",
       "6922920              2002                  2001  \n",
       "6922921              2016                  2016  \n",
       "6922922              2001                  2001  \n",
       "6922923              2003                  2001  \n",
       "\n",
       "[6922924 rows x 33 columns]"
      ]
     },
     "execution_count": 5,
     "metadata": {},
     "output_type": "execute_result"
    }
   ],
   "source": [
    "flight_df"
   ]
  },
  {
   "cell_type": "markdown",
   "metadata": {
    "id": "npSQe2AriSr-"
   },
   "source": [
    "###\n",
    "## Enriching The Dataset With Additional Information From The 'airport_list' Table"
   ]
  },
  {
   "cell_type": "markdown",
   "metadata": {
    "id": "npSQe2AriSr-"
   },
   "source": [
    "<p style='background-color: #FFFFE0; margin-top:20px; padding:5px 15px; font-weight: 500'>Loading the 'airport_list' table form the database</p>"
   ]
  },
  {
   "cell_type": "code",
   "execution_count": 6,
   "metadata": {
    "id": "npSQe2AriSr-"
   },
   "outputs": [
    {
     "name": "stdout",
     "output_type": "stream",
     "text": [
      "<class 'pandas.core.frame.DataFrame'>\n",
      "RangeIndex: 97 entries, 0 to 96\n",
      "Data columns (total 5 columns):\n",
      " #   Column                Non-Null Count  Dtype \n",
      "---  ------                --------------  ----- \n",
      " 0   id                    97 non-null     int64 \n",
      " 1   origin_airport_id     97 non-null     int64 \n",
      " 2   display_airport_name  97 non-null     object\n",
      " 3   origin_city_name      97 non-null     object\n",
      " 4   name                  97 non-null     object\n",
      "dtypes: int64(2), object(3)\n",
      "memory usage: 3.9+ KB\n"
     ]
    }
   ],
   "source": [
    "airport_list_df = read_sql_table('airport_list')\n",
    "airport_list_df.info()"
   ]
  },
  {
   "cell_type": "markdown",
   "metadata": {
    "id": "npSQe2AriSr-"
   },
   "source": [
    "<p style='background-color: #FFFFE0; margin-top:20px; padding:5px 15px; font-weight: 500'>Checking for duplicate values in the 'origin_airport_id' column</p>"
   ]
  },
  {
   "cell_type": "code",
   "execution_count": 7,
   "metadata": {
    "id": "NO2RzpYDiSsA"
   },
   "outputs": [
    {
     "data": {
      "text/plain": [
       "origin_airport_id\n",
       "False    97\n",
       "Name: count, dtype: int64"
      ]
     },
     "execution_count": 7,
     "metadata": {},
     "output_type": "execute_result"
    }
   ],
   "source": [
    "duplicates_check = airport_list_df['origin_airport_id'].duplicated()\n",
    "duplicates_check.value_counts()"
   ]
  },
  {
   "cell_type": "markdown",
   "metadata": {},
   "source": [
    "(no duplicates)"
   ]
  },
  {
   "cell_type": "markdown",
   "metadata": {},
   "source": [
    "<p style='background-color: #FFFFE0; margin-top:20px; padding:5px 15px; font-weight: 500'>LEFT-joining the 'flight_df' and 'airport_list_df' DataFrames using the 'origin_airport_id' column</p>"
   ]
  },
  {
   "cell_type": "code",
   "execution_count": 8,
   "metadata": {},
   "outputs": [],
   "source": [
    "flight_df = flight_df.merge(\n",
    "    airport_list_df[['origin_airport_id', 'origin_city_name']],\n",
    "    on='origin_airport_id',\n",
    "    how='left'\n",
    ")"
   ]
  },
  {
   "cell_type": "markdown",
   "metadata": {},
   "source": [
    "<p style='background-color: #FFFFE0; margin-top:20px; padding:5px 15px; font-weight: 500'>Performing another LEFT-join between 'flight_df' and 'airport_list_df' using the 'dest_airport_id' column</p>"
   ]
  },
  {
   "cell_type": "code",
   "execution_count": 9,
   "metadata": {},
   "outputs": [],
   "source": [
    "# re-naming the 'city' column to 'origin_city_name'\n",
    "airport_list_df = airport_list_df.rename(columns={'city': 'origin_city_name'})\n",
    "\n",
    "# performing a LEFT-join\n",
    "flight_df = pd.merge(flight_df, airport_list_df[['origin_airport_id', 'origin_city_name']],\n",
    "                     left_on='dest_airport_id', right_on='origin_airport_id', how='left')"
   ]
  },
  {
   "cell_type": "markdown",
   "metadata": {},
   "source": [
    "<p style='background-color: #FFFFE0; margin-top:20px; padding:5px 15px; font-weight: 500'>Cleaning up after the LEFT-join</p>"
   ]
  },
  {
   "cell_type": "code",
   "execution_count": 10,
   "metadata": {},
   "outputs": [],
   "source": [
    "# merging the origin_airport_id_x and origin_airport_id_y columns into a single origin_airport_id column\n",
    "flight_df['origin_airport_id'] = flight_df['origin_airport_id_x'].fillna(flight_df['origin_airport_id_y'])\n",
    "\n",
    "# removing the origin_airport_id_x and origin_airport_id_y columns\n",
    "flight_df.drop(['origin_airport_id_x', 'origin_airport_id_y'], axis=1, inplace=True)\n",
    "\n",
    "# Renaming the origin_city_name_x and origin_city_name_y columns with proper names\n",
    "flight_df.rename(columns={'origin_city_name_x': 'origin_city_name'}, inplace=True)\n",
    "flight_df.rename(columns={'origin_city_name_y': 'destination_city_name'}, inplace=True)"
   ]
  },
  {
   "cell_type": "markdown",
   "metadata": {},
   "source": [
    "<p style='background-color: #FFFFE0; margin-top:20px; padding:5px 15px; font-weight: 500'>Final result</p>"
   ]
  },
  {
   "cell_type": "code",
   "execution_count": 11,
   "metadata": {},
   "outputs": [
    {
     "name": "stdout",
     "output_type": "stream",
     "text": [
      "<class 'pandas.core.frame.DataFrame'>\n",
      "RangeIndex: 6922924 entries, 0 to 6922923\n",
      "Data columns (total 35 columns):\n",
      " #   Column                 Dtype  \n",
      "---  ------                 -----  \n",
      " 0   id                     int64  \n",
      " 1   month                  int64  \n",
      " 2   day_of_month           int64  \n",
      " 3   day_of_week            int64  \n",
      " 4   op_unique_carrier      object \n",
      " 5   tail_num               object \n",
      " 6   op_carrier_fl_num      int64  \n",
      " 7   dest_airport_id        int64  \n",
      " 8   crs_dep_time           int64  \n",
      " 9   dep_time               float64\n",
      " 10  dep_delay              float64\n",
      " 11  dep_time_blk           object \n",
      " 12  crs_arr_time           int64  \n",
      " 13  arr_time               float64\n",
      " 14  arr_delay_new          float64\n",
      " 15  arr_time_blk           object \n",
      " 16  cancelled              int64  \n",
      " 17  crs_elapsed_time       float64\n",
      " 18  actual_elapsed_time    float64\n",
      " 19  distance               int64  \n",
      " 20  distance_group         int64  \n",
      " 21  year                   int64  \n",
      " 22  carrier_delay          float64\n",
      " 23  weather_delay          float64\n",
      " 24  nas_delay              float64\n",
      " 25  security_delay         float64\n",
      " 26  late_aircraft_delay    float64\n",
      " 27  is_delayed             bool   \n",
      " 28  is_weekend             bool   \n",
      " 29  distance_agg           object \n",
      " 30  manufacture_year       int64  \n",
      " 31  manufacture_year_agg   int64  \n",
      " 32  origin_city_name       object \n",
      " 33  destination_city_name  object \n",
      " 34  origin_airport_id      int64  \n",
      "dtypes: bool(2), float64(11), int64(15), object(7)\n",
      "memory usage: 1.7+ GB\n"
     ]
    }
   ],
   "source": [
    "flight_df.info()"
   ]
  },
  {
   "cell_type": "markdown",
   "metadata": {},
   "source": [
    "###\n",
    "## Further Analysis"
   ]
  },
  {
   "cell_type": "markdown",
   "metadata": {},
   "source": [
    "<p style='background-color: #FFFFE0; margin-top:20px; padding:5px 15px; font-weight: 500'>Identifying the airports with the highest number of departures</p>"
   ]
  },
  {
   "cell_type": "code",
   "execution_count": 12,
   "metadata": {
    "id": "QdcYfGq0iSsD"
   },
   "outputs": [
    {
     "data": {
      "text/html": [
       "<div>\n",
       "<style scoped>\n",
       "    .dataframe tbody tr th:only-of-type {\n",
       "        vertical-align: middle;\n",
       "    }\n",
       "\n",
       "    .dataframe tbody tr th {\n",
       "        vertical-align: top;\n",
       "    }\n",
       "\n",
       "    .dataframe thead th {\n",
       "        text-align: right;\n",
       "    }\n",
       "</style>\n",
       "<table border=\"1\" class=\"dataframe\">\n",
       "  <thead>\n",
       "    <tr style=\"text-align: right;\">\n",
       "      <th></th>\n",
       "      <th>origin_city_name</th>\n",
       "      <th>count</th>\n",
       "    </tr>\n",
       "  </thead>\n",
       "  <tbody>\n",
       "    <tr>\n",
       "      <th>13</th>\n",
       "      <td>Chicago, IL</td>\n",
       "      <td>408150</td>\n",
       "    </tr>\n",
       "    <tr>\n",
       "      <th>3</th>\n",
       "      <td>Atlanta, GA</td>\n",
       "      <td>387620</td>\n",
       "    </tr>\n",
       "    <tr>\n",
       "      <th>18</th>\n",
       "      <td>Dallas/Fort Worth, TX</td>\n",
       "      <td>294944</td>\n",
       "    </tr>\n",
       "    <tr>\n",
       "      <th>55</th>\n",
       "      <td>New York, NY</td>\n",
       "      <td>257396</td>\n",
       "    </tr>\n",
       "    <tr>\n",
       "      <th>20</th>\n",
       "      <td>Denver, CO</td>\n",
       "      <td>245160</td>\n",
       "    </tr>\n",
       "    <tr>\n",
       "      <th>...</th>\n",
       "      <td>...</td>\n",
       "      <td>...</td>\n",
       "    </tr>\n",
       "    <tr>\n",
       "      <th>52</th>\n",
       "      <td>Minneapolis, MN</td>\n",
       "      <td>11528</td>\n",
       "    </tr>\n",
       "    <tr>\n",
       "      <th>68</th>\n",
       "      <td>Portland, ME</td>\n",
       "      <td>10863</td>\n",
       "    </tr>\n",
       "    <tr>\n",
       "      <th>82</th>\n",
       "      <td>Sanford, FL</td>\n",
       "      <td>10670</td>\n",
       "    </tr>\n",
       "    <tr>\n",
       "      <th>39</th>\n",
       "      <td>Kona, HI</td>\n",
       "      <td>9268</td>\n",
       "    </tr>\n",
       "    <tr>\n",
       "      <th>41</th>\n",
       "      <td>Lihue, HI</td>\n",
       "      <td>8516</td>\n",
       "    </tr>\n",
       "  </tbody>\n",
       "</table>\n",
       "<p>94 rows × 2 columns</p>\n",
       "</div>"
      ],
      "text/plain": [
       "         origin_city_name   count\n",
       "13            Chicago, IL  408150\n",
       "3             Atlanta, GA  387620\n",
       "18  Dallas/Fort Worth, TX  294944\n",
       "55           New York, NY  257396\n",
       "20             Denver, CO  245160\n",
       "..                    ...     ...\n",
       "52        Minneapolis, MN   11528\n",
       "68           Portland, ME   10863\n",
       "82            Sanford, FL   10670\n",
       "39               Kona, HI    9268\n",
       "41              Lihue, HI    8516\n",
       "\n",
       "[94 rows x 2 columns]"
      ]
     },
     "execution_count": 12,
     "metadata": {},
     "output_type": "execute_result"
    }
   ],
   "source": [
    "top_airports_origin_df = flight_df.groupby('origin_city_name').size().reset_index(name='count')\n",
    "top_airports_origin_df = top_airports_origin_df.sort_values(by='count', ascending=False)\n",
    "top_airports_origin_df"
   ]
  },
  {
   "cell_type": "markdown",
   "metadata": {},
   "source": [
    "<p style='background-color: #FFFFE0; margin-top:20px; padding:5px 15px; font-weight: 500'>Identifying the airports with the highest number of arrivals</p>"
   ]
  },
  {
   "cell_type": "code",
   "execution_count": 13,
   "metadata": {
    "id": "QdcYfGq0iSsD"
   },
   "outputs": [
    {
     "data": {
      "text/html": [
       "<div>\n",
       "<style scoped>\n",
       "    .dataframe tbody tr th:only-of-type {\n",
       "        vertical-align: middle;\n",
       "    }\n",
       "\n",
       "    .dataframe tbody tr th {\n",
       "        vertical-align: top;\n",
       "    }\n",
       "\n",
       "    .dataframe thead th {\n",
       "        text-align: right;\n",
       "    }\n",
       "</style>\n",
       "<table border=\"1\" class=\"dataframe\">\n",
       "  <thead>\n",
       "    <tr style=\"text-align: right;\">\n",
       "      <th></th>\n",
       "      <th>destination_city_name</th>\n",
       "      <th>count</th>\n",
       "    </tr>\n",
       "  </thead>\n",
       "  <tbody>\n",
       "    <tr>\n",
       "      <th>13</th>\n",
       "      <td>Chicago, IL</td>\n",
       "      <td>407621</td>\n",
       "    </tr>\n",
       "    <tr>\n",
       "      <th>3</th>\n",
       "      <td>Atlanta, GA</td>\n",
       "      <td>387542</td>\n",
       "    </tr>\n",
       "    <tr>\n",
       "      <th>18</th>\n",
       "      <td>Dallas/Fort Worth, TX</td>\n",
       "      <td>294568</td>\n",
       "    </tr>\n",
       "    <tr>\n",
       "      <th>55</th>\n",
       "      <td>New York, NY</td>\n",
       "      <td>257345</td>\n",
       "    </tr>\n",
       "    <tr>\n",
       "      <th>20</th>\n",
       "      <td>Denver, CO</td>\n",
       "      <td>244898</td>\n",
       "    </tr>\n",
       "    <tr>\n",
       "      <th>...</th>\n",
       "      <td>...</td>\n",
       "      <td>...</td>\n",
       "    </tr>\n",
       "    <tr>\n",
       "      <th>52</th>\n",
       "      <td>Minneapolis, MN</td>\n",
       "      <td>11575</td>\n",
       "    </tr>\n",
       "    <tr>\n",
       "      <th>68</th>\n",
       "      <td>Portland, ME</td>\n",
       "      <td>10898</td>\n",
       "    </tr>\n",
       "    <tr>\n",
       "      <th>82</th>\n",
       "      <td>Sanford, FL</td>\n",
       "      <td>10658</td>\n",
       "    </tr>\n",
       "    <tr>\n",
       "      <th>39</th>\n",
       "      <td>Kona, HI</td>\n",
       "      <td>9277</td>\n",
       "    </tr>\n",
       "    <tr>\n",
       "      <th>41</th>\n",
       "      <td>Lihue, HI</td>\n",
       "      <td>8523</td>\n",
       "    </tr>\n",
       "  </tbody>\n",
       "</table>\n",
       "<p>94 rows × 2 columns</p>\n",
       "</div>"
      ],
      "text/plain": [
       "    destination_city_name   count\n",
       "13            Chicago, IL  407621\n",
       "3             Atlanta, GA  387542\n",
       "18  Dallas/Fort Worth, TX  294568\n",
       "55           New York, NY  257345\n",
       "20             Denver, CO  244898\n",
       "..                    ...     ...\n",
       "52        Minneapolis, MN   11575\n",
       "68           Portland, ME   10898\n",
       "82            Sanford, FL   10658\n",
       "39               Kona, HI    9277\n",
       "41              Lihue, HI    8523\n",
       "\n",
       "[94 rows x 2 columns]"
      ]
     },
     "execution_count": 13,
     "metadata": {},
     "output_type": "execute_result"
    }
   ],
   "source": [
    "top_airports_destination_df = flight_df.groupby('destination_city_name').size().reset_index(name='count')\n",
    "top_airports_destination_df = top_airports_destination_df.sort_values(by='count', ascending=False)\n",
    "top_airports_destination_df"
   ]
  },
  {
   "cell_type": "markdown",
   "metadata": {},
   "source": [
    "<p style='background-color: #FFFFE0; margin-top:20px; padding:5px 15px; font-weight: 500'>Identifying the most frequently traveled route</p>"
   ]
  },
  {
   "cell_type": "code",
   "execution_count": 14,
   "metadata": {},
   "outputs": [
    {
     "data": {
      "text/html": [
       "<div>\n",
       "<style scoped>\n",
       "    .dataframe tbody tr th:only-of-type {\n",
       "        vertical-align: middle;\n",
       "    }\n",
       "\n",
       "    .dataframe tbody tr th {\n",
       "        vertical-align: top;\n",
       "    }\n",
       "\n",
       "    .dataframe thead th {\n",
       "        text-align: right;\n",
       "    }\n",
       "</style>\n",
       "<table border=\"1\" class=\"dataframe\">\n",
       "  <thead>\n",
       "    <tr style=\"text-align: right;\">\n",
       "      <th></th>\n",
       "      <th>origin_city_name</th>\n",
       "      <th>destination_city_name</th>\n",
       "      <th>count</th>\n",
       "    </tr>\n",
       "  </thead>\n",
       "  <tbody>\n",
       "    <tr>\n",
       "      <th>483</th>\n",
       "      <td>Chicago, IL</td>\n",
       "      <td>New York, NY</td>\n",
       "      <td>19126</td>\n",
       "    </tr>\n",
       "  </tbody>\n",
       "</table>\n",
       "</div>"
      ],
      "text/plain": [
       "    origin_city_name destination_city_name  count\n",
       "483      Chicago, IL          New York, NY  19126"
      ]
     },
     "execution_count": 14,
     "metadata": {},
     "output_type": "execute_result"
    }
   ],
   "source": [
    "top_route_df = flight_df.groupby(['origin_city_name', 'destination_city_name']).size().reset_index(name='count')\n",
    "top_route_df = top_route_df.sort_values(by='count', ascending=False)\n",
    "top_route_df.head(1)"
   ]
  },
  {
   "cell_type": "markdown",
   "metadata": {},
   "source": [
    "<p style='background-color: #FFFFE0; margin-top:20px; padding:5px 15px; font-weight: 500'>Based on the assumption that a route has more than 500 flights, identifying the top 10 destinations with the least delays</p>"
   ]
  },
  {
   "cell_type": "code",
   "execution_count": 15,
   "metadata": {},
   "outputs": [
    {
     "data": {
      "text/html": [
       "<div>\n",
       "<style scoped>\n",
       "    .dataframe tbody tr th:only-of-type {\n",
       "        vertical-align: middle;\n",
       "    }\n",
       "\n",
       "    .dataframe tbody tr th {\n",
       "        vertical-align: top;\n",
       "    }\n",
       "\n",
       "    .dataframe thead th {\n",
       "        text-align: right;\n",
       "    }\n",
       "</style>\n",
       "<table border=\"1\" class=\"dataframe\">\n",
       "  <thead>\n",
       "    <tr style=\"text-align: right;\">\n",
       "      <th></th>\n",
       "      <th>origin_city_name</th>\n",
       "      <th>destination_city_name</th>\n",
       "      <th>total_flights</th>\n",
       "      <th>delayed_flights</th>\n",
       "      <th>delay_percentage</th>\n",
       "    </tr>\n",
       "  </thead>\n",
       "  <tbody>\n",
       "    <tr>\n",
       "      <th>1443</th>\n",
       "      <td>Kona, HI</td>\n",
       "      <td>Kahului, HI</td>\n",
       "      <td>1095</td>\n",
       "      <td>33</td>\n",
       "      <td>3.013699</td>\n",
       "    </tr>\n",
       "    <tr>\n",
       "      <th>262</th>\n",
       "      <td>Boise, ID</td>\n",
       "      <td>Portland, OR</td>\n",
       "      <td>884</td>\n",
       "      <td>41</td>\n",
       "      <td>4.638009</td>\n",
       "    </tr>\n",
       "    <tr>\n",
       "      <th>2595</th>\n",
       "      <td>Reno, NV</td>\n",
       "      <td>Portland, OR</td>\n",
       "      <td>501</td>\n",
       "      <td>25</td>\n",
       "      <td>4.990020</td>\n",
       "    </tr>\n",
       "    <tr>\n",
       "      <th>340</th>\n",
       "      <td>Burbank, CA</td>\n",
       "      <td>Lihue, HI</td>\n",
       "      <td>6940</td>\n",
       "      <td>355</td>\n",
       "      <td>5.115274</td>\n",
       "    </tr>\n",
       "    <tr>\n",
       "      <th>1377</th>\n",
       "      <td>Kahului, HI</td>\n",
       "      <td>Kona, HI</td>\n",
       "      <td>1094</td>\n",
       "      <td>58</td>\n",
       "      <td>5.301645</td>\n",
       "    </tr>\n",
       "    <tr>\n",
       "      <th>1442</th>\n",
       "      <td>Kona, HI</td>\n",
       "      <td>Burbank, CA</td>\n",
       "      <td>7792</td>\n",
       "      <td>416</td>\n",
       "      <td>5.338809</td>\n",
       "    </tr>\n",
       "    <tr>\n",
       "      <th>2493</th>\n",
       "      <td>Portland, OR</td>\n",
       "      <td>Fresno, CA</td>\n",
       "      <td>704</td>\n",
       "      <td>38</td>\n",
       "      <td>5.397727</td>\n",
       "    </tr>\n",
       "    <tr>\n",
       "      <th>1510</th>\n",
       "      <td>Lihue, HI</td>\n",
       "      <td>Burbank, CA</td>\n",
       "      <td>6933</td>\n",
       "      <td>375</td>\n",
       "      <td>5.408914</td>\n",
       "    </tr>\n",
       "    <tr>\n",
       "      <th>338</th>\n",
       "      <td>Burbank, CA</td>\n",
       "      <td>Kahului, HI</td>\n",
       "      <td>10725</td>\n",
       "      <td>584</td>\n",
       "      <td>5.445221</td>\n",
       "    </tr>\n",
       "    <tr>\n",
       "      <th>3161</th>\n",
       "      <td>Tucson, AZ</td>\n",
       "      <td>Atlanta, GA</td>\n",
       "      <td>683</td>\n",
       "      <td>39</td>\n",
       "      <td>5.710102</td>\n",
       "    </tr>\n",
       "  </tbody>\n",
       "</table>\n",
       "</div>"
      ],
      "text/plain": [
       "     origin_city_name destination_city_name  total_flights  delayed_flights  \\\n",
       "1443         Kona, HI           Kahului, HI           1095               33   \n",
       "262         Boise, ID          Portland, OR            884               41   \n",
       "2595         Reno, NV          Portland, OR            501               25   \n",
       "340       Burbank, CA             Lihue, HI           6940              355   \n",
       "1377      Kahului, HI              Kona, HI           1094               58   \n",
       "1442         Kona, HI           Burbank, CA           7792              416   \n",
       "2493     Portland, OR            Fresno, CA            704               38   \n",
       "1510        Lihue, HI           Burbank, CA           6933              375   \n",
       "338       Burbank, CA           Kahului, HI          10725              584   \n",
       "3161       Tucson, AZ           Atlanta, GA            683               39   \n",
       "\n",
       "      delay_percentage  \n",
       "1443          3.013699  \n",
       "262           4.638009  \n",
       "2595          4.990020  \n",
       "340           5.115274  \n",
       "1377          5.301645  \n",
       "1442          5.338809  \n",
       "2493          5.397727  \n",
       "1510          5.408914  \n",
       "338           5.445221  \n",
       "3161          5.710102  "
      ]
     },
     "execution_count": 15,
     "metadata": {},
     "output_type": "execute_result"
    }
   ],
   "source": [
    "# grouping by origin and destination city and count the number of flights and delayed flights\n",
    "route_delays_df = flight_df.groupby(['origin_city_name', 'destination_city_name']).agg(\n",
    "    total_flights=('id', 'size'),\n",
    "    delayed_flights=('is_delayed', 'sum')\n",
    ").reset_index()\n",
    "\n",
    "# filtering routes with more than 500 flights\n",
    "route_delays_df = route_delays_df[route_delays_df['total_flights'] > 500]\n",
    "\n",
    "# calculating the percentage of delayed flights for each route\n",
    "route_delays_df['delay_percentage'] = route_delays_df['delayed_flights'] / route_delays_df['total_flights'] * 100\n",
    "\n",
    "# sorting the DataFrame for the top 10 routes with the least delays\n",
    "least_route_delays_df = route_delays_df.sort_values(by='delay_percentage', ascending=True).head(10)\n",
    "\n",
    "least_route_delays_df"
   ]
  },
  {
   "cell_type": "markdown",
   "metadata": {},
   "source": [
    "<p style='background-color: #FFFFE0; margin-top:20px; padding:5px 15px; font-weight: 500'>Based on the assumption that a route has more than 500 flights, identifying the top 10 destinations with the most delays</p>"
   ]
  },
  {
   "cell_type": "code",
   "execution_count": 16,
   "metadata": {},
   "outputs": [
    {
     "data": {
      "text/html": [
       "<div>\n",
       "<style scoped>\n",
       "    .dataframe tbody tr th:only-of-type {\n",
       "        vertical-align: middle;\n",
       "    }\n",
       "\n",
       "    .dataframe tbody tr th {\n",
       "        vertical-align: top;\n",
       "    }\n",
       "\n",
       "    .dataframe thead th {\n",
       "        text-align: right;\n",
       "    }\n",
       "</style>\n",
       "<table border=\"1\" class=\"dataframe\">\n",
       "  <thead>\n",
       "    <tr style=\"text-align: right;\">\n",
       "      <th></th>\n",
       "      <th>origin_city_name</th>\n",
       "      <th>destination_city_name</th>\n",
       "      <th>total_flights</th>\n",
       "      <th>delayed_flights</th>\n",
       "      <th>delay_percentage</th>\n",
       "    </tr>\n",
       "  </thead>\n",
       "  <tbody>\n",
       "    <tr>\n",
       "      <th>1262</th>\n",
       "      <td>Houston, TX</td>\n",
       "      <td>Boston, MA</td>\n",
       "      <td>650</td>\n",
       "      <td>248</td>\n",
       "      <td>38.153846</td>\n",
       "    </tr>\n",
       "    <tr>\n",
       "      <th>2629</th>\n",
       "      <td>Rochester, NY</td>\n",
       "      <td>Newark, NJ</td>\n",
       "      <td>649</td>\n",
       "      <td>245</td>\n",
       "      <td>37.750385</td>\n",
       "    </tr>\n",
       "    <tr>\n",
       "      <th>1897</th>\n",
       "      <td>Myrtle Beach, SC</td>\n",
       "      <td>Newark, NJ</td>\n",
       "      <td>2542</td>\n",
       "      <td>900</td>\n",
       "      <td>35.405193</td>\n",
       "    </tr>\n",
       "    <tr>\n",
       "      <th>2099</th>\n",
       "      <td>Norfolk, VA</td>\n",
       "      <td>Newark, NJ</td>\n",
       "      <td>736</td>\n",
       "      <td>260</td>\n",
       "      <td>35.326087</td>\n",
       "    </tr>\n",
       "    <tr>\n",
       "      <th>3068</th>\n",
       "      <td>St. Louis, MO</td>\n",
       "      <td>Newark, NJ</td>\n",
       "      <td>1790</td>\n",
       "      <td>630</td>\n",
       "      <td>35.195531</td>\n",
       "    </tr>\n",
       "    <tr>\n",
       "      <th>2889</th>\n",
       "      <td>San Juan, PR</td>\n",
       "      <td>Hartford, CT</td>\n",
       "      <td>652</td>\n",
       "      <td>227</td>\n",
       "      <td>34.815951</td>\n",
       "    </tr>\n",
       "    <tr>\n",
       "      <th>155</th>\n",
       "      <td>Austin, TX</td>\n",
       "      <td>Newark, NJ</td>\n",
       "      <td>1688</td>\n",
       "      <td>581</td>\n",
       "      <td>34.419431</td>\n",
       "    </tr>\n",
       "    <tr>\n",
       "      <th>2882</th>\n",
       "      <td>San Juan, PR</td>\n",
       "      <td>Boston, MA</td>\n",
       "      <td>1102</td>\n",
       "      <td>377</td>\n",
       "      <td>34.210526</td>\n",
       "    </tr>\n",
       "    <tr>\n",
       "      <th>2252</th>\n",
       "      <td>Orlando, FL</td>\n",
       "      <td>Newark, NJ</td>\n",
       "      <td>6789</td>\n",
       "      <td>2276</td>\n",
       "      <td>33.524820</td>\n",
       "    </tr>\n",
       "    <tr>\n",
       "      <th>2403</th>\n",
       "      <td>Phoenix, AZ</td>\n",
       "      <td>Newark, NJ</td>\n",
       "      <td>2535</td>\n",
       "      <td>845</td>\n",
       "      <td>33.333333</td>\n",
       "    </tr>\n",
       "  </tbody>\n",
       "</table>\n",
       "</div>"
      ],
      "text/plain": [
       "      origin_city_name destination_city_name  total_flights  delayed_flights  \\\n",
       "1262       Houston, TX            Boston, MA            650              248   \n",
       "2629     Rochester, NY            Newark, NJ            649              245   \n",
       "1897  Myrtle Beach, SC            Newark, NJ           2542              900   \n",
       "2099       Norfolk, VA            Newark, NJ            736              260   \n",
       "3068     St. Louis, MO            Newark, NJ           1790              630   \n",
       "2889      San Juan, PR          Hartford, CT            652              227   \n",
       "155         Austin, TX            Newark, NJ           1688              581   \n",
       "2882      San Juan, PR            Boston, MA           1102              377   \n",
       "2252       Orlando, FL            Newark, NJ           6789             2276   \n",
       "2403       Phoenix, AZ            Newark, NJ           2535              845   \n",
       "\n",
       "      delay_percentage  \n",
       "1262         38.153846  \n",
       "2629         37.750385  \n",
       "1897         35.405193  \n",
       "2099         35.326087  \n",
       "3068         35.195531  \n",
       "2889         34.815951  \n",
       "155          34.419431  \n",
       "2882         34.210526  \n",
       "2252         33.524820  \n",
       "2403         33.333333  "
      ]
     },
     "execution_count": 16,
     "metadata": {},
     "output_type": "execute_result"
    }
   ],
   "source": [
    "# grouping by origin and destination city and count the number of flights and delayed flights\n",
    "route_delays_df = flight_df.groupby(['origin_city_name', 'destination_city_name']).agg(\n",
    "    total_flights=('id', 'size'),\n",
    "    delayed_flights=('is_delayed', 'sum')\n",
    ").reset_index()\n",
    "\n",
    "# filtering routes with more than 500 flights\n",
    "route_delays_df = route_delays_df[route_delays_df['total_flights'] > 500]\n",
    "\n",
    "# calculating the percentage of delayed flights for each route\n",
    "route_delays_df['delay_percentage'] = route_delays_df['delayed_flights'] / route_delays_df['total_flights'] * 100\n",
    "\n",
    "# sorting the DataFrame for the top 10 routes with the most delays\n",
    "top_route_delays_df = route_delays_df.sort_values(by='delay_percentage', ascending=False).head(10)\n",
    "\n",
    "top_route_delays_df"
   ]
  },
  {
   "cell_type": "markdown",
   "metadata": {
    "id": "ti3aFTkhiSsF"
   },
   "source": [
    " # Wzbogacenie o dane pogodowe\n",
    " Używając procedury `read_sql_table`, wczytaj tabelę `airport_weather` do ramki `airport_weather_df`. Następnie wykonaj następujące polecenia:\n",
    " 1. Pozostaw w ramce tylko następujące kolumny: `['station', 'name', 'date', 'prcp', 'snow', 'snwd', 'tmax', 'awnd']`.\n",
    " 1. Połącz ramki `airport_list_df` wraz z `airport_weather_df` po odpowiedniej kolumnie używając takiego złączenia, aby w wyniku usunąć te wiersze (lotniska), które nie posiadają danych pogodowych. Dodatkowo, upewnij się, że zostanie tylko dodana kolumna `origin_airport_id`."
   ]
  },
  {
   "cell_type": "markdown",
   "metadata": {
    "id": "XmM1BAg2iSsF"
   },
   "source": [
    " Tutaj wczytaj ramkę `airport_weather`"
   ]
  },
  {
   "cell_type": "code",
   "execution_count": null,
   "metadata": {},
   "outputs": [],
   "source": [
    "connection = psycopg2.connect(\n",
    "             host='localhost',\n",
    "             user='postgres', \n",
    "             password='p',\n",
    "             dbname='airlines'  \n",
    "             )"
   ]
  },
  {
   "cell_type": "code",
   "execution_count": null,
   "metadata": {},
   "outputs": [],
   "source": [
    "con = connect(host='localhost', database='airlines', user='postgres', password='p')\n",
    "cursor = con.cursor()"
   ]
  },
  {
   "cell_type": "code",
   "execution_count": null,
   "metadata": {
    "id": "_8K-0UuYiSsF"
   },
   "outputs": [],
   "source": [
    "airport_weather_df = read_sql_table('airport_weather')\n",
    "airport_weather_df.info()"
   ]
  },
  {
   "cell_type": "markdown",
   "metadata": {
    "id": "UUWJZl4yiSsF"
   },
   "source": [
    " Tutaj oczyść ramkę `airport_weather_df` z nadmiarowych kolumn"
   ]
  },
  {
   "cell_type": "code",
   "execution_count": null,
   "metadata": {
    "id": "uKoYzdP6iSsF",
    "scrolled": true
   },
   "outputs": [],
   "source": [
    "airport_weather_df = airport_weather_df[{'station', 'name', 'date', 'prcp', 'snow', 'snwd', 'tmax', 'awnd'}]\n",
    "airport_weather_df.info()"
   ]
  },
  {
   "cell_type": "markdown",
   "metadata": {
    "id": "OS7fYirxiSsF"
   },
   "source": [
    "Tutaj połącz ramki `airport_list_df` oraz `airport_weather_df` aktualizując `airport_weather_df`"
   ]
  },
  {
   "cell_type": "code",
   "execution_count": null,
   "metadata": {
    "id": "MtUutZM-iSsG"
   },
   "outputs": [],
   "source": [
    "airport_weather_df = pd.merge(airport_weather_df, airport_list_df[['name','origin_airport_id']], on='name', how='inner')"
   ]
  },
  {
   "cell_type": "markdown",
   "metadata": {
    "id": "Woi9xDUyiSsG"
   },
   "source": [
    " ### Sprawdzenie\n",
    " Uruchom kod poniżej, aby sprawdzić, czy ta część została poprawnie wykonana"
   ]
  },
  {
   "cell_type": "code",
   "execution_count": null,
   "metadata": {
    "id": "oJ-Hl8DIiSsG"
   },
   "outputs": [],
   "source": [
    "airport_weather_df_expected_shape = (43394, 9)\n",
    "airport_weather_df_shape = airport_weather_df.shape\n",
    "\n",
    "assert airport_weather_df_expected_shape == airport_weather_df_shape, f'Nieodpowiedni wymiar ramki airport_weather_df, oczekiwano (wierszy, kolumn): {airport_weather_df_expected_shape}'"
   ]
  },
  {
   "cell_type": "markdown",
   "metadata": {
    "id": "84aqKqmqiSsG"
   },
   "source": [
    " ## Połączenie `airport_weather_df` oraz `flight_df`\n",
    " W celu złączenia ramek `airport_weather_df` oraz `flight_df` wykonaj następujące kroki:\n",
    " 1. w ramce `aiport_weather_df` występuje kolumna `date`, zrzutuj ją na typ `DATETIME`.\n",
    " 1. w ramce `flight_df` należy stworzyć nową kolumnę o nazwie `date`. W tym celu:\n",
    " \t- złącz kolumny `month`, `day_of_month` oraz `year` razem, użyj następującego formatu daty: `YYYY-MM-DD`.\n",
    " \t- zrzutuj kolumnę `date` na typ `DATETIME`.\n",
    " 1. złącz ramki używając odpowiedniego klucza, wynik złączenia zapisz do ramki `flight_df`. Uzyj złącznia typu `LEFT JOIN`.\n",
    "\n",
    " > Dlaczego istotne jest zachowanie typów przy złączeniu?\n",
    "\n",
    "W trakcie pracy możesz posłużyć się następującymi artykułami z `LMS`:\n",
    " - `Python - analiza danych > Dzień 6 - Pandas > Merge`\n",
    " - `Python - analiza danych > Dzień 6 - Pandas > Praca z datetime`\n",
    " - Dokumentacje metody `to_datetime`: [klik](https://pandas.pydata.org/docs/reference/api/pandas.to_datetime.html)\n",
    " - Dostępne formaty dat: [klik](https://www.programiz.com/python-programming/datetime/strftime) - sekcja `Format Code List`"
   ]
  },
  {
   "cell_type": "markdown",
   "metadata": {
    "id": "3LimbS-niSsG"
   },
   "source": [
    " Tutaj zrzutuj kolumnę `date` na `DATETIME` w ramce `airport_weather_df`"
   ]
  },
  {
   "cell_type": "code",
   "execution_count": null,
   "metadata": {
    "id": "SZKRgHq1iSsG"
   },
   "outputs": [],
   "source": [
    "airport_weather_df['date'] = pd.to_datetime(airport_weather_df['date'])"
   ]
  },
  {
   "cell_type": "markdown",
   "metadata": {
    "id": "99k4j9KSiSsH"
   },
   "source": [
    " Tutaj stwórz kolumnę `date` w ramce `flight_df`. Pamiętaj, aby była ona również typu `DATETIME`"
   ]
  },
  {
   "cell_type": "code",
   "execution_count": null,
   "metadata": {
    "id": "XtcN9xcxiSsH"
   },
   "outputs": [],
   "source": [
    "flight_df['date'] = pd.to_datetime(flight_df['year'].astype(str) + '-' + flight_df['month'].astype(str) + '-' + flight_df['day_of_month'].astype(str))"
   ]
  },
  {
   "cell_type": "code",
   "execution_count": null,
   "metadata": {},
   "outputs": [],
   "source": [
    "flight_df['date'] = pd.to_datetime(flight_df['date'])"
   ]
  },
  {
   "cell_type": "markdown",
   "metadata": {
    "id": "joHaF82HiSsH"
   },
   "source": [
    " Tutaj złącz tabele `airport_weather_df` oraz `flight_df`"
   ]
  },
  {
   "cell_type": "code",
   "execution_count": null,
   "metadata": {},
   "outputs": [],
   "source": [
    "# merged_df = flight_df.join(airport_weather_df, on='date', how='left', lsuffix='_flight', rsuffix='_weather')"
   ]
  },
  {
   "cell_type": "code",
   "execution_count": null,
   "metadata": {},
   "outputs": [],
   "source": [
    "# merged_df = pd.merge(airport_weather_df, flight_df, on='origin_airport_id', how='left')"
   ]
  },
  {
   "cell_type": "code",
   "execution_count": null,
   "metadata": {},
   "outputs": [],
   "source": [
    "# merged_df = pd.merge(airport_weather_df, flight_df, on='date', how='left')"
   ]
  },
  {
   "cell_type": "code",
   "execution_count": null,
   "metadata": {},
   "outputs": [],
   "source": [
    "flight_df = flight_df.merge(airport_weather_df, on=['origin_airport_id', 'date'], how='left')"
   ]
  },
  {
   "cell_type": "markdown",
   "metadata": {
    "id": "CKYPhq-CiSsH"
   },
   "source": [
    " ### Sprawdzenie\n",
    " Uruchom kod poniżej, aby sprawdzić, czy ta część została poprawnie wykonana"
   ]
  },
  {
   "cell_type": "code",
   "execution_count": null,
   "metadata": {
    "id": "ebiyp_5SiSsH"
   },
   "outputs": [],
   "source": [
    "flight_df_expected_rows_amount = 6922924\n",
    "assert flight_df.shape[0] == flight_df_expected_rows_amount, 'Ups, zmieniła się liczba wierszy...'"
   ]
  },
  {
   "cell_type": "code",
   "execution_count": null,
   "metadata": {},
   "outputs": [],
   "source": [
    "flight_df.info()"
   ]
  },
  {
   "cell_type": "code",
   "execution_count": null,
   "metadata": {},
   "outputs": [],
   "source": [
    "flight_df.to_csv(\"/Users/Me/Desktop/Airports_CL/data/processed/flight_df_03.csv\", index=False)"
   ]
  },
  {
   "cell_type": "markdown",
   "metadata": {
    "id": "FopJHJ3-iSsH"
   },
   "source": [
    " # Praca samodzielna\n",
    " Używając `flight_df` zbadaj następujące hipotezy:\n",
    " 1. Opady śniegu w lotnisku wylotowym wpływają na **wielkość** opóźnienia lotów (kolumna `snow`).\n",
    " 1. Wielkość pokrywy śnieżnej wpływa na **wielkość** opóźnienia lotów (kolumna `snwd`).\n",
    " 1. Temperatura maksymalna wpływa na **wielkość** opóźnienia lotów (kolumna `tmax`).\n",
    " W każdym ćwiczeniu pamiętaj o uwzględnieniu tylko tych zjawisk atmosferycznych, które były zaobserwowane (`>`). Przy wykonywaniu tego zadania masz pełną dowolność.\n",
    "\n",
    "> **Wskazówka:**  \n",
    "> Pamiętaj o tym, aby każda analiza była porównywalna, tj. dokonana przy podobnych założeniach."
   ]
  },
  {
   "cell_type": "markdown",
   "metadata": {
    "id": "ot9M18lXiSsI"
   },
   "source": [
    " ## Analiza dla kolumny `snow`"
   ]
  },
  {
   "cell_type": "markdown",
   "metadata": {
    "id": "8Bfo0ZU6iSsI"
   },
   "source": [
    " ### Określenie statystyk opisowych dla kolumny `snow`"
   ]
  },
  {
   "cell_type": "code",
   "execution_count": null,
   "metadata": {
    "id": "_HYZz1UYiSsI"
   },
   "outputs": [],
   "source": [
    "flight_df['snow'].describe().round(decimals=2)"
   ]
  },
  {
   "cell_type": "markdown",
   "metadata": {},
   "source": [
    "Korelacja"
   ]
  },
  {
   "cell_type": "code",
   "execution_count": null,
   "metadata": {},
   "outputs": [],
   "source": [
    "correlation = flight_df['snow'].corr(flight_df['dep_delay'])\n",
    "correlation"
   ]
  },
  {
   "cell_type": "markdown",
   "metadata": {},
   "source": [
    "Ponieważ wynik jest bliski 0, można stwierdzić, że nie ma wystarczających dowodów na liniową zależność między opadami śniegu a opóźnieniami lotów. Oznacza to, że wielkość opóźnień lotów nie jest znacząco zmieniana przez poziom opadów śniegu w lotnisku wylotowym na podstawie dostępnych danych.\n",
    "Nie jest to jednak logiczne, więc potrzebe są dodatkowe analizy."
   ]
  },
  {
   "cell_type": "markdown",
   "metadata": {},
   "source": [
    "Test t-studenta"
   ]
  },
  {
   "cell_type": "code",
   "execution_count": null,
   "metadata": {},
   "outputs": [],
   "source": [
    "threshold = 5\n",
    "low_snow_group = flight_df[flight_df['snow'] < threshold]['dep_delay']\n",
    "high_snow_group = flight_df[flight_df['snow'] >= threshold]['dep_delay']"
   ]
  },
  {
   "cell_type": "code",
   "execution_count": null,
   "metadata": {},
   "outputs": [],
   "source": [
    "t_statistic, p_value = ttest_ind(low_snow_group, high_snow_group)\n",
    "print(\"Wartość statystyki t:\", t_statistic)\n",
    "print(\"Wartość p:\", p_value)"
   ]
  },
  {
   "cell_type": "markdown",
   "metadata": {},
   "source": [
    "Wartość statystyki t wynosząca -91.03941737145492 wskazuje na dużą różnicę między grupami opartymi na poziomach opadów śniegu. Wartość t jest ujemna, co sugeruje, że średnia wartość opóźnień lotów jest istotnie niższa w grupie z wyższymi opadami śniegu w porównaniu do grupy z niższymi opadami śniegu.\n",
    "Innymi słowy - wynik testu t-studenta sugeruje, że opady śniegu w lotnisku wylotowym mają istotny wpływ na wielkość opóźnień lotów."
   ]
  },
  {
   "cell_type": "markdown",
   "metadata": {},
   "source": [
    "Statystyka ANOVA "
   ]
  },
  {
   "cell_type": "code",
   "execution_count": null,
   "metadata": {},
   "outputs": [],
   "source": [
    "threshold1 = 2  # Próg dla niskich opadów śniegu\n",
    "threshold2 = 5  # Próg dla średnich opadów śniegu\n",
    "\n",
    "# Załóżmy, że mamy trzy grupy: niska, średnia i wysoka opady śniegu\n",
    "low_snow_group = flight_df[flight_df['snow'] < threshold1]['dep_delay']\n",
    "medium_snow_group = flight_df[(flight_df['snow'] >= threshold1) & (flight_df['snow'] < threshold2)]['dep_delay']\n",
    "high_snow_group = flight_df[flight_df['snow'] >= threshold2]['dep_delay']\n",
    "\n",
    "f_statistic, p_value = f_oneway(low_snow_group, medium_snow_group, high_snow_group)\n",
    "print(\"Wartość statystyki F:\", f_statistic)\n",
    "print(\"Wartość p:\", p_value)"
   ]
  },
  {
   "cell_type": "markdown",
   "metadata": {},
   "source": [
    "Statystyka ANOVA swoimi wynikami (wysoki poziom F oraz wartość p: 0) potwierdza hipoteze z testu t-studenta, że opady śniegu w lotnisku wylotowym mają istotny wpływ na wielkość opóźnień lotów."
   ]
  },
  {
   "cell_type": "markdown",
   "metadata": {
    "id": "71em1ElSiSsI"
   },
   "source": [
    " ## Analiza dla kolumny `snwd`"
   ]
  },
  {
   "cell_type": "markdown",
   "metadata": {
    "id": "qZ3XLzuyiSsI"
   },
   "source": [
    " ### Określenie statystyk opisowych dla kolumny `snwd`"
   ]
  },
  {
   "cell_type": "code",
   "execution_count": null,
   "metadata": {
    "id": "GQbego0SiSsI"
   },
   "outputs": [],
   "source": [
    "flight_df['snwd'].describe().round(decimals=2)"
   ]
  },
  {
   "cell_type": "markdown",
   "metadata": {},
   "source": [
    "Korelacja"
   ]
  },
  {
   "cell_type": "code",
   "execution_count": null,
   "metadata": {},
   "outputs": [],
   "source": [
    "correlation = flight_df['snwd'].corr(flight_df['dep_delay'])\n",
    "correlation"
   ]
  },
  {
   "cell_type": "markdown",
   "metadata": {},
   "source": [
    "Ponieważ wynik jest bliski 0, można stwierdzić, że nie ma wystarczających dowodów na liniową zależność między wielkością pokrywy śnieżnej a opóźnieniami lotów. Oznacza to, że wielkość opóźnień lotów nie jest znacząco zmieniana przez poziom opadów śniegu w lotnisku wylotowym na podstawie dostępnych danych.\n",
    "Nie jest to jednak logiczne, więc potrzebe są dodatkowe analizy."
   ]
  },
  {
   "cell_type": "markdown",
   "metadata": {},
   "source": [
    "Test t-studenta"
   ]
  },
  {
   "cell_type": "code",
   "execution_count": null,
   "metadata": {},
   "outputs": [],
   "source": [
    "threshold = 5\n",
    "low_snwd_group = flight_df[flight_df['snwd'] < threshold]['dep_delay']\n",
    "high_snwd_group = flight_df[flight_df['snwd'] >= threshold]['dep_delay']"
   ]
  },
  {
   "cell_type": "code",
   "execution_count": null,
   "metadata": {},
   "outputs": [],
   "source": [
    "t_statistic, p_value = ttest_ind(low_snwd_group, high_snwd_group)\n",
    "print(\"Wartość statystyki t:\", t_statistic)\n",
    "print(\"Wartość p:\", p_value)"
   ]
  },
  {
   "cell_type": "markdown",
   "metadata": {},
   "source": [
    "Wartość statystyki t wynosząca -48.746791464167075 wskazuje na dużą różnicę między grupami opartymi na poziomach wielkości pokrywy śnieżnej. Wartość t jest ujemna, co sugeruje, że średnia wartość opóźnień lotów jest istotnie niższa w grupie z większą ilością pokrywy śnieżnej w porównaniu do grupy lotnisk z mniejszą pokrywą śnieżną.\n",
    "Innymi słowy - wynik testu t-studenta sugeruje, że wielkość pokrywy śnieżnej na lotnisku wylotowym ma istotny wpływ na wielkość opóźnień lotów."
   ]
  },
  {
   "cell_type": "markdown",
   "metadata": {},
   "source": [
    "Statystyka ANOVA "
   ]
  },
  {
   "cell_type": "code",
   "execution_count": null,
   "metadata": {},
   "outputs": [],
   "source": [
    "threshold1 = 2  # Próg dla niskich opadów śniegu\n",
    "threshold2 = 5  # Próg dla średnich opadów śniegu\n",
    "\n",
    "# Załóżmy, że mamy trzy grupy: niska, średnia i wysoka opady śniegu\n",
    "low_snwd_group = flight_df[flight_df['snwd'] < threshold1]['dep_delay']\n",
    "medium_snwd_group = flight_df[(flight_df['snwd'] >= threshold1) & (flight_df['snwd'] < threshold2)]['dep_delay']\n",
    "high_snwd_group = flight_df[flight_df['snwd'] >= threshold2]['dep_delay']\n",
    "\n",
    "f_statistic, p_value = f_oneway(low_snwd_group, medium_snwd_group, high_snwd_group)\n",
    "print(\"Wartość statystyki F:\", f_statistic)\n",
    "print(\"Wartość p:\", p_value)"
   ]
  },
  {
   "cell_type": "markdown",
   "metadata": {},
   "source": [
    "Statystyka ANOVA swoimi wynikami (wysoki poziom F oraz wartość p: 0) potwierdza hipoteze z testu t-studenta, że wielkość pokrywy śnieżnej na lotnisku wylotowym ma istotny wpływ na wielkość opóźnień lotów."
   ]
  },
  {
   "cell_type": "markdown",
   "metadata": {
    "id": "esT7sp11iSsI"
   },
   "source": [
    " ## Analiza dla kolumny `tmax`"
   ]
  },
  {
   "cell_type": "markdown",
   "metadata": {
    "id": "VhDL12yxiSsI"
   },
   "source": [
    " ### Określenie statystyk opisowych dla kolumny `tmax`"
   ]
  },
  {
   "cell_type": "code",
   "execution_count": null,
   "metadata": {
    "id": "vAViuWrdiSsJ"
   },
   "outputs": [],
   "source": [
    "flight_df['tmax'].describe().round(decimals=2)"
   ]
  },
  {
   "cell_type": "markdown",
   "metadata": {},
   "source": [
    "Korelacja"
   ]
  },
  {
   "cell_type": "code",
   "execution_count": null,
   "metadata": {},
   "outputs": [],
   "source": [
    "correlation = flight_df['tmax'].corr(flight_df['dep_delay'])\n",
    "correlation"
   ]
  },
  {
   "cell_type": "markdown",
   "metadata": {},
   "source": [
    "Ponieważ wynik jest ujemny, można stwierdzić, że nie istnieje liniowa zależność między maksymalną temperaturą a opóźnieniami lotów. Jednakże jest on bardzo bliski 0, więc dla pewności, poniżej znajduje się dodatkowy test t-studenta"
   ]
  },
  {
   "cell_type": "markdown",
   "metadata": {},
   "source": [
    "Test t-studenta"
   ]
  },
  {
   "cell_type": "code",
   "execution_count": null,
   "metadata": {},
   "outputs": [],
   "source": [
    "threshold = 5\n",
    "low_tmax_group = flight_df[flight_df['tmax'] < threshold]['dep_delay']\n",
    "high_tmax_group = flight_df[flight_df['tmax'] >= threshold]['dep_delay']"
   ]
  },
  {
   "cell_type": "code",
   "execution_count": null,
   "metadata": {},
   "outputs": [],
   "source": [
    "t_statistic, p_value = ttest_ind(low_tmax_group, high_tmax_group)\n",
    "print(\"Wartość statystyki t:\", t_statistic)\n",
    "print(\"Wartość p:\", p_value)"
   ]
  },
  {
   "cell_type": "markdown",
   "metadata": {},
   "source": [
    "Na podstawie wyników testu t-studenta moża wyciagnąć wniosek, że maksymalna termeratura ma znaczący wpływ na opóźnienia lotów."
   ]
  },
  {
   "cell_type": "markdown",
   "metadata": {
    "id": "B9pXYHV_iSsJ"
   },
   "source": [
    "# Podsumowanie\n",
    "W tej części warsztatu dokonaliśmy kompleksowej analizy posiadanego zbioru danych. Eksploracja\n",
    "pozwoliła nam na zapoznanie się z cechami charakterystycznymi lotów - wiemy już, które \n",
    "zmienne mogą mieć wpływ na opóźnienia lotów, a które nie. Co warto podkreślić, skupiliśmy się na wielu\n",
    "aspektach tej analizy, co otwiera potencjalnie również inne możliwości dalszej pracy nad tą bazą.\n",
    "\n",
    "W tym momencie przejdziemy do kolejnego kroku, w którym, na podstawie tej analizy, przygotujemy \n",
    "system raportowy. Zanim jednak stworzymy dashboard, potrzebujemy zaktualizować naszą bazę danych."
   ]
  }
 ],
 "metadata": {
  "colab": {
   "provenance": []
  },
  "kernelspec": {
   "display_name": "Python 3 (ipykernel)",
   "language": "python",
   "name": "python3"
  },
  "language_info": {
   "codemirror_mode": {
    "name": "ipython",
    "version": 3
   },
   "file_extension": ".py",
   "mimetype": "text/x-python",
   "name": "python",
   "nbconvert_exporter": "python",
   "pygments_lexer": "ipython3",
   "version": "3.12.2"
  },
  "vscode": {
   "interpreter": {
    "hash": "136089914e87e2d4f80cd8636e7ceb6fbad42888d13047c5eed4d3dfe8a58423"
   }
  }
 },
 "nbformat": 4,
 "nbformat_minor": 4
}
