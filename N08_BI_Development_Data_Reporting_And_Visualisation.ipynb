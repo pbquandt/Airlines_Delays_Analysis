{
 "cells": [
  {
   "cell_type": "markdown",
   "metadata": {},
   "source": [
    "# N08: BI DEVELOPMENT - Building The Reporting Schema\n",
    " \n",
    "## Notebook Description\n",
    "\n",
    "In this notebook, an analytical and reporting system will be developed to inform future business decisions. As a first step, the following data visualizations will be created:\n",
    "\n",
    "1. **Displaying the top 10 airports by departures**, also displaying the number of arrivals in a table format\n",
    "2. **Displaying the top 10 flight routes**, with the lowest percentage of delays in a table format\n",
    "3. **Displaying a comparison of 2019 and 2020**, in the form of a bar chart\n",
    "   - Monthly comparison\n",
    "   - Weekly day-by-day comparison\n",
    "4. **Displaying day-by-day data**, in the form of a time series\n",
    "\n",
    "The report will be structured into three sections: `TOP Report`, `Comparison`, and `Day-by-Day Reliability`.\n",
    "\n",
    "By utilizing the previously predefined database views (N05_Data_Engineering_Building_Reporting_Schema), the need for additional data processing and handling is eliminated. Additionally, technical aspects such as row counts, joins, and filters are offloaded to the database, reducing the volume of data exchanged between the service and the database."
   ]
  },
  {
   "cell_type": "markdown",
   "metadata": {},
   "source": [
    "####\n",
    "## Notebook Configuration"
   ]
  },
  {
   "cell_type": "markdown",
   "metadata": {},
   "source": [
    "<p style='background-color: #FFFFE0; margin-top:20px; padding:5px 15px; font-weight: 500'>Libraries import</p>"
   ]
  },
  {
   "cell_type": "code",
   "execution_count": 1,
   "metadata": {
    "id": "O0YTT6cij_Mv",
    "jupyter": {
     "is_executing": true
    }
   },
   "outputs": [],
   "source": [
    "from psycopg2 import connect\n",
    "import pandas as pd\n",
    "import matplotlib.pyplot as plt\n",
    "from io import BytesIO\n",
    "import base64\n",
    "import dash\n",
    "from dash import dash_table, dcc, html\n",
    "from dash.dependencies import Input, Output, State\n",
    "from db_auth import USER, PASSWORD"
   ]
  },
  {
   "cell_type": "markdown",
   "metadata": {
    "id": "6Hpb9_tbj_Mw"
   },
   "source": [
    "<p style='background-color: #FFFFE0; margin-top:20px; padding:5px 15px; font-weight: 500'>Connecting to the database</p>"
   ]
  },
  {
   "cell_type": "code",
   "execution_count": 2,
   "metadata": {
    "id": "tykW5rZ6j_Mx"
   },
   "outputs": [],
   "source": [
    "cnx = connect(user=USER, password=PASSWORD, host='localhost', database='airlines')\n",
    "cursor = cnx.cursor()"
   ]
  },
  {
   "cell_type": "markdown",
   "metadata": {},
   "source": [
    "###\n",
    "## Displaying The Top 10 Reliable Airports By Departure"
   ]
  },
  {
   "cell_type": "markdown",
   "metadata": {
    "id": "6Hpb9_tbj_Mw"
   },
   "source": [
    "<p style='background-color: #FFFFE0; margin-top:20px; padding:5px 15px; font-weight: 500'>Defining SQL query</p>"
   ]
  },
  {
   "cell_type": "code",
   "execution_count": 3,
   "metadata": {},
   "outputs": [],
   "source": [
    "sql_query_top_10_airports = \"\"\"SELECT \n",
    "                                    al.display_airport_name AS Airport, \n",
    "                                    f.year AS Year, \n",
    "                                    ROUND(CAST(SUM(f.nas_delay) AS numeric) / CAST(COUNT(*) AS numeric), 2) AS Reliability, \n",
    "                                    DENSE_RANK() OVER (ORDER BY ROUND(CAST(SUM(f.nas_delay) AS numeric) / CAST(COUNT(*) AS numeric), 2) DESC) AS Rank \n",
    "                                FROM \n",
    "                                    flight AS f\n",
    "                                LEFT JOIN \n",
    "                                    airport_list AS al ON f.origin_airport_id = al.origin_airport_id\n",
    "                                GROUP BY \n",
    "                                    al.display_airport_name, \n",
    "                                    f.year\n",
    "                                HAVING \n",
    "                                    COUNT(*) > 10000\n",
    "                                ORDER BY \n",
    "                                    Reliability DESC\n",
    "                                LIMIT 10\n",
    "                                \"\"\""
   ]
  },
  {
   "cell_type": "markdown",
   "metadata": {
    "id": "6Hpb9_tbj_Mw"
   },
   "source": [
    "<p style='background-color: #FFFFE0; margin-top:20px; padding:5px 15px; font-weight: 500'>Fetching data from the 'reporting.top_reliability_roads' view</p>"
   ]
  },
  {
   "cell_type": "code",
   "execution_count": 4,
   "metadata": {
    "id": "Q42mfUu0j_M1",
    "scrolled": true
   },
   "outputs": [],
   "source": [
    "cursor.execute(sql_query_top_10_airports)\n",
    "top_airports_data = cursor.fetchall()\n",
    "columns = [desc[0] for desc in cursor.description]\n",
    "top_airports_df = pd.DataFrame(top_airports_data, columns=columns)"
   ]
  },
  {
   "cell_type": "markdown",
   "metadata": {
    "id": "6Hpb9_tbj_Mw"
   },
   "source": [
    "<p style='background-color: #FFFFE0; margin-top:20px; padding:5px 15px; font-weight: 500'>\n",
    "Changing the number format in the 'reliability' column to a percentage format</p>"
   ]
  },
  {
   "cell_type": "code",
   "execution_count": 5,
   "metadata": {},
   "outputs": [],
   "source": [
    "top_airports_df['reliability'] = top_airports_df['reliability'].apply(lambda x: '{:.2%}'.format(x / 100))"
   ]
  },
  {
   "cell_type": "markdown",
   "metadata": {
    "id": "6Hpb9_tbj_Mw"
   },
   "source": [
    "<p style='background-color: #FFFFE0; margin-top:20px; padding:5px 15px; font-weight: 500'>Renaming the columns</p>"
   ]
  },
  {
   "cell_type": "code",
   "execution_count": 6,
   "metadata": {
    "id": "lBslN4wPj_M2",
    "scrolled": true
   },
   "outputs": [],
   "source": [
    "top_airports_df = top_airports_df.rename(columns={'airport': 'departure airport name'})"
   ]
  },
  {
   "cell_type": "code",
   "execution_count": 7,
   "metadata": {
    "id": "Q42mfUu0j_M1",
    "scrolled": true
   },
   "outputs": [
    {
     "data": {
      "text/html": [
       "<div>\n",
       "<style scoped>\n",
       "    .dataframe tbody tr th:only-of-type {\n",
       "        vertical-align: middle;\n",
       "    }\n",
       "\n",
       "    .dataframe tbody tr th {\n",
       "        vertical-align: top;\n",
       "    }\n",
       "\n",
       "    .dataframe thead th {\n",
       "        text-align: right;\n",
       "    }\n",
       "</style>\n",
       "<table border=\"1\" class=\"dataframe\">\n",
       "  <thead>\n",
       "    <tr style=\"text-align: right;\">\n",
       "      <th></th>\n",
       "      <th>departure airport name</th>\n",
       "      <th>year</th>\n",
       "      <th>reliability</th>\n",
       "      <th>rank</th>\n",
       "    </tr>\n",
       "  </thead>\n",
       "  <tbody>\n",
       "    <tr>\n",
       "      <th>0</th>\n",
       "      <td>Portland International Jetport</td>\n",
       "      <td>2019</td>\n",
       "      <td>5.82%</td>\n",
       "      <td>1</td>\n",
       "    </tr>\n",
       "    <tr>\n",
       "      <th>1</th>\n",
       "      <td>Palm Beach International</td>\n",
       "      <td>2019</td>\n",
       "      <td>5.49%</td>\n",
       "      <td>2</td>\n",
       "    </tr>\n",
       "    <tr>\n",
       "      <th>2</th>\n",
       "      <td>Northwest Arkansas Regional</td>\n",
       "      <td>2019</td>\n",
       "      <td>5.17%</td>\n",
       "      <td>3</td>\n",
       "    </tr>\n",
       "    <tr>\n",
       "      <th>3</th>\n",
       "      <td>Minneapolis-St Paul International</td>\n",
       "      <td>2019</td>\n",
       "      <td>5.09%</td>\n",
       "      <td>4</td>\n",
       "    </tr>\n",
       "    <tr>\n",
       "      <th>4</th>\n",
       "      <td>Newark Liberty International</td>\n",
       "      <td>2019</td>\n",
       "      <td>4.92%</td>\n",
       "      <td>5</td>\n",
       "    </tr>\n",
       "    <tr>\n",
       "      <th>5</th>\n",
       "      <td>John F. Kennedy International</td>\n",
       "      <td>2019</td>\n",
       "      <td>4.84%</td>\n",
       "      <td>6</td>\n",
       "    </tr>\n",
       "    <tr>\n",
       "      <th>6</th>\n",
       "      <td>Rochester Monroe County</td>\n",
       "      <td>2019</td>\n",
       "      <td>4.81%</td>\n",
       "      <td>7</td>\n",
       "    </tr>\n",
       "    <tr>\n",
       "      <th>7</th>\n",
       "      <td>Richmond International</td>\n",
       "      <td>2019</td>\n",
       "      <td>4.69%</td>\n",
       "      <td>8</td>\n",
       "    </tr>\n",
       "    <tr>\n",
       "      <th>8</th>\n",
       "      <td>LaGuardia</td>\n",
       "      <td>2019</td>\n",
       "      <td>4.64%</td>\n",
       "      <td>9</td>\n",
       "    </tr>\n",
       "    <tr>\n",
       "      <th>9</th>\n",
       "      <td>Cincinnati/Northern Kentucky International</td>\n",
       "      <td>2019</td>\n",
       "      <td>4.60%</td>\n",
       "      <td>10</td>\n",
       "    </tr>\n",
       "  </tbody>\n",
       "</table>\n",
       "</div>"
      ],
      "text/plain": [
       "                       departure airport name  year reliability  rank\n",
       "0              Portland International Jetport  2019       5.82%     1\n",
       "1                    Palm Beach International  2019       5.49%     2\n",
       "2                 Northwest Arkansas Regional  2019       5.17%     3\n",
       "3           Minneapolis-St Paul International  2019       5.09%     4\n",
       "4                Newark Liberty International  2019       4.92%     5\n",
       "5               John F. Kennedy International  2019       4.84%     6\n",
       "6                     Rochester Monroe County  2019       4.81%     7\n",
       "7                      Richmond International  2019       4.69%     8\n",
       "8                                   LaGuardia  2019       4.64%     9\n",
       "9  Cincinnati/Northern Kentucky International  2019       4.60%    10"
      ]
     },
     "execution_count": 7,
     "metadata": {},
     "output_type": "execute_result"
    }
   ],
   "source": [
    "top_airports_df"
   ]
  },
  {
   "cell_type": "markdown",
   "metadata": {},
   "source": [
    "###\n",
    "## Displaying The Top 10 Most Reliable Routes"
   ]
  },
  {
   "cell_type": "markdown",
   "metadata": {
    "id": "6Hpb9_tbj_Mw"
   },
   "source": [
    "<p style='background-color: #FFFFE0; margin-top:20px; padding:5px 15px; font-weight: 500'>Defining SQL query</p>"
   ]
  },
  {
   "cell_type": "code",
   "execution_count": 8,
   "metadata": {},
   "outputs": [],
   "source": [
    "sql_query_top_10_routes = \"\"\"SELECT \n",
    "                                origin_airport_name AS Origin, \n",
    "                                dest_airport_name AS Destination, \n",
    "                                year AS Year, \n",
    "                                reliability AS Reliability, \n",
    "                                nb AS Rank \n",
    "                            FROM reporting.top_reliability_roads \n",
    "                            ORDER BY nb \n",
    "                            LIMIT 10\n",
    "                            \"\"\""
   ]
  },
  {
   "cell_type": "markdown",
   "metadata": {
    "id": "6Hpb9_tbj_Mw"
   },
   "source": [
    "<p style='background-color: #FFFFE0; margin-top:20px; padding:5px 15px; font-weight: 500'>Fetching data from the 'reporting.top_reliability_roads' view</p>"
   ]
  },
  {
   "cell_type": "code",
   "execution_count": 9,
   "metadata": {
    "id": "Q42mfUu0j_M1",
    "scrolled": true
   },
   "outputs": [],
   "source": [
    "cursor.execute(sql_query_top_10_routes)\n",
    "top_routes_data = cursor.fetchall()\n",
    "columns = [desc[0] for desc in cursor.description]\n",
    "top_routes_df = pd.DataFrame(top_routes_data, columns=columns)"
   ]
  },
  {
   "cell_type": "markdown",
   "metadata": {
    "id": "6Hpb9_tbj_Mw"
   },
   "source": [
    "<p style='background-color: #FFFFE0; margin-top:20px; padding:5px 15px; font-weight: 500'>\n",
    "Changing the number format in the 'reliability' column to a percentage format</p>"
   ]
  },
  {
   "cell_type": "code",
   "execution_count": 10,
   "metadata": {},
   "outputs": [],
   "source": [
    "top_routes_df['reliability'] = top_routes_df['reliability'].apply(lambda x: '{:.2%}'.format(x / 100))"
   ]
  },
  {
   "cell_type": "markdown",
   "metadata": {
    "id": "6Hpb9_tbj_Mw"
   },
   "source": [
    "<p style='background-color: #FFFFE0; margin-top:20px; padding:5px 15px; font-weight: 500'>Renaming the columns</p>"
   ]
  },
  {
   "cell_type": "code",
   "execution_count": 11,
   "metadata": {
    "id": "lBslN4wPj_M2",
    "scrolled": true
   },
   "outputs": [],
   "source": [
    "top_routes_df = top_routes_df.rename(columns={'origin': 'origin airport', 'destination': 'destination airport'})"
   ]
  },
  {
   "cell_type": "code",
   "execution_count": 12,
   "metadata": {
    "scrolled": true
   },
   "outputs": [
    {
     "data": {
      "text/html": [
       "<div>\n",
       "<style scoped>\n",
       "    .dataframe tbody tr th:only-of-type {\n",
       "        vertical-align: middle;\n",
       "    }\n",
       "\n",
       "    .dataframe tbody tr th {\n",
       "        vertical-align: top;\n",
       "    }\n",
       "\n",
       "    .dataframe thead th {\n",
       "        text-align: right;\n",
       "    }\n",
       "</style>\n",
       "<table border=\"1\" class=\"dataframe\">\n",
       "  <thead>\n",
       "    <tr style=\"text-align: right;\">\n",
       "      <th></th>\n",
       "      <th>origin airport</th>\n",
       "      <th>destination airport</th>\n",
       "      <th>year</th>\n",
       "      <th>reliability</th>\n",
       "      <th>rank</th>\n",
       "    </tr>\n",
       "  </thead>\n",
       "  <tbody>\n",
       "    <tr>\n",
       "      <th>0</th>\n",
       "      <td>Chicago O'Hare International</td>\n",
       "      <td>LaGuardia</td>\n",
       "      <td>2019</td>\n",
       "      <td>11.09%</td>\n",
       "      <td>1</td>\n",
       "    </tr>\n",
       "    <tr>\n",
       "      <th>1</th>\n",
       "      <td>LaGuardia</td>\n",
       "      <td>Chicago O'Hare International</td>\n",
       "      <td>2019</td>\n",
       "      <td>9.13%</td>\n",
       "      <td>2</td>\n",
       "    </tr>\n",
       "    <tr>\n",
       "      <th>2</th>\n",
       "      <td>Logan International</td>\n",
       "      <td>LaGuardia</td>\n",
       "      <td>2019</td>\n",
       "      <td>8.38%</td>\n",
       "      <td>3</td>\n",
       "    </tr>\n",
       "    <tr>\n",
       "      <th>3</th>\n",
       "      <td>Los Angeles International</td>\n",
       "      <td>San Francisco International</td>\n",
       "      <td>2019</td>\n",
       "      <td>8.00%</td>\n",
       "      <td>4</td>\n",
       "    </tr>\n",
       "    <tr>\n",
       "      <th>4</th>\n",
       "      <td>LaGuardia</td>\n",
       "      <td>Logan International</td>\n",
       "      <td>2019</td>\n",
       "      <td>5.66%</td>\n",
       "      <td>5</td>\n",
       "    </tr>\n",
       "    <tr>\n",
       "      <th>5</th>\n",
       "      <td>Los Angeles International</td>\n",
       "      <td>John F. Kennedy International</td>\n",
       "      <td>2019</td>\n",
       "      <td>5.09%</td>\n",
       "      <td>6</td>\n",
       "    </tr>\n",
       "    <tr>\n",
       "      <th>6</th>\n",
       "      <td>John F. Kennedy International</td>\n",
       "      <td>Los Angeles International</td>\n",
       "      <td>2019</td>\n",
       "      <td>4.24%</td>\n",
       "      <td>7</td>\n",
       "    </tr>\n",
       "    <tr>\n",
       "      <th>7</th>\n",
       "      <td>San Francisco International</td>\n",
       "      <td>Los Angeles International</td>\n",
       "      <td>2019</td>\n",
       "      <td>2.94%</td>\n",
       "      <td>8</td>\n",
       "    </tr>\n",
       "    <tr>\n",
       "      <th>8</th>\n",
       "      <td>McCarran International</td>\n",
       "      <td>Los Angeles International</td>\n",
       "      <td>2019</td>\n",
       "      <td>2.26%</td>\n",
       "      <td>9</td>\n",
       "    </tr>\n",
       "    <tr>\n",
       "      <th>9</th>\n",
       "      <td>Los Angeles International</td>\n",
       "      <td>McCarran International</td>\n",
       "      <td>2019</td>\n",
       "      <td>2.14%</td>\n",
       "      <td>10</td>\n",
       "    </tr>\n",
       "  </tbody>\n",
       "</table>\n",
       "</div>"
      ],
      "text/plain": [
       "                  origin airport            destination airport  year  \\\n",
       "0   Chicago O'Hare International                      LaGuardia  2019   \n",
       "1                      LaGuardia   Chicago O'Hare International  2019   \n",
       "2            Logan International                      LaGuardia  2019   \n",
       "3      Los Angeles International    San Francisco International  2019   \n",
       "4                      LaGuardia            Logan International  2019   \n",
       "5      Los Angeles International  John F. Kennedy International  2019   \n",
       "6  John F. Kennedy International      Los Angeles International  2019   \n",
       "7    San Francisco International      Los Angeles International  2019   \n",
       "8         McCarran International      Los Angeles International  2019   \n",
       "9      Los Angeles International         McCarran International  2019   \n",
       "\n",
       "  reliability  rank  \n",
       "0      11.09%     1  \n",
       "1       9.13%     2  \n",
       "2       8.38%     3  \n",
       "3       8.00%     4  \n",
       "4       5.66%     5  \n",
       "5       5.09%     6  \n",
       "6       4.24%     7  \n",
       "7       2.94%     8  \n",
       "8       2.26%     9  \n",
       "9       2.14%    10  "
      ]
     },
     "execution_count": 12,
     "metadata": {},
     "output_type": "execute_result"
    }
   ],
   "source": [
    "top_routes_df"
   ]
  },
  {
   "cell_type": "markdown",
   "metadata": {},
   "source": [
    "###\n",
    "## Displaying a Comparison Of 2019 And 2020"
   ]
  },
  {
   "cell_type": "markdown",
   "metadata": {},
   "source": [
    "#### Month-to-Month"
   ]
  },
  {
   "cell_type": "markdown",
   "metadata": {
    "id": "6Hpb9_tbj_Mw"
   },
   "source": [
    "<p style='background-color: #FFFFE0; margin-top:20px; padding:5px 15px; font-weight: 500'>Defining SQL query</p>"
   ]
  },
  {
   "cell_type": "code",
   "execution_count": 13,
   "metadata": {
    "id": "WeMPGv8Jj_M4"
   },
   "outputs": [],
   "source": [
    "sql_query_mom = \"SELECT * FROM reporting.month_to_month_comparision\""
   ]
  },
  {
   "cell_type": "markdown",
   "metadata": {
    "id": "6Hpb9_tbj_Mw"
   },
   "source": [
    "<p style='background-color: #FFFFE0; margin-top:20px; padding:5px 15px; font-weight: 500'>Fetching data from the for 'reporting.month_to_month_comparision' view</p>"
   ]
  },
  {
   "cell_type": "code",
   "execution_count": 14,
   "metadata": {
    "id": "WeMPGv8Jj_M4"
   },
   "outputs": [],
   "source": [
    "cursor.execute(sql_query_mom)\n",
    "mom_comparision_data = cursor.fetchall()\n",
    "columns = [desc[0] for desc in cursor.description]\n",
    "mom_comparision_df = pd.DataFrame(mom_comparision_data, columns=columns)"
   ]
  },
  {
   "cell_type": "markdown",
   "metadata": {
    "id": "6Hpb9_tbj_Mw"
   },
   "source": [
    "<p style='background-color: #FFFFE0; margin-top:20px; padding:5px 15px; font-weight: 500'>\n",
    "Transforming the results into the format expected by a bar chart</p>"
   ]
  },
  {
   "cell_type": "code",
   "execution_count": 15,
   "metadata": {},
   "outputs": [],
   "source": [
    "mom_comparision_df['reliability'] = mom_comparision_df['reliability'].astype(float)"
   ]
  },
  {
   "cell_type": "code",
   "execution_count": 16,
   "metadata": {
    "id": "GNsamu6qj_M5"
   },
   "outputs": [],
   "source": [
    "mom_comparision_to_plot_df = mom_comparision_df.pivot(index='month', columns='year', values='reliability')"
   ]
  },
  {
   "cell_type": "markdown",
   "metadata": {
    "id": "6Hpb9_tbj_Mw"
   },
   "source": [
    "<p style='background-color: #FFFFE0; margin-top:20px; padding:5px 15px; font-weight: 500'>Drawing a bar chart</p>"
   ]
  },
  {
   "cell_type": "code",
   "execution_count": 17,
   "metadata": {
    "id": "8HM7T1JGj_M6"
   },
   "outputs": [
    {
     "data": {
      "image/png": "[encoded data removed]",
      "text/plain": [
       "<Figure size 1000x600 with 1 Axes>"
      ]
     },
     "metadata": {},
     "output_type": "display_data"
    }
   ],
   "source": [
    "mom_comparision_fig = mom_comparision_to_plot_df.plot(kind='bar', figsize=(10, 6))\n",
    "mom_comparision_fig.set_xlabel('Month')\n",
    "mom_comparision_fig.set_ylabel('Reliability')\n",
    "mom_comparision_fig.set_title('Month to Month Comparison: 2019 vs. 2020')\n",
    "plt.show()"
   ]
  },
  {
   "cell_type": "markdown",
   "metadata": {},
   "source": [
    "### Key Observations\n",
    "\n",
    "##### General Comparison (2019 vs. 2020):\n",
    "<li>Reliability in 2019 is consistently higher across all months compared to 2020, indicating that 2019 had a more stable or efficient operational environment.</li>\n",
    "<li>2020 shows a noticeable decline in reliability across most months, which could be attributed to disruptions like the COVID-19 pandemic or other significant operational challenges.</li>\n",
    "\n",
    "##### 2020 Monthly Trends:\n",
    "<li>Reliability in 2020 is relatively higher in January and February, aligning with the pre-pandemic period where operations might not yet have been affected.</li>\n",
    "<li>Starting in March 2020, reliability drops significantly, which is likely linked to the onset of the COVID-19 pandemic and its associated disruptions (e.g., reduced staffing, route adjustments, or increased cancellations).</li>\n",
    "\n",
    "##### 2019 Stability:\n",
    "<li>Reliability remains relatively stable throughout 2019, suggesting that the operations during that year were largely unaffected by major external disruptions.</li>\n",
    "<li>Some variations across months are visible, but the overall trend is consistent with reliable performance.</li>\n",
    "\n",
    "##### Impact of Global Events:\n",
    "<li>The drastic drop in reliability in 2020 likely reflects the challenges brought by the pandemic, including flight cancellations, schedule disruptions, and reduced airline capacity.</li>\n",
    "<br>\n",
    "The graph highlights the significant decline in reliability in 2020 compared to 2019, likely due to the COVID-19 pandemic's impact on global aviation operations. While 2019 demonstrates a relatively stable performance across all months, 2020 exhibits a sharp decline starting in March, with the lowest reliability observed in the subsequent months. These findings emphasize the operational challenges airlines faced during 2020 and the drastic impact of global events on reliability metrics."
   ]
  },
  {
   "cell_type": "markdown",
   "metadata": {},
   "source": [
    "###\n",
    "#### Day-to-Day"
   ]
  },
  {
   "cell_type": "markdown",
   "metadata": {
    "id": "6Hpb9_tbj_Mw"
   },
   "source": [
    "<p style='background-color: #FFFFE0; margin-top:20px; padding:5px 15px; font-weight: 500'>Defining SQL query</p>"
   ]
  },
  {
   "cell_type": "code",
   "execution_count": 18,
   "metadata": {
    "id": "uGkE3fqnj_M6"
   },
   "outputs": [],
   "source": [
    "sql_query_dod = \"SELECT * FROM reporting.day_to_day_comparision\""
   ]
  },
  {
   "cell_type": "markdown",
   "metadata": {
    "id": "6Hpb9_tbj_Mw"
   },
   "source": [
    "<p style='background-color: #FFFFE0; margin-top:20px; padding:5px 15px; font-weight: 500'>Fetching data from the for 'reporting.day_to_day_comparision' view</p>"
   ]
  },
  {
   "cell_type": "code",
   "execution_count": 19,
   "metadata": {
    "id": "uGkE3fqnj_M6"
   },
   "outputs": [],
   "source": [
    "cursor.execute(sql_query_dod)\n",
    "dod_comparision_data = cursor.fetchall()\n",
    "columns = [desc[0] for desc in cursor.description]\n",
    "dod_comparision_df = pd.DataFrame(dod_comparision_data, columns=columns)"
   ]
  },
  {
   "cell_type": "markdown",
   "metadata": {
    "id": "6Hpb9_tbj_Mw"
   },
   "source": [
    "<p style='background-color: #FFFFE0; margin-top:20px; padding:5px 15px; font-weight: 500'>\n",
    "Transforming the results into the format expected by a bar chart</p>"
   ]
  },
  {
   "cell_type": "code",
   "execution_count": 20,
   "metadata": {
    "id": "pATfMkRRj_M7"
   },
   "outputs": [],
   "source": [
    "dod_comparision_to_plot_df = dod_comparision_df.pivot(index='day_of_week', columns='year', values='flights_amount')"
   ]
  },
  {
   "cell_type": "markdown",
   "metadata": {
    "id": "6Hpb9_tbj_Mw"
   },
   "source": [
    "<p style='background-color: #FFFFE0; margin-top:20px; padding:5px 15px; font-weight: 500'>Drawing a bar chart</p>"
   ]
  },
  {
   "cell_type": "code",
   "execution_count": 21,
   "metadata": {
    "id": "fJ0LGCtUj_M7",
    "scrolled": true
   },
   "outputs": [
    {
     "data": {
      "image/png": "[encoded data removed]",
      "text/plain": [
       "<Figure size 1000x600 with 1 Axes>"
      ]
     },
     "metadata": {},
     "output_type": "display_data"
    }
   ],
   "source": [
    "dod_comparision_fig = dod_comparision_to_plot_df.plot(kind='bar', figsize=(10, 6))\n",
    "dod_comparision_fig.set_xlabel('Day of the Week')\n",
    "dod_comparision_fig.set_ylabel('Flights Amount')\n",
    "dod_comparision_fig.set_title('Day to Day Comparison: 2019 vs. 2020')\n",
    "plt.show()"
   ]
  },
  {
   "cell_type": "markdown",
   "metadata": {},
   "source": [
    "### Key Observations\n",
    "\n",
    "##### Comparison Between 2019 and 2020\n",
    "<li>2019 consistently has a much higher flight volume across all days of the week compared to 2020. This indicates that flight operations were substantially reduced in 2020.</li>\n",
    "<li>The significant drop in flight amounts in 2020 likely reflects the impact of the COVID-19 pandemic, which led to reduced travel demand and flight cancellations globally.</li>\n",
    "\n",
    "##### Consistency Across Days\n",
    "<li>In both years, flight operations are relatively consistent across the days of the week, with no significant variation in flight volumes for specific days.</li>\n",
    "<li>This suggests that flight schedules were evenly distributed throughout the week in both years, regardless of the overall reduction in 2020.</li>\n",
    "\n",
    "##### Magnitude of Reduction in 2020\n",
    "<li>Flight amounts in 2020 are approximately one-fifth of the levels seen in 2019 across all days. This reflects the severity of the operational challenges faced by airlines during the pandemic.</li>\n",
    "\n",
    "##### Operational Impact of the Pandemic\n",
    "<li>The sharp reduction in flight volume highlights the massive disruption to the aviation industry in 2020, affecting all days of the week equally.</li>\n",
    "\n",
    "<br>\n",
    "The graph illustrates the drastic decline in flight operations in 2020 compared to 2019, likely caused by the COVID-19 pandemic. While the total flight amount was significantly lower in 2020, the distribution of flights across the days of the week remained consistent, reflecting a uniform impact of the pandemic on aviation schedules. These findings underscore the extensive challenges faced by the airline industry during this period."
   ]
  },
  {
   "cell_type": "markdown",
   "metadata": {},
   "source": [
    "###\n",
    "## Displaying `day-by-day` Reliability Data As Time Series"
   ]
  },
  {
   "cell_type": "markdown",
   "metadata": {
    "id": "6Hpb9_tbj_Mw"
   },
   "source": [
    "<p style='background-color: #FFFFE0; margin-top:20px; padding:5px 15px; font-weight: 500'>Defining SQL query</p>"
   ]
  },
  {
   "cell_type": "code",
   "execution_count": 22,
   "metadata": {
    "id": "xompqov3j_M8"
   },
   "outputs": [],
   "source": [
    "sql_query_dbd_reliability_2019 = \"SELECT * FROM reporting.day_by_day_reliability WHERE year = 2019\"\n",
    "sql_query_dbd_reliability_2020 = \"SELECT * FROM reporting.day_by_day_reliability WHERE year = 2020\""
   ]
  },
  {
   "cell_type": "markdown",
   "metadata": {
    "id": "6Hpb9_tbj_Mw"
   },
   "source": [
    "<p style='background-color: #FFFFE0; margin-top:20px; padding:5px 15px; font-weight: 500'>Fetching data from the for 'reporting.day_by_day_reliability' view</p>"
   ]
  },
  {
   "cell_type": "code",
   "execution_count": 23,
   "metadata": {
    "id": "xompqov3j_M8"
   },
   "outputs": [],
   "source": [
    "# fetch data for 2019\n",
    "cursor.execute(sql_query_dbd_reliability_2019)\n",
    "dbd_reliability_data_2019 = cursor.fetchall()\n",
    "columns = [desc[0] for desc in cursor.description]\n",
    "df_2019 = pd.DataFrame(dbd_reliability_data_2019, columns=columns)\n",
    "\n",
    "# fetch data for 2020\n",
    "cursor.execute(sql_query_dbd_reliability_2020)\n",
    "dbd_reliability_data_2020 = cursor.fetchall()\n",
    "df_2020 = pd.DataFrame(dbd_reliability_data_2020, columns=columns)"
   ]
  },
  {
   "cell_type": "markdown",
   "metadata": {
    "id": "6Hpb9_tbj_Mw"
   },
   "source": [
    "<p style='background-color: #FFFFE0; margin-top:20px; padding:5px 15px; font-weight: 500'>Plotting a time series chart</p>"
   ]
  },
  {
   "cell_type": "code",
   "execution_count": 24,
   "metadata": {
    "id": "HLVoZHzLj_M8"
   },
   "outputs": [
    {
     "data": {
      "image/png": "[encoded data removed]",
      "text/plain": [
       "<Figure size 1000x600 with 1 Axes>"
      ]
     },
     "metadata": {},
     "output_type": "display_data"
    }
   ],
   "source": [
    "dbd_reliability_fig = plt.figure(figsize=(10, 6))\n",
    "plt.plot(df_2019['date'], df_2019['reliability'], color='blue', label='2019')\n",
    "plt.plot(df_2020['date'], df_2020['reliability'], color='red', label='2020')\n",
    "plt.xlabel('Date')\n",
    "plt.ylabel('Reliability')\n",
    "plt.title('Day by Day Reliability: 2019 and 2020')\n",
    "plt.legend()\n",
    "plt.show()"
   ]
  },
  {
   "cell_type": "markdown",
   "metadata": {},
   "source": [
    "### Key Observations\n",
    "\n",
    "##### 2019 Reliability Trends\n",
    "<li>Reliability in 2019 remains consistently high throughout the year, with fluctuations that likely reflect normal operational variations and seasonal factors.</li>\n",
    "<li>There is no major decline or significant disruption in reliability for 2019, suggesting a relatively stable year for flight operations.</li>\n",
    "\n",
    "##### 2020 Reliability Trends\n",
    "<li>Reliability in 2020 starts at similar levels to 2019 in early January and February.</li>\n",
    "<li>A sharp decline in reliability begins in March 2020, which coincides with the onset of the COVID-19 pandemic. This suggests a strong correlation between the pandemic and the operational challenges faced by the airline industry, such as flight cancellations, route disruptions, and reduced capacity.</li>\n",
    "\n",
    "##### Impact of the Pandemic\n",
    "<li>The dramatic drop in reliability in 2020 indicates that the pandemic caused widespread disruptions to flight operations, severely impacting the aviation sector by March 2020.</li>\n",
    "\n",
    "##### Comparison Between Years\n",
    "<li>2019 exhibits a relatively steady reliability pattern, reflecting typical airline operations unaffected by major external disruptions.\n",
    "<li>2020 shows a progressive and severe decline in reliability, with levels falling significantly below 2019 levels as the pandemic took hold.</li>\n",
    "\n",
    "<br>\n",
    "The graph highlights the stability of flight operations in 2019 compared to the sharp decline in reliability in early 2020, driven by the COVID-19 pandemic. While the beginning of 2020 mirrors the reliability patterns of 2019, March 2020 marks a critical turning point, with reliability dropping drastically as the aviation industry faced unprecedented challenges. This underscores the severe operational disruptions caused by global events like the pandemic."
   ]
  },
  {
   "cell_type": "markdown",
   "metadata": {
    "id": "xfJEY7Opj_M8"
   },
   "source": [
    "###\n",
    "## DASH Display"
   ]
  },
  {
   "cell_type": "markdown",
   "metadata": {},
   "source": [
    "### Constructing Views and Layouts With Retrieved Data"
   ]
  },
  {
   "cell_type": "markdown",
   "metadata": {
    "id": "6Hpb9_tbj_Mw"
   },
   "source": [
    "<p style='background-color: #FFFFE0; margin-top:20px; padding:5px 15px; font-weight: 500'>Creating a Plotly-compatible figure for the Day-to-Day comparison</p>"
   ]
  },
  {
   "cell_type": "code",
   "execution_count": 25,
   "metadata": {
    "id": "fJ0LGCtUj_M7",
    "scrolled": true
   },
   "outputs": [],
   "source": [
    "dod_comparision_fig = {\n",
    "    'data': [\n",
    "        {'x': dod_comparision_to_plot_df.index, 'y': dod_comparision_to_plot_df[2019], 'type': 'bar', 'name': '2019'},\n",
    "        {'x': dod_comparision_to_plot_df.index, 'y': dod_comparision_to_plot_df[2020], 'type': 'bar', 'name': '2020'},\n",
    "    ],\n",
    "    'layout': {\n",
    "        'title': 'Day-to-Day Comparison: 2019 vs. 2020',\n",
    "        'xaxis': {'title': 'Day of Week'},\n",
    "        'yaxis': {'title': 'Flights Amount'},\n",
    "    }\n",
    "}"
   ]
  },
  {
   "cell_type": "markdown",
   "metadata": {
    "id": "6Hpb9_tbj_Mw"
   },
   "source": [
    "<p style='background-color: #FFFFE0; margin-top:20px; padding:5px 15px; font-weight: 500'>Creating a Plotly-compatible figure for the Month-to-Month comparison</p>"
   ]
  },
  {
   "cell_type": "code",
   "execution_count": 26,
   "metadata": {
    "id": "8HM7T1JGj_M6"
   },
   "outputs": [],
   "source": [
    "mom_comparision_fig = {\n",
    "    'data': [\n",
    "        {'x': mom_comparision_to_plot_df.index, 'y': mom_comparision_to_plot_df[2019], 'type': 'bar', 'name': '2019'},\n",
    "        {'x': mom_comparision_to_plot_df.index, 'y': mom_comparision_to_plot_df[2020], 'type': 'bar', 'name': '2020'},\n",
    "    ],\n",
    "    'layout': {\n",
    "        'title': 'Month-to-Month Comparison: 2019 vs. 2020',\n",
    "        'xaxis': {'title': 'Month'},\n",
    "        'yaxis': {'title': 'Reliability'},\n",
    "    }\n",
    "}\n"
   ]
  },
  {
   "cell_type": "markdown",
   "metadata": {
    "id": "6Hpb9_tbj_Mw"
   },
   "source": [
    "<p style='background-color: #FFFFE0; margin-top:20px; padding:5px 15px; font-weight: 500'>Transforming the 'day-by-day' reliability time-series plot into a BytesIO object and encoding it in base64</p>"
   ]
  },
  {
   "cell_type": "code",
   "execution_count": 27,
   "metadata": {
    "id": "xompqov3j_M8"
   },
   "outputs": [],
   "source": [
    "img = BytesIO()\n",
    "dbd_reliability_fig.savefig(img, format='png')\n",
    "img.seek(0)\n",
    "dbd_reliability_fig_base64 = base64.b64encode(img.getvalue()).decode('utf-8')\n",
    "img.close()"
   ]
  },
  {
   "cell_type": "markdown",
   "metadata": {},
   "source": [
    "###\n",
    "### DASH Display Configuration"
   ]
  },
  {
   "cell_type": "markdown",
   "metadata": {
    "id": "6Hpb9_tbj_Mw"
   },
   "source": [
    "<p style='background-color: #FFFFE0; margin-top:20px; padding:5px 15px; font-weight: 500'>Creating the layout and navigation for the DASH display</p>"
   ]
  },
  {
   "cell_type": "code",
   "execution_count": 28,
   "metadata": {
    "id": "q5NFy19nj_M_"
   },
   "outputs": [],
   "source": [
    "app = dash.Dash(__name__)\n",
    "\n",
    "app.layout = html.Div([\n",
    "    dcc.Location(id='url', refresh=False),\n",
    "    html.Button(\"Go to TOP 10 Airports\", id=\"btn-top-ten-airports\", n_clicks=0),\n",
    "    html.Button(\"Go to TOP 10 Routes\", id=\"btn-top-ten-routes\", n_clicks=0),\n",
    "    html.Button(\"Go to Comparision\", id=\"btn-comparision\", n_clicks=0),\n",
    "    html.Button(\"Go to Day by Day Reporting\", id=\"btn-day-by-day\", n_clicks=0),\n",
    "    html.Div(id='page-content')\n",
    "])"
   ]
  },
  {
   "cell_type": "markdown",
   "metadata": {
    "id": "6Hpb9_tbj_Mw"
   },
   "source": [
    "<p style='background-color: #FFFFE0; margin-top:20px; padding:5px 15px; font-weight: 500'>Configuring the display's navigation</p>"
   ]
  },
  {
   "cell_type": "code",
   "execution_count": 29,
   "metadata": {
    "id": "ij1te2toj_M_"
   },
   "outputs": [],
   "source": [
    "@app.callback(Output('url', 'pathname'),\n",
    "              [Input('btn-top-ten-airports', 'n_clicks'),\n",
    "               Input('btn-top-ten-routes', 'n_clicks'),\n",
    "                Input('btn-comparision', 'n_clicks'),\n",
    "               Input('btn-day-by-day', 'n_clicks')],\n",
    "              [State('url', 'pathname')])\n",
    "def update_url(btn_top_ten_airports_clicks, btn_top_ten_routes_clicks, btn_comparision_clicks, btn_day_by_day_clicks, current_path):\n",
    "    ctx = dash.callback_context\n",
    "    if not ctx.triggered:\n",
    "        return current_path\n",
    "    else:\n",
    "        button_id = ctx.triggered[0][\"prop_id\"].split(\".\")[0]\n",
    "        if button_id == \"btn-top-ten-airports\":\n",
    "            return \"/\"\n",
    "        elif button_id == \"btn-top-ten-routes\":\n",
    "            return \"/top_ten_routes\"\n",
    "        elif button_id == \"btn-comparision\":\n",
    "            return \"/comparision_reporting\"\n",
    "        elif button_id == \"btn-day-by-day\":\n",
    "            return \"/day_by_day_reporting\"\n",
    "        else:\n",
    "            return current_path"
   ]
  },
  {
   "cell_type": "code",
   "execution_count": 30,
   "metadata": {},
   "outputs": [],
   "source": [
    "@app.callback(Output('page-content', 'children'),\n",
    "              [Input('url', 'pathname')])\n",
    "def display_page(pathname):\n",
    "    if pathname == '/':\n",
    "        return html.Div([html.H3(\"TOP 10 Most Reliable Airports By Departure\"), \n",
    "                         dash_table.DataTable(\n",
    "            id='top-airports-table',\n",
    "            columns=[{\"name\": i, \"id\": i} for i in top_airports_df.columns],\n",
    "            data=top_airports_df.to_dict('records')\n",
    "        )])\n",
    "    elif pathname == '/top_ten_routes':\n",
    "        return html.Div([html.H3(\"TOP 10 Most Reliable Routes\"), \n",
    "                         dash_table.DataTable(\n",
    "            id='top-routes-table',\n",
    "            columns=[{\"name\": j, \"id\": j} for j in top_routes_df.columns],\n",
    "            data=top_routes_df.to_dict('records')\n",
    "        )])    \n",
    "    elif pathname == '/comparision_reporting':\n",
    "        return html.Div([dcc.Graph(figure=mom_comparision_fig),\n",
    "                         dcc.Graph(figure=dod_comparision_fig)])\n",
    "    elif pathname == '/day_by_day_reporting':\n",
    "        return html.Div(html.Img(src=f\"data:image/png;base64,{dbd_reliability_fig_base64}\"))\n",
    "    else:\n",
    "        return html.Div([html.H3(\"404: Page not found\")])"
   ]
  },
  {
   "cell_type": "markdown",
   "metadata": {
    "id": "6Hpb9_tbj_Mw"
   },
   "source": [
    "<p style='background-color: #FFFFE0; margin-top:20px; padding:5px 15px; font-weight: 500'>Starting the DASH display</p>"
   ]
  },
  {
   "cell_type": "code",
   "execution_count": 31,
   "metadata": {
    "id": "TG6iAtqyj_NA"
   },
   "outputs": [
    {
     "data": {
      "text/html": [
       "\n",
       "        <iframe\n",
       "            width=\"100%\"\n",
       "            height=\"650\"\n",
       "            src=\"http://127.0.0.1:8050/\"\n",
       "            frameborder=\"0\"\n",
       "            allowfullscreen\n",
       "            \n",
       "        ></iframe>\n",
       "        "
      ],
      "text/plain": [
       "<IPython.lib.display.IFrame at 0x116d4ff80>"
      ]
     },
     "metadata": {},
     "output_type": "display_data"
    }
   ],
   "source": [
    "if __name__ == '__main__':\n",
    "    app.run_server(debug=False)   "
   ]
  },
  {
   "cell_type": "code",
   "execution_count": null,
   "metadata": {},
   "outputs": [],
   "source": [
    "# Local URL\n",
    "# http://127.0.0.1:8050/"
   ]
  }
 ],
 "metadata": {
  "colab": {
   "provenance": []
  },
  "kernelspec": {
   "display_name": "Python 3 (ipykernel)",
   "language": "python",
   "name": "python3"
  },
  "language_info": {
   "codemirror_mode": {
    "name": "ipython",
    "version": 3
   },
   "file_extension": ".py",
   "mimetype": "text/x-python",
   "name": "python",
   "nbconvert_exporter": "python",
   "pygments_lexer": "ipython3",
   "version": "3.12.3"
  }
 },
 "nbformat": 4,
 "nbformat_minor": 4
}
