{
 "cells": [
  {
   "cell_type": "markdown",
   "metadata": {},
   "source": [
    "# N02: DATA ENGINEERING: Database Creation\n",
    "\n",
    "## Notebook Description\n",
    "\n",
    "The purpose of this notebook is to set up a dedicated local PostgreSQL database, along with the table structures specified in the `database_schema.sql` file"
   ]
  },
  {
   "cell_type": "markdown",
   "metadata": {},
   "source": [
    "###\n",
    "## Notebook Configuration"
   ]
  },
  {
   "cell_type": "markdown",
   "metadata": {},
   "source": [
    "<p style='background-color: #FFFFE0; margin-top:20px; padding:5px 15px; font-weight: 500'>Libraries import</p>"
   ]
  },
  {
   "cell_type": "code",
   "metadata": {
    "ExecuteTime": {
     "end_time": "2024-11-29T11:24:19.601538Z",
     "start_time": "2024-11-29T11:24:19.593111Z"
    }
   },
   "source": [
    "from psycopg2 import connect"
   ],
   "outputs": [],
   "execution_count": 1
  },
  {
   "cell_type": "markdown",
   "metadata": {},
   "source": [
    "###\n",
    "## Database Creation"
   ]
  },
  {
   "cell_type": "markdown",
   "metadata": {},
   "source": [
    "<p style='background-color: #FFFFE0; margin-top:20px; padding:5px 15px; font-weight: 500'>Creating a new database 'airlines'</p>"
   ]
  },
  {
   "cell_type": "code",
   "metadata": {
    "ExecuteTime": {
     "end_time": "2024-11-29T11:24:19.754234Z",
     "start_time": "2024-11-29T11:24:19.602307Z"
    }
   },
   "source": [
    "def select(sql):\n",
    "    try:\n",
    "        cnx = connect(user='postgres_user', password='coderslab', host='localhost', database='postgres')\n",
    "        cnx.autocommit = True\n",
    "        cursor = cnx.cursor()\n",
    "        cursor.execute(sql)\n",
    "        cursor.close()\n",
    "        cnx.close()\n",
    "    except Exception as e:\n",
    "        print(f\"{e}\")\n",
    "\n",
    "sql = \"CREATE DATABASE airlines;\"\n",
    "select(sql)"
   ],
   "outputs": [],
   "execution_count": 2
  },
  {
   "cell_type": "markdown",
   "metadata": {},
   "source": [
    "<p style='background-color: #FFFFE0; margin-top:20px; padding:5px 15px; font-weight: 500'>Connecting to the 'airlines' database</p>"
   ]
  },
  {
   "cell_type": "code",
   "metadata": {
    "ExecuteTime": {
     "end_time": "2024-11-29T11:24:19.761612Z",
     "start_time": "2024-11-29T11:24:19.754918Z"
    }
   },
   "source": [
    "cnx = connect(user='postgres_user', password='coderslab', host='localhost', database='airlines')\n",
    "cursor = cnx.cursor()"
   ],
   "outputs": [],
   "execution_count": 3
  },
  {
   "cell_type": "markdown",
   "metadata": {},
   "source": [
    "<p style='background-color: #FFFFE0; margin-top:20px; padding:5px 15px; font-weight: 500'>Loading the 'database_schema.sql' file into database</p>"
   ]
  },
  {
   "cell_type": "code",
   "metadata": {
    "ExecuteTime": {
     "end_time": "2024-11-29T11:24:19.764976Z",
     "start_time": "2024-11-29T11:24:19.762899Z"
    }
   },
   "source": [
    "schema_file = '/Users/me/PycharmProjects/Airlines_Delays_Analysis/sql/database_schema.sql'\n",
    "with open(schema_file, 'r') as file:\n",
    "    schema_queries = file.read()"
   ],
   "outputs": [],
   "execution_count": 4
  },
  {
   "cell_type": "code",
   "metadata": {
    "ExecuteTime": {
     "end_time": "2024-11-29T11:24:19.767319Z",
     "start_time": "2024-11-29T11:24:19.765717Z"
    }
   },
   "source": [
    "queries = schema_queries.split(';')"
   ],
   "outputs": [],
   "execution_count": 5
  },
  {
   "cell_type": "code",
   "metadata": {
    "ExecuteTime": {
     "end_time": "2024-11-29T11:24:19.775187Z",
     "start_time": "2024-11-29T11:24:19.767899Z"
    }
   },
   "source": [
    "for query in queries:\n",
    "    cursor.execute(query)"
   ],
   "outputs": [],
   "execution_count": 6
  },
  {
   "cell_type": "code",
   "metadata": {
    "ExecuteTime": {
     "end_time": "2024-11-29T11:24:19.777548Z",
     "start_time": "2024-11-29T11:24:19.775809Z"
    }
   },
   "source": [
    "cnx.commit()"
   ],
   "outputs": [],
   "execution_count": 7
  },
  {
   "cell_type": "markdown",
   "metadata": {},
   "source": [
    "<p style='background-color: #FFFFE0; margin-top:20px; padding:5px 15px; font-weight: 500'>Checking whether the tables have been created</p>"
   ]
  },
  {
   "cell_type": "code",
   "metadata": {
    "ExecuteTime": {
     "end_time": "2024-11-29T11:24:19.779768Z",
     "start_time": "2024-11-29T11:24:19.778090Z"
    }
   },
   "source": [
    "def check_if_table_exists(table_name):\n",
    "    msg = f\"Checking if the table '{table_name}' exists\"\n",
    "    print(msg)\n",
    "    query = f\"select 1 from {table_name}\"\n",
    "    cursor.execute(query)\n",
    "    print('Table exists!')"
   ],
   "outputs": [],
   "execution_count": 8
  },
  {
   "cell_type": "code",
   "metadata": {
    "ExecuteTime": {
     "end_time": "2024-11-29T11:24:19.782136Z",
     "start_time": "2024-11-29T11:24:19.780521Z"
    }
   },
   "source": [
    "tables_to_test = [\n",
    "    'aircraft',\n",
    "    'airport_weather',\n",
    "    'flight',\n",
    "    'airport_list'\n",
    "]"
   ],
   "outputs": [],
   "execution_count": 9
  },
  {
   "cell_type": "code",
   "metadata": {
    "ExecuteTime": {
     "end_time": "2024-11-29T11:24:19.786485Z",
     "start_time": "2024-11-29T11:24:19.783679Z"
    }
   },
   "source": [
    "for table in tables_to_test:\n",
    "    check_if_table_exists(table)"
   ],
   "outputs": [
    {
     "name": "stdout",
     "output_type": "stream",
     "text": [
      "Checking if the table 'aircraft' exists\n",
      "Table exists!\n",
      "Checking if the table 'airport_weather' exists\n",
      "Table exists!\n",
      "Checking if the table 'flight' exists\n",
      "Table exists!\n",
      "Checking if the table 'airport_list' exists\n",
      "Table exists!\n"
     ]
    }
   ],
   "execution_count": 10
  },
  {
   "cell_type": "code",
   "metadata": {
    "ExecuteTime": {
     "end_time": "2024-11-29T11:24:19.788561Z",
     "start_time": "2024-11-29T11:24:19.787047Z"
    }
   },
   "source": [
    "cursor.close()\n",
    "cnx.close()\n",
    "\n",
    "msg = \"Everything looks good!\"\n",
    "print(msg)"
   ],
   "outputs": [
    {
     "name": "stdout",
     "output_type": "stream",
     "text": [
      "Everything looks good!\n"
     ]
    }
   ],
   "execution_count": 11
  }
 ],
 "metadata": {
  "kernelspec": {
   "display_name": "Python 3 (ipykernel)",
   "language": "python",
   "name": "python3"
  },
  "language_info": {
   "codemirror_mode": {
    "name": "ipython",
    "version": 3
   },
   "file_extension": ".py",
   "mimetype": "text/x-python",
   "name": "python",
   "nbconvert_exporter": "python",
   "pygments_lexer": "ipython3",
   "version": "3.12.2"
  },
  "vscode": {
   "interpreter": {
    "hash": "9b2e3ed8f662d376c33c57cbfb268747fd53751e2c8e228ca6074e1644efdc03"
   }
  }
 },
 "nbformat": 4,
 "nbformat_minor": 4
}
