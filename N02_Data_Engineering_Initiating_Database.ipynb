{
 "cells": [
  {
   "cell_type": "markdown",
   "metadata": {},
   "source": [
    "# P2: DATA ENGINEERING: Database creation\n",
    "\n",
    "### Notebook Description\n",
    "\n",
    "The purpose of this notebook is to set up a dedicated local PostgreSQL database, along with the table structures specified in the database_schema.sql file"
   ]
  },
  {
   "cell_type": "markdown",
   "metadata": {},
   "source": [
    "<p style='background-color: #FFFFE0; margin-top:20px; padding:5px 15px; font-weight: 500'>Libraries import</p>"
   ]
  },
  {
   "cell_type": "code",
   "metadata": {
    "ExecuteTime": {
     "end_time": "2024-11-21T20:55:32.638722Z",
     "start_time": "2024-11-21T20:55:32.630099Z"
    }
   },
   "source": [
    "from psycopg2 import connect"
   ],
   "outputs": [],
   "execution_count": 1
  },
  {
   "cell_type": "markdown",
   "metadata": {},
   "source": [
    "<p style='background-color: #FFFFE0; margin-top:20px; padding:5px 15px; font-weight: 500'>Creating a new database 'airlines'</p>"
   ]
  },
  {
   "cell_type": "code",
   "execution_count": 5,
   "metadata": {},
   "outputs": [],
   "source": [
    "def select(sql):\n",
    "    try:\n",
    "        cnx = connect(user='postgres_user', password='coderslab', host='localhost', database='postgres')\n",
    "        cnx.autocommit = True\n",
    "        cursor = cnx.cursor()\n",
    "        cursor.execute(sql)\n",
    "        cursor.close()\n",
    "        cnx.close()\n",
    "    except Exception as e:\n",
    "        print(f\"{e}\")\n",
    "\n",
    "sql = \"CREATE DATABASE airlines;\"\n",
    "select(sql)"
   ]
  },
  {
   "cell_type": "markdown",
   "metadata": {},
   "source": [
    "<p style='background-color: #FFFFE0; margin-top:20px; padding:5px 15px; font-weight: 500'>Connecting to the 'airlines' database</p>"
   ]
  },
  {
   "cell_type": "code",
   "execution_count": 7,
   "metadata": {},
   "outputs": [],
   "source": [
    "cnx = connect(user='postgres_user', password='coderslab', host='localhost', database='airlines')\n",
    "cursor = cnx.cursor()"
   ]
  },
  {
   "cell_type": "markdown",
   "metadata": {},
   "source": [
    "<p style='background-color: #FFFFE0; margin-top:20px; padding:5px 15px; font-weight: 500'>Loading the 'database_schema.sql' file into database</p>"
   ]
  },
  {
   "cell_type": "code",
   "execution_count": 9,
   "metadata": {},
   "outputs": [],
   "source": [
    "schema_file = '/Users/me/PycharmProjects/Airlines_Delays_Analysis/sql/database_schema.sql'\n",
    "with open(schema_file, 'r') as file:\n",
    "    schema_queries = file.read()"
   ]
  },
  {
   "cell_type": "code",
   "execution_count": 10,
   "metadata": {},
   "outputs": [],
   "source": [
    "queries = schema_queries.split(';')"
   ]
  },
  {
   "cell_type": "code",
   "execution_count": 11,
   "metadata": {},
   "outputs": [],
   "source": [
    "for query in queries:\n",
    "    cursor.execute(query)"
   ]
  },
  {
   "cell_type": "code",
   "execution_count": 12,
   "metadata": {},
   "outputs": [],
   "source": [
    "cnx.commit()"
   ]
  },
  {
   "cell_type": "markdown",
   "metadata": {},
   "source": [
    "<p style='background-color: #FFFFE0; margin-top:20px; padding:5px 15px; font-weight: 500'>Checking whether the tables have been created</p>"
   ]
  },
  {
   "cell_type": "code",
   "execution_count": 14,
   "metadata": {},
   "outputs": [],
   "source": [
    "def check_if_table_exists(table_name):\n",
    "    msg = f\"Checking if the table: {table_name} exists\"\n",
    "    print(msg)\n",
    "    query = f\"select 1 from {table_name}\"\n",
    "    cursor.execute(query)\n",
    "    print('OK!')"
   ]
  },
  {
   "cell_type": "code",
   "execution_count": 15,
   "metadata": {},
   "outputs": [],
   "source": [
    "tables_to_test = [\n",
    "    'aircraft',\n",
    "    'airport_weather',\n",
    "    'flight',\n",
    "    'airport_list'\n",
    "]"
   ]
  },
  {
   "cell_type": "code",
   "execution_count": 16,
   "metadata": {},
   "outputs": [
    {
     "name": "stdout",
     "output_type": "stream",
     "text": [
      "Checking if the table: aircraft exists\n",
      "OK!\n",
      "Checking if the table: airport_weather exists\n",
      "OK!\n",
      "Checking if the table: flight exists\n",
      "OK!\n",
      "Checking if the table: airport_list exists\n",
      "OK!\n"
     ]
    }
   ],
   "source": [
    "for table in tables_to_test:\n",
    "    check_if_table_exists(table)"
   ]
  },
  {
   "cell_type": "code",
   "execution_count": 17,
   "metadata": {},
   "outputs": [],
   "source": [
    "cursor.close()\n",
    "cnx.close()"
   ]
  }
 ],
 "metadata": {
  "kernelspec": {
   "display_name": "Python 3 (ipykernel)",
   "language": "python",
   "name": "python3"
  },
  "language_info": {
   "codemirror_mode": {
    "name": "ipython",
    "version": 3
   },
   "file_extension": ".py",
   "mimetype": "text/x-python",
   "name": "python",
   "nbconvert_exporter": "python",
   "pygments_lexer": "ipython3",
   "version": "3.12.2"
  },
  "vscode": {
   "interpreter": {
    "hash": "9b2e3ed8f662d376c33c57cbfb268747fd53751e2c8e228ca6074e1644efdc03"
   }
  }
 },
 "nbformat": 4,
 "nbformat_minor": 4
}
