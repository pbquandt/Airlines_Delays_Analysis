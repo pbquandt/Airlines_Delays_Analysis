{
 "cells": [
  {
   "cell_type": "markdown",
   "metadata": {
    "id": "GSGpg7lciSr0"
   },
   "source": [
    "# P5: DATA REPORTING AND VISUALISATION p1 - database and views set-up\n",
    " \n",
    "## Notebook Description\n",
    "\n",
    "The following reporting areas have been defined:\n",
    "\n",
    "1. **Top 10 airports by number of departures**, also displaying the number of arrivals (view: `top_airports_by_departure`).\n",
    "2. **Top 10 routes by reliability**, with a minimum of 10,000 flights on the route. The route order matters, e.g., (Warsaw, Paris) is different from (Paris, Warsaw) (view: `top_reliability_roads`).\n",
    "3. **Comparison of 2019 vs. 2020**, to track the impact of COVID on flight operations. The analysis should include:\n",
    "   - **Month-to-month comparison**, e.g., January 2019 vs. January 2020, February 2019 vs. February 2020, etc. (view: `year_to_year_comparision`).\n",
    "   - **Day-to-day comparison**, e.g., Tuesday 2019 vs. Tuesday 2020 (view: `day_to_day_comparision`).\n",
    "4. **Daily comparison**.\n",
    "\n",
    "This notebook focuses on properly preparing the database for reporting purposes. The goal is to separate the data preparation layer (report logic) from the presentation layer (visualization). The aim is to ensure that each process handles only its designated tasks. This way, the presentation layer should process the received data as little as possible.  \n",
    "\n",
    "This approach aligns with modern application design principles. It also offers an additional benefit: due to the volume of data in the database, there is no need to retrieve all of it initially—the logic layer will aggregate the data appropriately and pass on a significantly reduced number of rows, speeding up the overall process."
   ]
  },
  {
   "cell_type": "markdown",
   "metadata": {
    "id": "GSGpg7lciSr0"
   },
   "source": [
    "####\n",
    "## Notebook Configuration"
   ]
  },
  {
   "cell_type": "markdown",
   "metadata": {
    "id": "WRSC_2ogiSr6"
   },
   "source": [
    "<p style='background-color: #FFFFE0; margin-top:20px; padding:5px 15px; font-weight: 500'>Libraries import</p>"
   ]
  },
  {
   "cell_type": "code",
   "execution_count": 2,
   "metadata": {
    "ExecuteTime": {
     "end_time": "2024-11-27T22:41:58.014495Z",
     "start_time": "2024-11-27T22:41:58.012471Z"
    },
    "id": "UuQtAJAOiSr5"
   },
   "outputs": [
    {
     "name": "stdout",
     "output_type": "stream",
     "text": [
      "The history saving thread hit an unexpected error (OperationalError('attempt to write a readonly database')).History will not be written to the database.\n"
     ]
    }
   ],
   "source": [
    "from psycopg2 import connect"
   ]
  },
  {
   "cell_type": "markdown",
   "metadata": {
    "id": "WRSC_2ogiSr6"
   },
   "source": [
    "<p style='background-color: #FFFFE0; margin-top:20px; padding:5px 15px; font-weight: 500'>Connecting to the database</p>"
   ]
  },
  {
   "cell_type": "code",
   "execution_count": 2,
   "metadata": {
    "id": "444G833ciSr7"
   },
   "outputs": [],
   "source": [
    "cnx = connect(user='postgres_user', password='coderslab', host='localhost', database='airlines')\n",
    "cursor = cnx.cursor()"
   ]
  },
  {
   "cell_type": "markdown",
   "metadata": {
    "id": "GSGpg7lciSr0"
   },
   "source": [
    "####\n",
    "## Defining and Loading The Appropriate Views"
   ]
  },
  {
   "cell_type": "markdown",
   "metadata": {
    "id": "IlQvHCwHiSr7"
   },
   "source": [
    "<p style='background-color: #FFFFE0; margin-top:20px; padding:5px 15px; font-weight: 500'>\n",
    "The reporting.sql file contains a specially crafted SQL query that will create the reporting schema. This schema will later be used to create the appropriate views, which will help to report and visualize the required data.</p>"
   ]
  },
  {
   "cell_type": "code",
   "execution_count": 3,
   "metadata": {
    "id": "s5VOVS0DiSr-"
   },
   "outputs": [],
   "source": [
    "schema_file = '/Users/me/PycharmProjects/Airlines_Delays_Analysis/sql/reporting.sql'\n",
    "with open(schema_file, 'r') as file:\n",
    "    schema_queries = file.read()"
   ]
  },
  {
   "cell_type": "markdown",
   "metadata": {
    "id": "IlQvHCwHiSr7"
   },
   "source": [
    "<p style='background-color: #FFFFE0; margin-top:20px; padding:5px 15px; font-weight: 500'>Splitting the content of the 'reporting.sql' file into smaller queries using ';'</p>"
   ]
  },
  {
   "cell_type": "code",
   "execution_count": 4,
   "metadata": {
    "id": "1qkBzo5QiSr-"
   },
   "outputs": [],
   "source": [
    "queries = schema_queries.split(';')"
   ]
  },
  {
   "cell_type": "markdown",
   "metadata": {
    "id": "IlQvHCwHiSr7"
   },
   "source": [
    "<p style='background-color: #FFFFE0; margin-top:20px; padding:5px 15px; font-weight: 500'>Executing the queries</p>"
   ]
  },
  {
   "cell_type": "code",
   "execution_count": 5,
   "metadata": {
    "id": "1qkBzo5QiSr-"
   },
   "outputs": [],
   "source": [
    "for query in queries:\n",
    "    cursor.execute(query)"
   ]
  },
  {
   "cell_type": "markdown",
   "metadata": {
    "id": "IlQvHCwHiSr7"
   },
   "source": [
    "<p style='background-color: #FFFFE0; margin-top:20px; padding:5px 15px; font-weight: 500'>Committing all operations to the database, including the creation of views.</p>"
   ]
  },
  {
   "cell_type": "code",
   "execution_count": 6,
   "metadata": {
    "id": "npSQe2AriSr-"
   },
   "outputs": [],
   "source": [
    "cnx.commit()"
   ]
  },
  {
   "cell_type": "markdown",
   "metadata": {
    "id": "npSQe2AriSr-"
   },
   "source": [
    "###\n",
    "## Testing"
   ]
  },
  {
   "cell_type": "code",
   "execution_count": 7,
   "metadata": {
    "id": "NO2RzpYDiSsA"
   },
   "outputs": [],
   "source": [
    "def check_if_table_exists(table_name):\n",
    "    msg = f\"Checking if the {table_name} exists...\"\n",
    "    print(msg)\n",
    "\n",
    "    query = f\"select 1 from {table_name}\"\n",
    "    cursor.execute(query)\n",
    "    print('Table exists!')"
   ]
  },
  {
   "cell_type": "code",
   "execution_count": 8,
   "metadata": {
    "id": "NO2RzpYDiSsA"
   },
   "outputs": [],
   "source": [
    "views_to_test = [\n",
    "    'reporting.flight',\n",
    "    'reporting.top_reliability_roads',\n",
    "    'reporting.year_to_year_comparision',\n",
    "    'reporting.day_to_day_comparision',\n",
    "    'reporting.day_by_day_reliability'\n",
    "]"
   ]
  },
  {
   "cell_type": "code",
   "execution_count": 9,
   "metadata": {
    "id": "NO2RzpYDiSsA"
   },
   "outputs": [
    {
     "name": "stdout",
     "output_type": "stream",
     "text": [
      "Checking if the reporting.flight exists...\n",
      "Table exists!\n",
      "Checking if the reporting.top_reliability_roads exists...\n",
      "Table exists!\n",
      "Checking if the reporting.year_to_year_comparision exists...\n",
      "Table exists!\n",
      "Checking if the reporting.day_to_day_comparision exists...\n",
      "Table exists!\n",
      "Checking if the reporting.day_by_day_reliability exists...\n",
      "Table exists!\n"
     ]
    }
   ],
   "source": [
    "for view in views_to_test:\n",
    "    check_if_table_exists(view)"
   ]
  },
  {
   "cell_type": "code",
   "execution_count": 10,
   "metadata": {
    "id": "NO2RzpYDiSsA"
   },
   "outputs": [
    {
     "name": "stdout",
     "output_type": "stream",
     "text": [
      "Everything looks good!\n"
     ]
    }
   ],
   "source": [
    "cnx.close()\n",
    "msg = \"Everything looks good!\"\n",
    "print(msg)"
   ]
  }
 ],
 "metadata": {
  "colab": {
   "provenance": []
  },
  "kernelspec": {
   "display_name": "Python 3 (ipykernel)",
   "language": "python",
   "name": "python3"
  },
  "language_info": {
   "codemirror_mode": {
    "name": "ipython",
    "version": 3
   },
   "file_extension": ".py",
   "mimetype": "text/x-python",
   "name": "python",
   "nbconvert_exporter": "python",
   "pygments_lexer": "ipython3",
   "version": "3.12.2"
  },
  "vscode": {
   "interpreter": {
    "hash": "136089914e87e2d4f80cd8636e7ceb6fbad42888d13047c5eed4d3dfe8a58423"
   }
  }
 },
 "nbformat": 4,
 "nbformat_minor": 4
}
