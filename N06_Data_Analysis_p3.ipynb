{
 "cells": [
  {
   "cell_type": "markdown",
   "metadata": {
    "id": "GSGpg7lciSr0"
   },
   "source": [
    "# N06: DATA ANALYSIS: Final Analysis\n",
    "\n",
    "## Notebook Description\n",
    "\n",
    "This notebook provides a final analysis of the `flight` data and delays, focusing on the impact of routes and weather conditions on delays."
   ]
  },
  {
   "cell_type": "markdown",
   "metadata": {
    "id": "GSGpg7lciSr0"
   },
   "source": [
    "###\n",
    "## Notebook Configuration"
   ]
  },
  {
   "cell_type": "markdown",
   "metadata": {
    "id": "WRSC_2ogiSr6"
   },
   "source": [
    "<p style='background-color: #FFFFE0; margin-top:20px; padding:5px 15px; font-weight: 500'>Libraries import</p>"
   ]
  },
  {
   "cell_type": "code",
   "execution_count": 1,
   "metadata": {
    "ExecuteTime": {
     "end_time": "2024-12-04T10:05:09.443630Z",
     "start_time": "2024-12-04T10:05:09.310234Z"
    },
    "id": "UuQtAJAOiSr5"
   },
   "outputs": [],
   "source": [
    "from psycopg2 import connect\n",
    "import pandas as pd\n",
    "import seaborn as sns\n",
    "import matplotlib.pyplot as plt\n",
    "from scipy.stats import ttest_ind, pearsonr, spearmanr\n",
    "import statsmodels.api as sm\n",
    "import os\n",
    "from project_dir import DIR_PATH"
   ]
  },
  {
   "cell_type": "markdown",
   "metadata": {
    "id": "WRSC_2ogiSr6"
   },
   "source": [
    "<p style='background-color: #FFFFE0; margin-top:20px; padding:5px 15px; font-weight: 500'>Connecting to the database</p>"
   ]
  },
  {
   "cell_type": "code",
   "execution_count": 2,
   "metadata": {
    "ExecuteTime": {
     "end_time": "2024-11-30T23:06:52.573874Z",
     "start_time": "2024-11-30T23:06:52.537465Z"
    },
    "id": "444G833ciSr7"
   },
   "outputs": [],
   "source": [
    "cnx = connect(user='postgres_user', password='coderslab', host='localhost', database='airlines')"
   ]
  },
  {
   "cell_type": "markdown",
   "metadata": {
    "id": "IlQvHCwHiSr7"
   },
   "source": [
    "<p style='background-color: #FFFFE0; margin-top:20px; padding:5px 15px; font-weight: 500'>Creating the 'read_sql_table' method to extract data from the database</p>"
   ]
  },
  {
   "cell_type": "code",
   "execution_count": 3,
   "metadata": {
    "id": "uczM1OVWiSr8"
   },
   "outputs": [],
   "source": [
    "def read_sql_table(table_name):\n",
    "    query = f\"SELECT * FROM {table_name}\"\n",
    "    cursor = cnx.cursor()\n",
    "    cursor.execute(query)\n",
    "    column_names = [desc[0] for desc in cursor.description]\n",
    "    results = cursor.fetchall()\n",
    "    cursor.close()\n",
    "    cnx.close()\n",
    "    df = pd.DataFrame(results, columns=column_names)   \n",
    "    return df"
   ]
  },
  {
   "cell_type": "markdown",
   "metadata": {
    "id": "s5VOVS0DiSr-"
   },
   "source": [
    "<p style='background-color: #FFFFE0; margin-top:20px; padding:5px 15px; font-weight: 500'>Loading the DataFrame 'flight_df_02', saved as a .csv file in the previous notebook</p>"
   ]
  },
  {
   "cell_type": "code",
   "execution_count": 4,
   "metadata": {
    "id": "1qkBzo5QiSr-"
   },
   "outputs": [],
   "source": [
    "flight_df = pd.read_csv(f\"{DIR_PATH}{os.path.sep}data{os.path.sep}processed{os.path.sep}flight_df_02.csv\")"
   ]
  },
  {
   "cell_type": "code",
   "execution_count": 5,
   "metadata": {
    "id": "1qkBzo5QiSr-"
   },
   "outputs": [
    {
     "data": {
      "text/html": [
       "<div>\n",
       "<style scoped>\n",
       "    .dataframe tbody tr th:only-of-type {\n",
       "        vertical-align: middle;\n",
       "    }\n",
       "\n",
       "    .dataframe tbody tr th {\n",
       "        vertical-align: top;\n",
       "    }\n",
       "\n",
       "    .dataframe thead th {\n",
       "        text-align: right;\n",
       "    }\n",
       "</style>\n",
       "<table border=\"1\" class=\"dataframe\">\n",
       "  <thead>\n",
       "    <tr style=\"text-align: right;\">\n",
       "      <th></th>\n",
       "      <th>id</th>\n",
       "      <th>month</th>\n",
       "      <th>day_of_month</th>\n",
       "      <th>day_of_week</th>\n",
       "      <th>op_unique_carrier</th>\n",
       "      <th>tail_num</th>\n",
       "      <th>op_carrier_fl_num</th>\n",
       "      <th>origin_airport_id</th>\n",
       "      <th>dest_airport_id</th>\n",
       "      <th>crs_dep_time</th>\n",
       "      <th>...</th>\n",
       "      <th>carrier_delay</th>\n",
       "      <th>weather_delay</th>\n",
       "      <th>nas_delay</th>\n",
       "      <th>security_delay</th>\n",
       "      <th>late_aircraft_delay</th>\n",
       "      <th>is_delayed</th>\n",
       "      <th>is_weekend</th>\n",
       "      <th>distance_agg</th>\n",
       "      <th>manufacture_year</th>\n",
       "      <th>manufacture_year_agg</th>\n",
       "    </tr>\n",
       "  </thead>\n",
       "  <tbody>\n",
       "    <tr>\n",
       "      <th>0</th>\n",
       "      <td>0</td>\n",
       "      <td>1</td>\n",
       "      <td>1</td>\n",
       "      <td>2</td>\n",
       "      <td>9E</td>\n",
       "      <td>N931XJ</td>\n",
       "      <td>3290</td>\n",
       "      <td>10874</td>\n",
       "      <td>10397</td>\n",
       "      <td>600</td>\n",
       "      <td>...</td>\n",
       "      <td>NaN</td>\n",
       "      <td>NaN</td>\n",
       "      <td>NaN</td>\n",
       "      <td>NaN</td>\n",
       "      <td>NaN</td>\n",
       "      <td>False</td>\n",
       "      <td>False</td>\n",
       "      <td>(500, 600]</td>\n",
       "      <td>2008</td>\n",
       "      <td>2007</td>\n",
       "    </tr>\n",
       "    <tr>\n",
       "      <th>1</th>\n",
       "      <td>1</td>\n",
       "      <td>1</td>\n",
       "      <td>1</td>\n",
       "      <td>2</td>\n",
       "      <td>OH</td>\n",
       "      <td>N723PS</td>\n",
       "      <td>5495</td>\n",
       "      <td>10874</td>\n",
       "      <td>11057</td>\n",
       "      <td>704</td>\n",
       "      <td>...</td>\n",
       "      <td>NaN</td>\n",
       "      <td>NaN</td>\n",
       "      <td>NaN</td>\n",
       "      <td>NaN</td>\n",
       "      <td>NaN</td>\n",
       "      <td>True</td>\n",
       "      <td>False</td>\n",
       "      <td>(300, 400]</td>\n",
       "      <td>2004</td>\n",
       "      <td>2004</td>\n",
       "    </tr>\n",
       "    <tr>\n",
       "      <th>2</th>\n",
       "      <td>2</td>\n",
       "      <td>1</td>\n",
       "      <td>1</td>\n",
       "      <td>2</td>\n",
       "      <td>OH</td>\n",
       "      <td>N525EA</td>\n",
       "      <td>5416</td>\n",
       "      <td>10874</td>\n",
       "      <td>11057</td>\n",
       "      <td>1944</td>\n",
       "      <td>...</td>\n",
       "      <td>NaN</td>\n",
       "      <td>NaN</td>\n",
       "      <td>NaN</td>\n",
       "      <td>NaN</td>\n",
       "      <td>NaN</td>\n",
       "      <td>False</td>\n",
       "      <td>False</td>\n",
       "      <td>(300, 400]</td>\n",
       "      <td>2004</td>\n",
       "      <td>2004</td>\n",
       "    </tr>\n",
       "    <tr>\n",
       "      <th>3</th>\n",
       "      <td>3</td>\n",
       "      <td>1</td>\n",
       "      <td>1</td>\n",
       "      <td>2</td>\n",
       "      <td>OH</td>\n",
       "      <td>N706PS</td>\n",
       "      <td>5426</td>\n",
       "      <td>10874</td>\n",
       "      <td>11057</td>\n",
       "      <td>1521</td>\n",
       "      <td>...</td>\n",
       "      <td>NaN</td>\n",
       "      <td>NaN</td>\n",
       "      <td>NaN</td>\n",
       "      <td>NaN</td>\n",
       "      <td>NaN</td>\n",
       "      <td>False</td>\n",
       "      <td>False</td>\n",
       "      <td>(300, 400]</td>\n",
       "      <td>2004</td>\n",
       "      <td>2004</td>\n",
       "    </tr>\n",
       "    <tr>\n",
       "      <th>4</th>\n",
       "      <td>4</td>\n",
       "      <td>1</td>\n",
       "      <td>1</td>\n",
       "      <td>2</td>\n",
       "      <td>OH</td>\n",
       "      <td>N262PS</td>\n",
       "      <td>5440</td>\n",
       "      <td>10874</td>\n",
       "      <td>14100</td>\n",
       "      <td>756</td>\n",
       "      <td>...</td>\n",
       "      <td>NaN</td>\n",
       "      <td>NaN</td>\n",
       "      <td>NaN</td>\n",
       "      <td>NaN</td>\n",
       "      <td>NaN</td>\n",
       "      <td>False</td>\n",
       "      <td>False</td>\n",
       "      <td>(300, 400]</td>\n",
       "      <td>2004</td>\n",
       "      <td>2004</td>\n",
       "    </tr>\n",
       "    <tr>\n",
       "      <th>...</th>\n",
       "      <td>...</td>\n",
       "      <td>...</td>\n",
       "      <td>...</td>\n",
       "      <td>...</td>\n",
       "      <td>...</td>\n",
       "      <td>...</td>\n",
       "      <td>...</td>\n",
       "      <td>...</td>\n",
       "      <td>...</td>\n",
       "      <td>...</td>\n",
       "      <td>...</td>\n",
       "      <td>...</td>\n",
       "      <td>...</td>\n",
       "      <td>...</td>\n",
       "      <td>...</td>\n",
       "      <td>...</td>\n",
       "      <td>...</td>\n",
       "      <td>...</td>\n",
       "      <td>...</td>\n",
       "      <td>...</td>\n",
       "      <td>...</td>\n",
       "    </tr>\n",
       "    <tr>\n",
       "      <th>6922919</th>\n",
       "      <td>9251553</td>\n",
       "      <td>12</td>\n",
       "      <td>30</td>\n",
       "      <td>1</td>\n",
       "      <td>MQ</td>\n",
       "      <td>N818AE</td>\n",
       "      <td>3744</td>\n",
       "      <td>12511</td>\n",
       "      <td>13930</td>\n",
       "      <td>1411</td>\n",
       "      <td>...</td>\n",
       "      <td>2.0</td>\n",
       "      <td>0.0</td>\n",
       "      <td>0.0</td>\n",
       "      <td>0.0</td>\n",
       "      <td>31.0</td>\n",
       "      <td>True</td>\n",
       "      <td>False</td>\n",
       "      <td>(400, 500]</td>\n",
       "      <td>2002</td>\n",
       "      <td>2001</td>\n",
       "    </tr>\n",
       "    <tr>\n",
       "      <th>6922920</th>\n",
       "      <td>9251554</td>\n",
       "      <td>12</td>\n",
       "      <td>30</td>\n",
       "      <td>1</td>\n",
       "      <td>MQ</td>\n",
       "      <td>N821AE</td>\n",
       "      <td>4235</td>\n",
       "      <td>12511</td>\n",
       "      <td>11298</td>\n",
       "      <td>1615</td>\n",
       "      <td>...</td>\n",
       "      <td>NaN</td>\n",
       "      <td>NaN</td>\n",
       "      <td>NaN</td>\n",
       "      <td>NaN</td>\n",
       "      <td>NaN</td>\n",
       "      <td>False</td>\n",
       "      <td>False</td>\n",
       "      <td>(300, 400]</td>\n",
       "      <td>2002</td>\n",
       "      <td>2001</td>\n",
       "    </tr>\n",
       "    <tr>\n",
       "      <th>6922921</th>\n",
       "      <td>9251556</td>\n",
       "      <td>12</td>\n",
       "      <td>31</td>\n",
       "      <td>2</td>\n",
       "      <td>MQ</td>\n",
       "      <td>N245NN</td>\n",
       "      <td>4040</td>\n",
       "      <td>12511</td>\n",
       "      <td>11298</td>\n",
       "      <td>745</td>\n",
       "      <td>...</td>\n",
       "      <td>224.0</td>\n",
       "      <td>129.0</td>\n",
       "      <td>0.0</td>\n",
       "      <td>0.0</td>\n",
       "      <td>0.0</td>\n",
       "      <td>True</td>\n",
       "      <td>False</td>\n",
       "      <td>(300, 400]</td>\n",
       "      <td>2016</td>\n",
       "      <td>2016</td>\n",
       "    </tr>\n",
       "    <tr>\n",
       "      <th>6922922</th>\n",
       "      <td>9251557</td>\n",
       "      <td>12</td>\n",
       "      <td>31</td>\n",
       "      <td>2</td>\n",
       "      <td>MQ</td>\n",
       "      <td>N806AE</td>\n",
       "      <td>3744</td>\n",
       "      <td>12511</td>\n",
       "      <td>13930</td>\n",
       "      <td>1411</td>\n",
       "      <td>...</td>\n",
       "      <td>3.0</td>\n",
       "      <td>0.0</td>\n",
       "      <td>0.0</td>\n",
       "      <td>0.0</td>\n",
       "      <td>71.0</td>\n",
       "      <td>True</td>\n",
       "      <td>False</td>\n",
       "      <td>(400, 500]</td>\n",
       "      <td>2001</td>\n",
       "      <td>2001</td>\n",
       "    </tr>\n",
       "    <tr>\n",
       "      <th>6922923</th>\n",
       "      <td>9251558</td>\n",
       "      <td>12</td>\n",
       "      <td>31</td>\n",
       "      <td>2</td>\n",
       "      <td>MQ</td>\n",
       "      <td>N854AE</td>\n",
       "      <td>4235</td>\n",
       "      <td>12511</td>\n",
       "      <td>11298</td>\n",
       "      <td>1615</td>\n",
       "      <td>...</td>\n",
       "      <td>NaN</td>\n",
       "      <td>NaN</td>\n",
       "      <td>NaN</td>\n",
       "      <td>NaN</td>\n",
       "      <td>NaN</td>\n",
       "      <td>False</td>\n",
       "      <td>False</td>\n",
       "      <td>(300, 400]</td>\n",
       "      <td>2003</td>\n",
       "      <td>2001</td>\n",
       "    </tr>\n",
       "  </tbody>\n",
       "</table>\n",
       "<p>6922924 rows × 33 columns</p>\n",
       "</div>"
      ],
      "text/plain": [
       "              id  month  day_of_month  day_of_week op_unique_carrier tail_num  \\\n",
       "0              0      1             1            2                9E   N931XJ   \n",
       "1              1      1             1            2                OH   N723PS   \n",
       "2              2      1             1            2                OH   N525EA   \n",
       "3              3      1             1            2                OH   N706PS   \n",
       "4              4      1             1            2                OH   N262PS   \n",
       "...          ...    ...           ...          ...               ...      ...   \n",
       "6922919  9251553     12            30            1                MQ   N818AE   \n",
       "6922920  9251554     12            30            1                MQ   N821AE   \n",
       "6922921  9251556     12            31            2                MQ   N245NN   \n",
       "6922922  9251557     12            31            2                MQ   N806AE   \n",
       "6922923  9251558     12            31            2                MQ   N854AE   \n",
       "\n",
       "         op_carrier_fl_num  origin_airport_id  dest_airport_id  crs_dep_time  \\\n",
       "0                     3290              10874            10397           600   \n",
       "1                     5495              10874            11057           704   \n",
       "2                     5416              10874            11057          1944   \n",
       "3                     5426              10874            11057          1521   \n",
       "4                     5440              10874            14100           756   \n",
       "...                    ...                ...              ...           ...   \n",
       "6922919               3744              12511            13930          1411   \n",
       "6922920               4235              12511            11298          1615   \n",
       "6922921               4040              12511            11298           745   \n",
       "6922922               3744              12511            13930          1411   \n",
       "6922923               4235              12511            11298          1615   \n",
       "\n",
       "         ...  carrier_delay  weather_delay nas_delay  security_delay  \\\n",
       "0        ...            NaN            NaN       NaN             NaN   \n",
       "1        ...            NaN            NaN       NaN             NaN   \n",
       "2        ...            NaN            NaN       NaN             NaN   \n",
       "3        ...            NaN            NaN       NaN             NaN   \n",
       "4        ...            NaN            NaN       NaN             NaN   \n",
       "...      ...            ...            ...       ...             ...   \n",
       "6922919  ...            2.0            0.0       0.0             0.0   \n",
       "6922920  ...            NaN            NaN       NaN             NaN   \n",
       "6922921  ...          224.0          129.0       0.0             0.0   \n",
       "6922922  ...            3.0            0.0       0.0             0.0   \n",
       "6922923  ...            NaN            NaN       NaN             NaN   \n",
       "\n",
       "         late_aircraft_delay  is_delayed is_weekend  distance_agg  \\\n",
       "0                        NaN       False      False    (500, 600]   \n",
       "1                        NaN        True      False    (300, 400]   \n",
       "2                        NaN       False      False    (300, 400]   \n",
       "3                        NaN       False      False    (300, 400]   \n",
       "4                        NaN       False      False    (300, 400]   \n",
       "...                      ...         ...        ...           ...   \n",
       "6922919                 31.0        True      False    (400, 500]   \n",
       "6922920                  NaN       False      False    (300, 400]   \n",
       "6922921                  0.0        True      False    (300, 400]   \n",
       "6922922                 71.0        True      False    (400, 500]   \n",
       "6922923                  NaN       False      False    (300, 400]   \n",
       "\n",
       "         manufacture_year  manufacture_year_agg  \n",
       "0                    2008                  2007  \n",
       "1                    2004                  2004  \n",
       "2                    2004                  2004  \n",
       "3                    2004                  2004  \n",
       "4                    2004                  2004  \n",
       "...                   ...                   ...  \n",
       "6922919              2002                  2001  \n",
       "6922920              2002                  2001  \n",
       "6922921              2016                  2016  \n",
       "6922922              2001                  2001  \n",
       "6922923              2003                  2001  \n",
       "\n",
       "[6922924 rows x 33 columns]"
      ]
     },
     "execution_count": 5,
     "metadata": {},
     "output_type": "execute_result"
    }
   ],
   "source": [
    "flight_df"
   ]
  },
  {
   "cell_type": "markdown",
   "metadata": {
    "id": "npSQe2AriSr-"
   },
   "source": [
    "###\n",
    "## Enriching The Dataset With Additional Information From The `airport_list` Table"
   ]
  },
  {
   "cell_type": "markdown",
   "metadata": {
    "id": "npSQe2AriSr-"
   },
   "source": [
    "<p style='background-color: #FFFFE0; margin-top:20px; padding:5px 15px; font-weight: 500'>Loading the 'airport_list' table form the database</p>"
   ]
  },
  {
   "cell_type": "code",
   "execution_count": 6,
   "metadata": {
    "id": "npSQe2AriSr-"
   },
   "outputs": [
    {
     "name": "stdout",
     "output_type": "stream",
     "text": [
      "<class 'pandas.core.frame.DataFrame'>\n",
      "RangeIndex: 97 entries, 0 to 96\n",
      "Data columns (total 5 columns):\n",
      " #   Column                Non-Null Count  Dtype \n",
      "---  ------                --------------  ----- \n",
      " 0   id                    97 non-null     int64 \n",
      " 1   origin_airport_id     97 non-null     int64 \n",
      " 2   display_airport_name  97 non-null     object\n",
      " 3   origin_city_name      97 non-null     object\n",
      " 4   name                  97 non-null     object\n",
      "dtypes: int64(2), object(3)\n",
      "memory usage: 3.9+ KB\n"
     ]
    }
   ],
   "source": [
    "airport_list_df = read_sql_table('airport_list')\n",
    "airport_list_df.info()"
   ]
  },
  {
   "cell_type": "markdown",
   "metadata": {
    "id": "npSQe2AriSr-"
   },
   "source": [
    "<p style='background-color: #FFFFE0; margin-top:20px; padding:5px 15px; font-weight: 500'>Checking for duplicate values in the 'origin_airport_id' column</p>"
   ]
  },
  {
   "cell_type": "code",
   "execution_count": 7,
   "metadata": {
    "id": "NO2RzpYDiSsA"
   },
   "outputs": [
    {
     "data": {
      "text/plain": [
       "origin_airport_id\n",
       "False    97\n",
       "Name: count, dtype: int64"
      ]
     },
     "execution_count": 7,
     "metadata": {},
     "output_type": "execute_result"
    }
   ],
   "source": [
    "duplicates_check = airport_list_df['origin_airport_id'].duplicated()\n",
    "duplicates_check.value_counts()"
   ]
  },
  {
   "cell_type": "markdown",
   "metadata": {},
   "source": [
    "(no duplicates)"
   ]
  },
  {
   "cell_type": "markdown",
   "metadata": {},
   "source": [
    "<p style='background-color: #FFFFE0; margin-top:20px; padding:5px 15px; font-weight: 500'>LEFT-joining the 'flight_df' and 'airport_list_df' DataFrames using the 'origin_airport_id' column</p>"
   ]
  },
  {
   "cell_type": "code",
   "execution_count": 8,
   "metadata": {},
   "outputs": [],
   "source": [
    "flight_df = flight_df.merge(\n",
    "    airport_list_df[['origin_airport_id', 'origin_city_name']],\n",
    "    on='origin_airport_id',\n",
    "    how='left'\n",
    ")"
   ]
  },
  {
   "cell_type": "markdown",
   "metadata": {},
   "source": [
    "<p style='background-color: #FFFFE0; margin-top:20px; padding:5px 15px; font-weight: 500'>Performing another LEFT-join between 'flight_df' and 'airport_list_df' using the 'dest_airport_id' column</p>"
   ]
  },
  {
   "cell_type": "code",
   "execution_count": 9,
   "metadata": {},
   "outputs": [],
   "source": [
    "# re-naming the 'city' column to 'origin_city_name'\n",
    "airport_list_df = airport_list_df.rename(columns={'city': 'origin_city_name'})\n",
    "\n",
    "# performing a LEFT-join\n",
    "flight_df = pd.merge(flight_df, airport_list_df[['origin_airport_id', 'origin_city_name']],\n",
    "                     left_on='dest_airport_id', right_on='origin_airport_id', how='left')"
   ]
  },
  {
   "cell_type": "markdown",
   "metadata": {},
   "source": [
    "<p style='background-color: #FFFFE0; margin-top:20px; padding:5px 15px; font-weight: 500'>Cleaning up after the LEFT-join</p>"
   ]
  },
  {
   "cell_type": "code",
   "execution_count": 10,
   "metadata": {},
   "outputs": [],
   "source": [
    "# merging the origin_airport_id_x and origin_airport_id_y columns into a single origin_airport_id column\n",
    "flight_df['origin_airport_id'] = flight_df['origin_airport_id_x'].fillna(flight_df['origin_airport_id_y'])\n",
    "\n",
    "# removing the origin_airport_id_x and origin_airport_id_y columns\n",
    "flight_df.drop(['origin_airport_id_x', 'origin_airport_id_y'], axis=1, inplace=True)\n",
    "\n",
    "# Renaming the origin_city_name_x and origin_city_name_y columns with proper names\n",
    "flight_df.rename(columns={'origin_city_name_x': 'origin_city_name'}, inplace=True)\n",
    "flight_df.rename(columns={'origin_city_name_y': 'destination_city_name'}, inplace=True)"
   ]
  },
  {
   "cell_type": "markdown",
   "metadata": {},
   "source": [
    "<p style='background-color: #FFFFE0; margin-top:20px; padding:5px 15px; font-weight: 500'>Final result</p>"
   ]
  },
  {
   "cell_type": "code",
   "execution_count": 11,
   "metadata": {},
   "outputs": [
    {
     "name": "stdout",
     "output_type": "stream",
     "text": [
      "<class 'pandas.core.frame.DataFrame'>\n",
      "RangeIndex: 6922924 entries, 0 to 6922923\n",
      "Data columns (total 35 columns):\n",
      " #   Column                 Dtype  \n",
      "---  ------                 -----  \n",
      " 0   id                     int64  \n",
      " 1   month                  int64  \n",
      " 2   day_of_month           int64  \n",
      " 3   day_of_week            int64  \n",
      " 4   op_unique_carrier      object \n",
      " 5   tail_num               object \n",
      " 6   op_carrier_fl_num      int64  \n",
      " 7   dest_airport_id        int64  \n",
      " 8   crs_dep_time           int64  \n",
      " 9   dep_time               float64\n",
      " 10  dep_delay              float64\n",
      " 11  dep_time_blk           object \n",
      " 12  crs_arr_time           int64  \n",
      " 13  arr_time               float64\n",
      " 14  arr_delay_new          float64\n",
      " 15  arr_time_blk           object \n",
      " 16  cancelled              int64  \n",
      " 17  crs_elapsed_time       float64\n",
      " 18  actual_elapsed_time    float64\n",
      " 19  distance               int64  \n",
      " 20  distance_group         int64  \n",
      " 21  year                   int64  \n",
      " 22  carrier_delay          float64\n",
      " 23  weather_delay          float64\n",
      " 24  nas_delay              float64\n",
      " 25  security_delay         float64\n",
      " 26  late_aircraft_delay    float64\n",
      " 27  is_delayed             bool   \n",
      " 28  is_weekend             bool   \n",
      " 29  distance_agg           object \n",
      " 30  manufacture_year       int64  \n",
      " 31  manufacture_year_agg   int64  \n",
      " 32  origin_city_name       object \n",
      " 33  destination_city_name  object \n",
      " 34  origin_airport_id      int64  \n",
      "dtypes: bool(2), float64(11), int64(15), object(7)\n",
      "memory usage: 1.7+ GB\n"
     ]
    }
   ],
   "source": [
    "flight_df.info()"
   ]
  },
  {
   "cell_type": "markdown",
   "metadata": {},
   "source": [
    "###\n",
    "## Further Analysis"
   ]
  },
  {
   "cell_type": "markdown",
   "metadata": {},
   "source": [
    "<p style='background-color: #FFFFE0; margin-top:20px; padding:5px 15px; font-weight: 500'>Identifying the airports with the highest number of departures</p>"
   ]
  },
  {
   "cell_type": "code",
   "execution_count": 12,
   "metadata": {
    "id": "QdcYfGq0iSsD"
   },
   "outputs": [
    {
     "data": {
      "text/html": [
       "<div>\n",
       "<style scoped>\n",
       "    .dataframe tbody tr th:only-of-type {\n",
       "        vertical-align: middle;\n",
       "    }\n",
       "\n",
       "    .dataframe tbody tr th {\n",
       "        vertical-align: top;\n",
       "    }\n",
       "\n",
       "    .dataframe thead th {\n",
       "        text-align: right;\n",
       "    }\n",
       "</style>\n",
       "<table border=\"1\" class=\"dataframe\">\n",
       "  <thead>\n",
       "    <tr style=\"text-align: right;\">\n",
       "      <th></th>\n",
       "      <th>origin_city_name</th>\n",
       "      <th>count</th>\n",
       "    </tr>\n",
       "  </thead>\n",
       "  <tbody>\n",
       "    <tr>\n",
       "      <th>13</th>\n",
       "      <td>Chicago, IL</td>\n",
       "      <td>408150</td>\n",
       "    </tr>\n",
       "    <tr>\n",
       "      <th>3</th>\n",
       "      <td>Atlanta, GA</td>\n",
       "      <td>387620</td>\n",
       "    </tr>\n",
       "    <tr>\n",
       "      <th>18</th>\n",
       "      <td>Dallas/Fort Worth, TX</td>\n",
       "      <td>294944</td>\n",
       "    </tr>\n",
       "    <tr>\n",
       "      <th>55</th>\n",
       "      <td>New York, NY</td>\n",
       "      <td>257396</td>\n",
       "    </tr>\n",
       "    <tr>\n",
       "      <th>20</th>\n",
       "      <td>Denver, CO</td>\n",
       "      <td>245160</td>\n",
       "    </tr>\n",
       "    <tr>\n",
       "      <th>...</th>\n",
       "      <td>...</td>\n",
       "      <td>...</td>\n",
       "    </tr>\n",
       "    <tr>\n",
       "      <th>52</th>\n",
       "      <td>Minneapolis, MN</td>\n",
       "      <td>11528</td>\n",
       "    </tr>\n",
       "    <tr>\n",
       "      <th>68</th>\n",
       "      <td>Portland, ME</td>\n",
       "      <td>10863</td>\n",
       "    </tr>\n",
       "    <tr>\n",
       "      <th>82</th>\n",
       "      <td>Sanford, FL</td>\n",
       "      <td>10670</td>\n",
       "    </tr>\n",
       "    <tr>\n",
       "      <th>39</th>\n",
       "      <td>Kona, HI</td>\n",
       "      <td>9268</td>\n",
       "    </tr>\n",
       "    <tr>\n",
       "      <th>41</th>\n",
       "      <td>Lihue, HI</td>\n",
       "      <td>8516</td>\n",
       "    </tr>\n",
       "  </tbody>\n",
       "</table>\n",
       "<p>94 rows × 2 columns</p>\n",
       "</div>"
      ],
      "text/plain": [
       "         origin_city_name   count\n",
       "13            Chicago, IL  408150\n",
       "3             Atlanta, GA  387620\n",
       "18  Dallas/Fort Worth, TX  294944\n",
       "55           New York, NY  257396\n",
       "20             Denver, CO  245160\n",
       "..                    ...     ...\n",
       "52        Minneapolis, MN   11528\n",
       "68           Portland, ME   10863\n",
       "82            Sanford, FL   10670\n",
       "39               Kona, HI    9268\n",
       "41              Lihue, HI    8516\n",
       "\n",
       "[94 rows x 2 columns]"
      ]
     },
     "execution_count": 12,
     "metadata": {},
     "output_type": "execute_result"
    }
   ],
   "source": [
    "top_airports_origin_df = flight_df.groupby('origin_city_name').size().reset_index(name='count')\n",
    "top_airports_origin_df = top_airports_origin_df.sort_values(by='count', ascending=False)\n",
    "top_airports_origin_df"
   ]
  },
  {
   "cell_type": "markdown",
   "metadata": {},
   "source": [
    "<p style='background-color: #FFFFE0; margin-top:20px; padding:5px 15px; font-weight: 500'>Identifying the airports with the highest number of arrivals</p>"
   ]
  },
  {
   "cell_type": "code",
   "execution_count": 13,
   "metadata": {
    "id": "QdcYfGq0iSsD"
   },
   "outputs": [
    {
     "data": {
      "text/html": [
       "<div>\n",
       "<style scoped>\n",
       "    .dataframe tbody tr th:only-of-type {\n",
       "        vertical-align: middle;\n",
       "    }\n",
       "\n",
       "    .dataframe tbody tr th {\n",
       "        vertical-align: top;\n",
       "    }\n",
       "\n",
       "    .dataframe thead th {\n",
       "        text-align: right;\n",
       "    }\n",
       "</style>\n",
       "<table border=\"1\" class=\"dataframe\">\n",
       "  <thead>\n",
       "    <tr style=\"text-align: right;\">\n",
       "      <th></th>\n",
       "      <th>destination_city_name</th>\n",
       "      <th>count</th>\n",
       "    </tr>\n",
       "  </thead>\n",
       "  <tbody>\n",
       "    <tr>\n",
       "      <th>13</th>\n",
       "      <td>Chicago, IL</td>\n",
       "      <td>407621</td>\n",
       "    </tr>\n",
       "    <tr>\n",
       "      <th>3</th>\n",
       "      <td>Atlanta, GA</td>\n",
       "      <td>387542</td>\n",
       "    </tr>\n",
       "    <tr>\n",
       "      <th>18</th>\n",
       "      <td>Dallas/Fort Worth, TX</td>\n",
       "      <td>294568</td>\n",
       "    </tr>\n",
       "    <tr>\n",
       "      <th>55</th>\n",
       "      <td>New York, NY</td>\n",
       "      <td>257345</td>\n",
       "    </tr>\n",
       "    <tr>\n",
       "      <th>20</th>\n",
       "      <td>Denver, CO</td>\n",
       "      <td>244898</td>\n",
       "    </tr>\n",
       "    <tr>\n",
       "      <th>...</th>\n",
       "      <td>...</td>\n",
       "      <td>...</td>\n",
       "    </tr>\n",
       "    <tr>\n",
       "      <th>52</th>\n",
       "      <td>Minneapolis, MN</td>\n",
       "      <td>11575</td>\n",
       "    </tr>\n",
       "    <tr>\n",
       "      <th>68</th>\n",
       "      <td>Portland, ME</td>\n",
       "      <td>10898</td>\n",
       "    </tr>\n",
       "    <tr>\n",
       "      <th>82</th>\n",
       "      <td>Sanford, FL</td>\n",
       "      <td>10658</td>\n",
       "    </tr>\n",
       "    <tr>\n",
       "      <th>39</th>\n",
       "      <td>Kona, HI</td>\n",
       "      <td>9277</td>\n",
       "    </tr>\n",
       "    <tr>\n",
       "      <th>41</th>\n",
       "      <td>Lihue, HI</td>\n",
       "      <td>8523</td>\n",
       "    </tr>\n",
       "  </tbody>\n",
       "</table>\n",
       "<p>94 rows × 2 columns</p>\n",
       "</div>"
      ],
      "text/plain": [
       "    destination_city_name   count\n",
       "13            Chicago, IL  407621\n",
       "3             Atlanta, GA  387542\n",
       "18  Dallas/Fort Worth, TX  294568\n",
       "55           New York, NY  257345\n",
       "20             Denver, CO  244898\n",
       "..                    ...     ...\n",
       "52        Minneapolis, MN   11575\n",
       "68           Portland, ME   10898\n",
       "82            Sanford, FL   10658\n",
       "39               Kona, HI    9277\n",
       "41              Lihue, HI    8523\n",
       "\n",
       "[94 rows x 2 columns]"
      ]
     },
     "execution_count": 13,
     "metadata": {},
     "output_type": "execute_result"
    }
   ],
   "source": [
    "top_airports_destination_df = flight_df.groupby('destination_city_name').size().reset_index(name='count')\n",
    "top_airports_destination_df = top_airports_destination_df.sort_values(by='count', ascending=False)\n",
    "top_airports_destination_df"
   ]
  },
  {
   "cell_type": "markdown",
   "metadata": {},
   "source": [
    "<p style='background-color: #FFFFE0; margin-top:20px; padding:5px 15px; font-weight: 500'>Identifying the most frequently traveled route</p>"
   ]
  },
  {
   "cell_type": "code",
   "execution_count": 14,
   "metadata": {},
   "outputs": [
    {
     "data": {
      "text/html": [
       "<div>\n",
       "<style scoped>\n",
       "    .dataframe tbody tr th:only-of-type {\n",
       "        vertical-align: middle;\n",
       "    }\n",
       "\n",
       "    .dataframe tbody tr th {\n",
       "        vertical-align: top;\n",
       "    }\n",
       "\n",
       "    .dataframe thead th {\n",
       "        text-align: right;\n",
       "    }\n",
       "</style>\n",
       "<table border=\"1\" class=\"dataframe\">\n",
       "  <thead>\n",
       "    <tr style=\"text-align: right;\">\n",
       "      <th></th>\n",
       "      <th>origin_city_name</th>\n",
       "      <th>destination_city_name</th>\n",
       "      <th>count</th>\n",
       "    </tr>\n",
       "  </thead>\n",
       "  <tbody>\n",
       "    <tr>\n",
       "      <th>483</th>\n",
       "      <td>Chicago, IL</td>\n",
       "      <td>New York, NY</td>\n",
       "      <td>19126</td>\n",
       "    </tr>\n",
       "  </tbody>\n",
       "</table>\n",
       "</div>"
      ],
      "text/plain": [
       "    origin_city_name destination_city_name  count\n",
       "483      Chicago, IL          New York, NY  19126"
      ]
     },
     "execution_count": 14,
     "metadata": {},
     "output_type": "execute_result"
    }
   ],
   "source": [
    "top_route_df = flight_df.groupby(['origin_city_name', 'destination_city_name']).size().reset_index(name='count')\n",
    "top_route_df = top_route_df.sort_values(by='count', ascending=False)\n",
    "top_route_df.head(1)"
   ]
  },
  {
   "cell_type": "markdown",
   "metadata": {},
   "source": [
    "<p style='background-color: #FFFFE0; margin-top:20px; padding:5px 15px; font-weight: 500'>Based on the assumption that a route has more than 500 flights, identifying the top 10 destinations with the least delays</p>"
   ]
  },
  {
   "cell_type": "code",
   "execution_count": 15,
   "metadata": {},
   "outputs": [
    {
     "data": {
      "text/html": [
       "<div>\n",
       "<style scoped>\n",
       "    .dataframe tbody tr th:only-of-type {\n",
       "        vertical-align: middle;\n",
       "    }\n",
       "\n",
       "    .dataframe tbody tr th {\n",
       "        vertical-align: top;\n",
       "    }\n",
       "\n",
       "    .dataframe thead th {\n",
       "        text-align: right;\n",
       "    }\n",
       "</style>\n",
       "<table border=\"1\" class=\"dataframe\">\n",
       "  <thead>\n",
       "    <tr style=\"text-align: right;\">\n",
       "      <th></th>\n",
       "      <th>origin_city_name</th>\n",
       "      <th>destination_city_name</th>\n",
       "      <th>total_flights</th>\n",
       "      <th>delayed_flights</th>\n",
       "      <th>delay_percentage</th>\n",
       "    </tr>\n",
       "  </thead>\n",
       "  <tbody>\n",
       "    <tr>\n",
       "      <th>1443</th>\n",
       "      <td>Kona, HI</td>\n",
       "      <td>Kahului, HI</td>\n",
       "      <td>1095</td>\n",
       "      <td>33</td>\n",
       "      <td>3.013699</td>\n",
       "    </tr>\n",
       "    <tr>\n",
       "      <th>262</th>\n",
       "      <td>Boise, ID</td>\n",
       "      <td>Portland, OR</td>\n",
       "      <td>884</td>\n",
       "      <td>41</td>\n",
       "      <td>4.638009</td>\n",
       "    </tr>\n",
       "    <tr>\n",
       "      <th>2595</th>\n",
       "      <td>Reno, NV</td>\n",
       "      <td>Portland, OR</td>\n",
       "      <td>501</td>\n",
       "      <td>25</td>\n",
       "      <td>4.990020</td>\n",
       "    </tr>\n",
       "    <tr>\n",
       "      <th>340</th>\n",
       "      <td>Burbank, CA</td>\n",
       "      <td>Lihue, HI</td>\n",
       "      <td>6940</td>\n",
       "      <td>355</td>\n",
       "      <td>5.115274</td>\n",
       "    </tr>\n",
       "    <tr>\n",
       "      <th>1377</th>\n",
       "      <td>Kahului, HI</td>\n",
       "      <td>Kona, HI</td>\n",
       "      <td>1094</td>\n",
       "      <td>58</td>\n",
       "      <td>5.301645</td>\n",
       "    </tr>\n",
       "    <tr>\n",
       "      <th>1442</th>\n",
       "      <td>Kona, HI</td>\n",
       "      <td>Burbank, CA</td>\n",
       "      <td>7792</td>\n",
       "      <td>416</td>\n",
       "      <td>5.338809</td>\n",
       "    </tr>\n",
       "    <tr>\n",
       "      <th>2493</th>\n",
       "      <td>Portland, OR</td>\n",
       "      <td>Fresno, CA</td>\n",
       "      <td>704</td>\n",
       "      <td>38</td>\n",
       "      <td>5.397727</td>\n",
       "    </tr>\n",
       "    <tr>\n",
       "      <th>1510</th>\n",
       "      <td>Lihue, HI</td>\n",
       "      <td>Burbank, CA</td>\n",
       "      <td>6933</td>\n",
       "      <td>375</td>\n",
       "      <td>5.408914</td>\n",
       "    </tr>\n",
       "    <tr>\n",
       "      <th>338</th>\n",
       "      <td>Burbank, CA</td>\n",
       "      <td>Kahului, HI</td>\n",
       "      <td>10725</td>\n",
       "      <td>584</td>\n",
       "      <td>5.445221</td>\n",
       "    </tr>\n",
       "    <tr>\n",
       "      <th>3161</th>\n",
       "      <td>Tucson, AZ</td>\n",
       "      <td>Atlanta, GA</td>\n",
       "      <td>683</td>\n",
       "      <td>39</td>\n",
       "      <td>5.710102</td>\n",
       "    </tr>\n",
       "  </tbody>\n",
       "</table>\n",
       "</div>"
      ],
      "text/plain": [
       "     origin_city_name destination_city_name  total_flights  delayed_flights  \\\n",
       "1443         Kona, HI           Kahului, HI           1095               33   \n",
       "262         Boise, ID          Portland, OR            884               41   \n",
       "2595         Reno, NV          Portland, OR            501               25   \n",
       "340       Burbank, CA             Lihue, HI           6940              355   \n",
       "1377      Kahului, HI              Kona, HI           1094               58   \n",
       "1442         Kona, HI           Burbank, CA           7792              416   \n",
       "2493     Portland, OR            Fresno, CA            704               38   \n",
       "1510        Lihue, HI           Burbank, CA           6933              375   \n",
       "338       Burbank, CA           Kahului, HI          10725              584   \n",
       "3161       Tucson, AZ           Atlanta, GA            683               39   \n",
       "\n",
       "      delay_percentage  \n",
       "1443          3.013699  \n",
       "262           4.638009  \n",
       "2595          4.990020  \n",
       "340           5.115274  \n",
       "1377          5.301645  \n",
       "1442          5.338809  \n",
       "2493          5.397727  \n",
       "1510          5.408914  \n",
       "338           5.445221  \n",
       "3161          5.710102  "
      ]
     },
     "execution_count": 15,
     "metadata": {},
     "output_type": "execute_result"
    }
   ],
   "source": [
    "# grouping by origin and destination city and count the number of flights and delayed flights\n",
    "route_delays_df = flight_df.groupby(['origin_city_name', 'destination_city_name']).agg(\n",
    "    total_flights=('id', 'size'),\n",
    "    delayed_flights=('is_delayed', 'sum')\n",
    ").reset_index()\n",
    "\n",
    "# filtering routes with more than 500 flights\n",
    "route_delays_df = route_delays_df[route_delays_df['total_flights'] > 500]\n",
    "\n",
    "# calculating the percentage of delayed flights for each route\n",
    "route_delays_df['delay_percentage'] = route_delays_df['delayed_flights'] / route_delays_df['total_flights'] * 100\n",
    "\n",
    "# sorting the DataFrame for the top 10 routes with the least delays\n",
    "least_route_delays_df = route_delays_df.sort_values(by='delay_percentage', ascending=True).head(10)\n",
    "\n",
    "least_route_delays_df"
   ]
  },
  {
   "cell_type": "markdown",
   "metadata": {},
   "source": [
    "<p style='background-color: #FFFFE0; margin-top:20px; padding:5px 15px; font-weight: 500'>Based on the assumption that a route has more than 500 flights, identifying the top 10 destinations with the most delays</p>"
   ]
  },
  {
   "cell_type": "code",
   "execution_count": 16,
   "metadata": {},
   "outputs": [
    {
     "data": {
      "text/html": [
       "<div>\n",
       "<style scoped>\n",
       "    .dataframe tbody tr th:only-of-type {\n",
       "        vertical-align: middle;\n",
       "    }\n",
       "\n",
       "    .dataframe tbody tr th {\n",
       "        vertical-align: top;\n",
       "    }\n",
       "\n",
       "    .dataframe thead th {\n",
       "        text-align: right;\n",
       "    }\n",
       "</style>\n",
       "<table border=\"1\" class=\"dataframe\">\n",
       "  <thead>\n",
       "    <tr style=\"text-align: right;\">\n",
       "      <th></th>\n",
       "      <th>origin_city_name</th>\n",
       "      <th>destination_city_name</th>\n",
       "      <th>total_flights</th>\n",
       "      <th>delayed_flights</th>\n",
       "      <th>delay_percentage</th>\n",
       "    </tr>\n",
       "  </thead>\n",
       "  <tbody>\n",
       "    <tr>\n",
       "      <th>1262</th>\n",
       "      <td>Houston, TX</td>\n",
       "      <td>Boston, MA</td>\n",
       "      <td>650</td>\n",
       "      <td>248</td>\n",
       "      <td>38.153846</td>\n",
       "    </tr>\n",
       "    <tr>\n",
       "      <th>2629</th>\n",
       "      <td>Rochester, NY</td>\n",
       "      <td>Newark, NJ</td>\n",
       "      <td>649</td>\n",
       "      <td>245</td>\n",
       "      <td>37.750385</td>\n",
       "    </tr>\n",
       "    <tr>\n",
       "      <th>1897</th>\n",
       "      <td>Myrtle Beach, SC</td>\n",
       "      <td>Newark, NJ</td>\n",
       "      <td>2542</td>\n",
       "      <td>900</td>\n",
       "      <td>35.405193</td>\n",
       "    </tr>\n",
       "    <tr>\n",
       "      <th>2099</th>\n",
       "      <td>Norfolk, VA</td>\n",
       "      <td>Newark, NJ</td>\n",
       "      <td>736</td>\n",
       "      <td>260</td>\n",
       "      <td>35.326087</td>\n",
       "    </tr>\n",
       "    <tr>\n",
       "      <th>3068</th>\n",
       "      <td>St. Louis, MO</td>\n",
       "      <td>Newark, NJ</td>\n",
       "      <td>1790</td>\n",
       "      <td>630</td>\n",
       "      <td>35.195531</td>\n",
       "    </tr>\n",
       "    <tr>\n",
       "      <th>2889</th>\n",
       "      <td>San Juan, PR</td>\n",
       "      <td>Hartford, CT</td>\n",
       "      <td>652</td>\n",
       "      <td>227</td>\n",
       "      <td>34.815951</td>\n",
       "    </tr>\n",
       "    <tr>\n",
       "      <th>155</th>\n",
       "      <td>Austin, TX</td>\n",
       "      <td>Newark, NJ</td>\n",
       "      <td>1688</td>\n",
       "      <td>581</td>\n",
       "      <td>34.419431</td>\n",
       "    </tr>\n",
       "    <tr>\n",
       "      <th>2882</th>\n",
       "      <td>San Juan, PR</td>\n",
       "      <td>Boston, MA</td>\n",
       "      <td>1102</td>\n",
       "      <td>377</td>\n",
       "      <td>34.210526</td>\n",
       "    </tr>\n",
       "    <tr>\n",
       "      <th>2252</th>\n",
       "      <td>Orlando, FL</td>\n",
       "      <td>Newark, NJ</td>\n",
       "      <td>6789</td>\n",
       "      <td>2276</td>\n",
       "      <td>33.524820</td>\n",
       "    </tr>\n",
       "    <tr>\n",
       "      <th>2403</th>\n",
       "      <td>Phoenix, AZ</td>\n",
       "      <td>Newark, NJ</td>\n",
       "      <td>2535</td>\n",
       "      <td>845</td>\n",
       "      <td>33.333333</td>\n",
       "    </tr>\n",
       "  </tbody>\n",
       "</table>\n",
       "</div>"
      ],
      "text/plain": [
       "      origin_city_name destination_city_name  total_flights  delayed_flights  \\\n",
       "1262       Houston, TX            Boston, MA            650              248   \n",
       "2629     Rochester, NY            Newark, NJ            649              245   \n",
       "1897  Myrtle Beach, SC            Newark, NJ           2542              900   \n",
       "2099       Norfolk, VA            Newark, NJ            736              260   \n",
       "3068     St. Louis, MO            Newark, NJ           1790              630   \n",
       "2889      San Juan, PR          Hartford, CT            652              227   \n",
       "155         Austin, TX            Newark, NJ           1688              581   \n",
       "2882      San Juan, PR            Boston, MA           1102              377   \n",
       "2252       Orlando, FL            Newark, NJ           6789             2276   \n",
       "2403       Phoenix, AZ            Newark, NJ           2535              845   \n",
       "\n",
       "      delay_percentage  \n",
       "1262         38.153846  \n",
       "2629         37.750385  \n",
       "1897         35.405193  \n",
       "2099         35.326087  \n",
       "3068         35.195531  \n",
       "2889         34.815951  \n",
       "155          34.419431  \n",
       "2882         34.210526  \n",
       "2252         33.524820  \n",
       "2403         33.333333  "
      ]
     },
     "execution_count": 16,
     "metadata": {},
     "output_type": "execute_result"
    }
   ],
   "source": [
    "# grouping by origin and destination city and count the number of flights and delayed flights\n",
    "route_delays_df = flight_df.groupby(['origin_city_name', 'destination_city_name']).agg(\n",
    "    total_flights=('id', 'size'),\n",
    "    delayed_flights=('is_delayed', 'sum')\n",
    ").reset_index()\n",
    "\n",
    "# filtering routes with more than 500 flights\n",
    "route_delays_df = route_delays_df[route_delays_df['total_flights'] > 500]\n",
    "\n",
    "# calculating the percentage of delayed flights for each route\n",
    "route_delays_df['delay_percentage'] = route_delays_df['delayed_flights'] / route_delays_df['total_flights'] * 100\n",
    "\n",
    "# sorting the DataFrame for the top 10 routes with the most delays\n",
    "top_route_delays_df = route_delays_df.sort_values(by='delay_percentage', ascending=False).head(10)\n",
    "\n",
    "top_route_delays_df"
   ]
  },
  {
   "cell_type": "markdown",
   "metadata": {},
   "source": [
    "###\n",
    "## Enriching The Dataset With Additional Information From The `airport_weather` Table"
   ]
  },
  {
   "cell_type": "markdown",
   "metadata": {
    "id": "WRSC_2ogiSr6"
   },
   "source": [
    "<p style='background-color: #FFFFE0; margin-top:20px; padding:5px 15px; font-weight: 500'>Connecting to the database</p>"
   ]
  },
  {
   "cell_type": "code",
   "execution_count": 17,
   "metadata": {
    "id": "444G833ciSr7"
   },
   "outputs": [],
   "source": [
    "cnx = connect(user='postgres_user', password='coderslab', host='localhost', database='airlines')"
   ]
  },
  {
   "cell_type": "markdown",
   "metadata": {
    "id": "IlQvHCwHiSr7"
   },
   "source": [
    "<p style='background-color: #FFFFE0; margin-top:20px; padding:5px 15px; font-weight: 500'>Creating the 'read_sql_table' method to extract data from the database</p>"
   ]
  },
  {
   "cell_type": "code",
   "execution_count": 18,
   "metadata": {
    "id": "uczM1OVWiSr8"
   },
   "outputs": [],
   "source": [
    "def read_sql_table(table_name):\n",
    "    query = f\"SELECT * FROM {table_name}\"\n",
    "    cursor = cnx.cursor()\n",
    "    cursor.execute(query)\n",
    "    column_names = [desc[0] for desc in cursor.description]\n",
    "    results = cursor.fetchall()\n",
    "    cursor.close()\n",
    "    cnx.close()\n",
    "    df = pd.DataFrame(results, columns=column_names)   \n",
    "    return df"
   ]
  },
  {
   "cell_type": "markdown",
   "metadata": {
    "id": "npSQe2AriSr-"
   },
   "source": [
    "<p style='background-color: #FFFFE0; margin-top:20px; padding:5px 15px; font-weight: 500'>Loading the 'airport_weather' table form the database</p>"
   ]
  },
  {
   "cell_type": "code",
   "execution_count": 19,
   "metadata": {
    "id": "npSQe2AriSr-"
   },
   "outputs": [
    {
     "name": "stdout",
     "output_type": "stream",
     "text": [
      "<class 'pandas.core.frame.DataFrame'>\n",
      "RangeIndex: 46226 entries, 0 to 46225\n",
      "Data columns (total 34 columns):\n",
      " #   Column   Non-Null Count  Dtype  \n",
      "---  ------   --------------  -----  \n",
      " 0   id       46226 non-null  int64  \n",
      " 1   wt18     0 non-null      object \n",
      " 2   station  46226 non-null  object \n",
      " 3   name     46226 non-null  object \n",
      " 4   date     46226 non-null  object \n",
      " 5   awnd     45845 non-null  float64\n",
      " 6   prcp     46197 non-null  float64\n",
      " 7   snow     32338 non-null  float64\n",
      " 8   snwd     31750 non-null  float64\n",
      " 9   tavg     34625 non-null  float64\n",
      " 10  tmax     46203 non-null  float64\n",
      " 11  tmin     46200 non-null  float64\n",
      " 12  wdf2     45854 non-null  float64\n",
      " 13  wdf5     45704 non-null  float64\n",
      " 14  wsf2     45854 non-null  float64\n",
      " 15  wsf5     45704 non-null  float64\n",
      " 16  wt01     16798 non-null  float64\n",
      " 17  wt08     5589 non-null   float64\n",
      " 18  wt02     2268 non-null   float64\n",
      " 19  wt03     5085 non-null   float64\n",
      " 20  wt04     362 non-null    float64\n",
      " 21  wt09     316 non-null    float64\n",
      " 22  wt06     522 non-null    float64\n",
      " 23  wt05     146 non-null    float64\n",
      " 24  pgtm     4484 non-null   float64\n",
      " 25  wt10     5 non-null      float64\n",
      " 26  wesd     7 non-null      float64\n",
      " 27  sn32     453 non-null    float64\n",
      " 28  sx32     454 non-null    float64\n",
      " 29  psun     430 non-null    float64\n",
      " 30  tsun     429 non-null    float64\n",
      " 31  tobs     355 non-null    float64\n",
      " 32  wt07     28 non-null     float64\n",
      " 33  wt11     1 non-null      float64\n",
      "dtypes: float64(29), int64(1), object(4)\n",
      "memory usage: 12.0+ MB\n"
     ]
    }
   ],
   "source": [
    "airport_weather_df = read_sql_table('airport_weather')\n",
    "airport_weather_df.info()"
   ]
  },
  {
   "cell_type": "markdown",
   "metadata": {
    "id": "npSQe2AriSr-"
   },
   "source": [
    "<p style='background-color: #FFFFE0; margin-top:20px; padding:5px 15px; font-weight: 500'>Cleaning the 'airport_weather_df' DataFrame by removing redundant columns</p>"
   ]
  },
  {
   "cell_type": "code",
   "execution_count": 20,
   "metadata": {
    "id": "uKoYzdP6iSsF",
    "scrolled": true
   },
   "outputs": [
    {
     "name": "stdout",
     "output_type": "stream",
     "text": [
      "<class 'pandas.core.frame.DataFrame'>\n",
      "RangeIndex: 46226 entries, 0 to 46225\n",
      "Data columns (total 8 columns):\n",
      " #   Column   Non-Null Count  Dtype  \n",
      "---  ------   --------------  -----  \n",
      " 0   station  46226 non-null  object \n",
      " 1   name     46226 non-null  object \n",
      " 2   date     46226 non-null  object \n",
      " 3   prcp     46197 non-null  float64\n",
      " 4   snow     32338 non-null  float64\n",
      " 5   snwd     31750 non-null  float64\n",
      " 6   tmax     46203 non-null  float64\n",
      " 7   awnd     45845 non-null  float64\n",
      "dtypes: float64(5), object(3)\n",
      "memory usage: 2.8+ MB\n"
     ]
    }
   ],
   "source": [
    "airport_weather_df = airport_weather_df[['station', 'name', 'date', 'prcp', 'snow', 'snwd', 'tmax', 'awnd']]\n",
    "airport_weather_df.info()"
   ]
  },
  {
   "cell_type": "markdown",
   "metadata": {},
   "source": [
    "<p style='background-color: #FFFFE0; margin-top:20px; padding:5px 15px; font-weight: 500'>INNER-joining the airport_list_df and airport_weather_df DataFrames, excluding airports without weather data</p>"
   ]
  },
  {
   "cell_type": "code",
   "execution_count": 21,
   "metadata": {
    "id": "MtUutZM-iSsG",
    "scrolled": true
   },
   "outputs": [
    {
     "data": {
      "text/html": [
       "<div>\n",
       "<style scoped>\n",
       "    .dataframe tbody tr th:only-of-type {\n",
       "        vertical-align: middle;\n",
       "    }\n",
       "\n",
       "    .dataframe tbody tr th {\n",
       "        vertical-align: top;\n",
       "    }\n",
       "\n",
       "    .dataframe thead th {\n",
       "        text-align: right;\n",
       "    }\n",
       "</style>\n",
       "<table border=\"1\" class=\"dataframe\">\n",
       "  <thead>\n",
       "    <tr style=\"text-align: right;\">\n",
       "      <th></th>\n",
       "      <th>station</th>\n",
       "      <th>name</th>\n",
       "      <th>date</th>\n",
       "      <th>prcp</th>\n",
       "      <th>snow</th>\n",
       "      <th>snwd</th>\n",
       "      <th>tmax</th>\n",
       "      <th>awnd</th>\n",
       "      <th>origin_airport_id</th>\n",
       "    </tr>\n",
       "  </thead>\n",
       "  <tbody>\n",
       "    <tr>\n",
       "      <th>0</th>\n",
       "      <td>USW00013874</td>\n",
       "      <td>ATLANTA HARTSFIELD JACKSON INTERNATIONAL AIRPO...</td>\n",
       "      <td>2019-01-01</td>\n",
       "      <td>0.14</td>\n",
       "      <td>0.0</td>\n",
       "      <td>0.0</td>\n",
       "      <td>66.0</td>\n",
       "      <td>4.70</td>\n",
       "      <td>10397</td>\n",
       "    </tr>\n",
       "    <tr>\n",
       "      <th>1</th>\n",
       "      <td>USW00013874</td>\n",
       "      <td>ATLANTA HARTSFIELD JACKSON INTERNATIONAL AIRPO...</td>\n",
       "      <td>2019-01-02</td>\n",
       "      <td>0.57</td>\n",
       "      <td>0.0</td>\n",
       "      <td>0.0</td>\n",
       "      <td>59.0</td>\n",
       "      <td>4.92</td>\n",
       "      <td>10397</td>\n",
       "    </tr>\n",
       "    <tr>\n",
       "      <th>2</th>\n",
       "      <td>USW00013874</td>\n",
       "      <td>ATLANTA HARTSFIELD JACKSON INTERNATIONAL AIRPO...</td>\n",
       "      <td>2019-01-03</td>\n",
       "      <td>0.15</td>\n",
       "      <td>0.0</td>\n",
       "      <td>0.0</td>\n",
       "      <td>55.0</td>\n",
       "      <td>5.37</td>\n",
       "      <td>10397</td>\n",
       "    </tr>\n",
       "    <tr>\n",
       "      <th>3</th>\n",
       "      <td>USW00013874</td>\n",
       "      <td>ATLANTA HARTSFIELD JACKSON INTERNATIONAL AIRPO...</td>\n",
       "      <td>2019-01-04</td>\n",
       "      <td>1.44</td>\n",
       "      <td>0.0</td>\n",
       "      <td>0.0</td>\n",
       "      <td>66.0</td>\n",
       "      <td>12.08</td>\n",
       "      <td>10397</td>\n",
       "    </tr>\n",
       "    <tr>\n",
       "      <th>4</th>\n",
       "      <td>USW00013874</td>\n",
       "      <td>ATLANTA HARTSFIELD JACKSON INTERNATIONAL AIRPO...</td>\n",
       "      <td>2019-01-05</td>\n",
       "      <td>0.00</td>\n",
       "      <td>0.0</td>\n",
       "      <td>0.0</td>\n",
       "      <td>59.0</td>\n",
       "      <td>13.42</td>\n",
       "      <td>10397</td>\n",
       "    </tr>\n",
       "    <tr>\n",
       "      <th>...</th>\n",
       "      <td>...</td>\n",
       "      <td>...</td>\n",
       "      <td>...</td>\n",
       "      <td>...</td>\n",
       "      <td>...</td>\n",
       "      <td>...</td>\n",
       "      <td>...</td>\n",
       "      <td>...</td>\n",
       "      <td>...</td>\n",
       "    </tr>\n",
       "    <tr>\n",
       "      <th>43389</th>\n",
       "      <td>USW00014762</td>\n",
       "      <td>PITTSBURGH ALLEGHENY CO AIRPORT, PA US</td>\n",
       "      <td>2020-03-27</td>\n",
       "      <td>0.21</td>\n",
       "      <td>NaN</td>\n",
       "      <td>NaN</td>\n",
       "      <td>59.0</td>\n",
       "      <td>3.58</td>\n",
       "      <td>14122</td>\n",
       "    </tr>\n",
       "    <tr>\n",
       "      <th>43390</th>\n",
       "      <td>USW00014762</td>\n",
       "      <td>PITTSBURGH ALLEGHENY CO AIRPORT, PA US</td>\n",
       "      <td>2020-03-28</td>\n",
       "      <td>1.29</td>\n",
       "      <td>NaN</td>\n",
       "      <td>NaN</td>\n",
       "      <td>77.0</td>\n",
       "      <td>6.93</td>\n",
       "      <td>14122</td>\n",
       "    </tr>\n",
       "    <tr>\n",
       "      <th>43391</th>\n",
       "      <td>USW00014762</td>\n",
       "      <td>PITTSBURGH ALLEGHENY CO AIRPORT, PA US</td>\n",
       "      <td>2020-03-29</td>\n",
       "      <td>0.02</td>\n",
       "      <td>NaN</td>\n",
       "      <td>NaN</td>\n",
       "      <td>78.0</td>\n",
       "      <td>16.55</td>\n",
       "      <td>14122</td>\n",
       "    </tr>\n",
       "    <tr>\n",
       "      <th>43392</th>\n",
       "      <td>USW00014762</td>\n",
       "      <td>PITTSBURGH ALLEGHENY CO AIRPORT, PA US</td>\n",
       "      <td>2020-03-30</td>\n",
       "      <td>0.00</td>\n",
       "      <td>NaN</td>\n",
       "      <td>NaN</td>\n",
       "      <td>57.0</td>\n",
       "      <td>13.42</td>\n",
       "      <td>14122</td>\n",
       "    </tr>\n",
       "    <tr>\n",
       "      <th>43393</th>\n",
       "      <td>USW00014762</td>\n",
       "      <td>PITTSBURGH ALLEGHENY CO AIRPORT, PA US</td>\n",
       "      <td>2020-03-31</td>\n",
       "      <td>0.06</td>\n",
       "      <td>NaN</td>\n",
       "      <td>NaN</td>\n",
       "      <td>47.0</td>\n",
       "      <td>3.80</td>\n",
       "      <td>14122</td>\n",
       "    </tr>\n",
       "  </tbody>\n",
       "</table>\n",
       "<p>43394 rows × 9 columns</p>\n",
       "</div>"
      ],
      "text/plain": [
       "           station                                               name  \\\n",
       "0      USW00013874  ATLANTA HARTSFIELD JACKSON INTERNATIONAL AIRPO...   \n",
       "1      USW00013874  ATLANTA HARTSFIELD JACKSON INTERNATIONAL AIRPO...   \n",
       "2      USW00013874  ATLANTA HARTSFIELD JACKSON INTERNATIONAL AIRPO...   \n",
       "3      USW00013874  ATLANTA HARTSFIELD JACKSON INTERNATIONAL AIRPO...   \n",
       "4      USW00013874  ATLANTA HARTSFIELD JACKSON INTERNATIONAL AIRPO...   \n",
       "...            ...                                                ...   \n",
       "43389  USW00014762             PITTSBURGH ALLEGHENY CO AIRPORT, PA US   \n",
       "43390  USW00014762             PITTSBURGH ALLEGHENY CO AIRPORT, PA US   \n",
       "43391  USW00014762             PITTSBURGH ALLEGHENY CO AIRPORT, PA US   \n",
       "43392  USW00014762             PITTSBURGH ALLEGHENY CO AIRPORT, PA US   \n",
       "43393  USW00014762             PITTSBURGH ALLEGHENY CO AIRPORT, PA US   \n",
       "\n",
       "             date  prcp  snow  snwd  tmax   awnd  origin_airport_id  \n",
       "0      2019-01-01  0.14   0.0   0.0  66.0   4.70              10397  \n",
       "1      2019-01-02  0.57   0.0   0.0  59.0   4.92              10397  \n",
       "2      2019-01-03  0.15   0.0   0.0  55.0   5.37              10397  \n",
       "3      2019-01-04  1.44   0.0   0.0  66.0  12.08              10397  \n",
       "4      2019-01-05  0.00   0.0   0.0  59.0  13.42              10397  \n",
       "...           ...   ...   ...   ...   ...    ...                ...  \n",
       "43389  2020-03-27  0.21   NaN   NaN  59.0   3.58              14122  \n",
       "43390  2020-03-28  1.29   NaN   NaN  77.0   6.93              14122  \n",
       "43391  2020-03-29  0.02   NaN   NaN  78.0  16.55              14122  \n",
       "43392  2020-03-30  0.00   NaN   NaN  57.0  13.42              14122  \n",
       "43393  2020-03-31  0.06   NaN   NaN  47.0   3.80              14122  \n",
       "\n",
       "[43394 rows x 9 columns]"
      ]
     },
     "execution_count": 21,
     "metadata": {},
     "output_type": "execute_result"
    }
   ],
   "source": [
    "# perfroming INNER-join\n",
    "airport_weather_df = pd.merge(airport_weather_df, airport_list_df[['name','origin_airport_id']], on='name', how='inner')\n",
    "\n",
    "# Filtering out airports that lack weather data\n",
    "weather_columns = ['prcp', 'snow', 'snwd', 'tmax', 'awnd']  # List of weather-related columns\n",
    "airport_weather_df = airport_weather_df.dropna(subset=weather_columns, how='all')\n",
    "\n",
    "airport_weather_df"
   ]
  },
  {
   "cell_type": "markdown",
   "metadata": {},
   "source": [
    "###\n",
    "## Joining The `flight_df` and `airport_weather_df` DataFrames"
   ]
  },
  {
   "cell_type": "markdown",
   "metadata": {},
   "source": [
    "<p style='background-color: #FFFFE0; margin-top:20px; padding:5px 15px; font-weight: 500'>Casting the date column in the airport_weather_df DataFrame to DATETIME format</p>"
   ]
  },
  {
   "cell_type": "code",
   "execution_count": 22,
   "metadata": {
    "id": "SZKRgHq1iSsG"
   },
   "outputs": [],
   "source": [
    "airport_weather_df['date'] = pd.to_datetime(airport_weather_df['date'])"
   ]
  },
  {
   "cell_type": "markdown",
   "metadata": {},
   "source": [
    "<p style='background-color: #FFFFE0; margin-top:20px; padding:5px 15px; font-weight: 500'>Adding a date column to the flight_df DataFrame in DATETIME format</p>"
   ]
  },
  {
   "cell_type": "code",
   "execution_count": 23,
   "metadata": {
    "id": "XtcN9xcxiSsH"
   },
   "outputs": [],
   "source": [
    "flight_df['date'] = pd.to_datetime(flight_df['year'].astype(str) + '-' + flight_df['month'].astype(str) + '-' + flight_df['day_of_month'].astype(str))"
   ]
  },
  {
   "cell_type": "markdown",
   "metadata": {},
   "source": [
    "<p style='background-color: #FFFFE0; margin-top:20px; padding:5px 15px; font-weight: 500'>LEFT-joining the flight_df and airport_weather_df DataFrames</p>"
   ]
  },
  {
   "cell_type": "code",
   "execution_count": 24,
   "metadata": {
    "scrolled": true
   },
   "outputs": [
    {
     "name": "stdout",
     "output_type": "stream",
     "text": [
      "<class 'pandas.core.frame.DataFrame'>\n",
      "RangeIndex: 6922924 entries, 0 to 6922923\n",
      "Data columns (total 43 columns):\n",
      " #   Column                 Dtype         \n",
      "---  ------                 -----         \n",
      " 0   id                     int64         \n",
      " 1   month                  int64         \n",
      " 2   day_of_month           int64         \n",
      " 3   day_of_week            int64         \n",
      " 4   op_unique_carrier      object        \n",
      " 5   tail_num               object        \n",
      " 6   op_carrier_fl_num      int64         \n",
      " 7   dest_airport_id        int64         \n",
      " 8   crs_dep_time           int64         \n",
      " 9   dep_time               float64       \n",
      " 10  dep_delay              float64       \n",
      " 11  dep_time_blk           object        \n",
      " 12  crs_arr_time           int64         \n",
      " 13  arr_time               float64       \n",
      " 14  arr_delay_new          float64       \n",
      " 15  arr_time_blk           object        \n",
      " 16  cancelled              int64         \n",
      " 17  crs_elapsed_time       float64       \n",
      " 18  actual_elapsed_time    float64       \n",
      " 19  distance               int64         \n",
      " 20  distance_group         int64         \n",
      " 21  year                   int64         \n",
      " 22  carrier_delay          float64       \n",
      " 23  weather_delay          float64       \n",
      " 24  nas_delay              float64       \n",
      " 25  security_delay         float64       \n",
      " 26  late_aircraft_delay    float64       \n",
      " 27  is_delayed             bool          \n",
      " 28  is_weekend             bool          \n",
      " 29  distance_agg           object        \n",
      " 30  manufacture_year       int64         \n",
      " 31  manufacture_year_agg   int64         \n",
      " 32  origin_city_name       object        \n",
      " 33  destination_city_name  object        \n",
      " 34  origin_airport_id      int64         \n",
      " 35  date                   datetime64[ns]\n",
      " 36  station                object        \n",
      " 37  name                   object        \n",
      " 38  prcp                   float64       \n",
      " 39  snow                   float64       \n",
      " 40  snwd                   float64       \n",
      " 41  tmax                   float64       \n",
      " 42  awnd                   float64       \n",
      "dtypes: bool(2), datetime64[ns](1), float64(16), int64(15), object(9)\n",
      "memory usage: 2.1+ GB\n"
     ]
    }
   ],
   "source": [
    "flight_df = flight_df.merge(airport_weather_df, on=['origin_airport_id', 'date'], how='left')\n",
    "flight_df.info()"
   ]
  },
  {
   "cell_type": "markdown",
   "metadata": {},
   "source": [
    "###\n",
    "## Hypothesis Analysis"
   ]
  },
  {
   "cell_type": "markdown",
   "metadata": {},
   "source": [
    "### No.1 - Is there an effect of snowfall (col. `snow`) at the departure airport on flight delay durations?"
   ]
  },
  {
   "cell_type": "markdown",
   "metadata": {},
   "source": [
    "<p style='background-color: #FFFFE0; margin-top:20px; padding:5px 15px; font-weight: 500'>Selecting only the relevant columns</p>"
   ]
  },
  {
   "cell_type": "code",
   "execution_count": 25,
   "metadata": {},
   "outputs": [],
   "source": [
    "flight_df_snow = flight_df[['origin_city_name', 'dep_delay', 'snow']]"
   ]
  },
  {
   "cell_type": "markdown",
   "metadata": {},
   "source": [
    "<!-- <p style='background-color: #FFFFE0; margin-top:20px; padding:5px 15px; font-weight: 500'>Checking basic statistics to understand how the values are distributed</p> -->"
   ]
  },
  {
   "cell_type": "markdown",
   "metadata": {},
   "source": [
    "<p style='background-color: #FFFFE0; margin-top:20px; padding:5px 15px; font-weight: 500'>Removing rows where data on snowfall or delays is missing</p>"
   ]
  },
  {
   "cell_type": "code",
   "execution_count": 26,
   "metadata": {},
   "outputs": [],
   "source": [
    "flight_df_snow = flight_df_snow.dropna(subset=['snow', 'dep_delay'])"
   ]
  },
  {
   "cell_type": "markdown",
   "metadata": {},
   "source": [
    "<p style='background-color: #FFFFE0; margin-top:20px; padding:5px 15px; font-weight: 500'>Creating a split into two groups: flights with snowfall (snow > 0) and flights without snowfall (snow == 0)</p>"
   ]
  },
  {
   "cell_type": "code",
   "execution_count": 27,
   "metadata": {},
   "outputs": [],
   "source": [
    "flight_df_snow['snow_category'] = flight_df_snow['snow'].apply(lambda x: 'Snow' if x > 0 else 'No Snow')"
   ]
  },
  {
   "cell_type": "markdown",
   "metadata": {},
   "source": [
    "<p style='background-color: #FFFFE0; margin-top:20px; padding:5px 15px; font-weight: 500'>Average delays (in minutes) based on created categories</p>"
   ]
  },
  {
   "cell_type": "code",
   "execution_count": 28,
   "metadata": {},
   "outputs": [
    {
     "data": {
      "text/plain": [
       "snow_category\n",
       "No Snow    13.578837\n",
       "Snow       26.424479\n",
       "Name: dep_delay, dtype: float64"
      ]
     },
     "execution_count": 28,
     "metadata": {},
     "output_type": "execute_result"
    }
   ],
   "source": [
    "avg_delays_snow = flight_df_snow.groupby('snow_category')['dep_delay'].mean()\n",
    "avg_delays_snow"
   ]
  },
  {
   "cell_type": "code",
   "execution_count": 29,
   "metadata": {},
   "outputs": [
    {
     "data": {
      "image/png": "[encoded data removed]",
      "text/plain": [
       "<Figure size 400x400 with 1 Axes>"
      ]
     },
     "metadata": {},
     "output_type": "display_data"
    }
   ],
   "source": [
    "plt.figure(figsize=(4,4))\n",
    "sns.boxplot(data=flight_df_snow, x='snow_category', y='dep_delay')\n",
    "plt.title('Delays based on snowfall', fontsize=10)\n",
    "plt.xlabel('Snowfall category', fontsize=10, labelpad=15)\n",
    "plt.ylabel('Departure delay (minutes)', fontsize=10, labelpad=15)\n",
    "plt.show()"
   ]
  },
  {
   "cell_type": "markdown",
   "metadata": {},
   "source": [
    "<p style='background-color: #FFFFE0; margin-top:20px; padding:5px 15px; font-weight: 500'>Using the 'Student's t-test' to compare the mean delays between snowfall categories</p>"
   ]
  },
  {
   "cell_type": "code",
   "execution_count": 30,
   "metadata": {
    "scrolled": true
   },
   "outputs": [
    {
     "name": "stdout",
     "output_type": "stream",
     "text": [
      "The t-statistic: 73.08507088662799, p-value: 0.0\n",
      "There is a statistically significant impact of snowfall on delays\n"
     ]
    }
   ],
   "source": [
    "# splitting into two groups\n",
    "snow_delays = flight_df_snow[flight_df_snow['snow'] > 0]['dep_delay']\n",
    "no_snow_delays = flight_df_snow[flight_df_snow['snow'] == 0]['dep_delay']\n",
    "\n",
    "# Student's t-test\n",
    "stat, p_value = ttest_ind(snow_delays, no_snow_delays, equal_var=False)\n",
    "print(f\"The t-statistic: {stat}, p-value: {p_value}\")\n",
    "\n",
    "if p_value < 0.05:\n",
    "    print(\"There is a statistically significant impact of snowfall on delays\")\n",
    "else:\n",
    "    print(\"There is no statistically significant impact of snowfall on delays.\")"
   ]
  },
  {
   "cell_type": "markdown",
   "metadata": {},
   "source": [
    "<br>\n",
    "\n",
    "### Key Observations\n",
    "\n",
    "Snowfall significantly increases flight delays, with snow-caused delays more than doubling the average delay duration compared to non-snow conditions. The results are statistically significant, reinforcing the importance of weather conditions like snow in influencing flight performance. This could be valuable for airlines and airport operators in planning for weather-related disruptions."
   ]
  },
  {
   "cell_type": "markdown",
   "metadata": {},
   "source": [
    "###\n",
    "### No.2 - Does the size of snow cover (col. `snwd`) at the departure airport affect flight delay durations?"
   ]
  },
  {
   "cell_type": "markdown",
   "metadata": {},
   "source": [
    "<p style='background-color: #FFFFE0; margin-top:20px; padding:5px 15px; font-weight: 500'>Selecting only the relevant columns</p>"
   ]
  },
  {
   "cell_type": "code",
   "execution_count": 31,
   "metadata": {
    "id": "GQbego0SiSsI"
   },
   "outputs": [],
   "source": [
    "flight_df_snwd = flight_df.dropna(subset=['snwd', 'dep_delay'])"
   ]
  },
  {
   "cell_type": "markdown",
   "metadata": {},
   "source": [
    "<p style='background-color: #FFFFE0; margin-top:20px; padding:5px 15px; font-weight: 500'>Removing rows where data on snowfall or delays is missing</p>"
   ]
  },
  {
   "cell_type": "code",
   "execution_count": 32,
   "metadata": {},
   "outputs": [],
   "source": [
    "flight_df_snwd = flight_df_snwd.dropna(subset=['snwd', 'dep_delay'])"
   ]
  },
  {
   "cell_type": "markdown",
   "metadata": {},
   "source": [
    "<p style='background-color: #FFFFE0; margin-top:20px; padding:5px 15px; font-weight: 500'>Creating two groups of flights: those with 'Low' snow cover (snwd <= 10) and those with 'High' snow cover (snwd > 10)</p>"
   ]
  },
  {
   "cell_type": "code",
   "execution_count": 33,
   "metadata": {},
   "outputs": [],
   "source": [
    "flight_df_snwd['snow_cover_category'] = flight_df_snwd['snwd'].apply(lambda x: 'High Snow Cover' if x > 10 else 'Low Snow Cover')"
   ]
  },
  {
   "cell_type": "markdown",
   "metadata": {},
   "source": [
    "<p style='background-color: #FFFFE0; margin-top:20px; padding:5px 15px; font-weight: 500'>Average delays (in minutes) based on created categories</p>"
   ]
  },
  {
   "cell_type": "code",
   "execution_count": 34,
   "metadata": {},
   "outputs": [
    {
     "data": {
      "text/plain": [
       "snow_cover_category\n",
       "High Snow Cover    16.148666\n",
       "Low Snow Cover     13.995264\n",
       "Name: dep_delay, dtype: float64"
      ]
     },
     "execution_count": 34,
     "metadata": {},
     "output_type": "execute_result"
    }
   ],
   "source": [
    "avg_delays_snwd = flight_df_snwd.groupby('snow_cover_category')['dep_delay'].mean()\n",
    "avg_delays_snwd"
   ]
  },
  {
   "cell_type": "code",
   "execution_count": 35,
   "metadata": {},
   "outputs": [
    {
     "data": {
      "image/png": "[encoded data removed]",
      "text/plain": [
       "<Figure size 400x400 with 1 Axes>"
      ]
     },
     "metadata": {},
     "output_type": "display_data"
    }
   ],
   "source": [
    "plt.figure(figsize=(4,4))\n",
    "sns.boxplot(data=flight_df_snwd, x='snow_cover_category', y='dep_delay')\n",
    "plt.title('Delays based on snow cover category', fontsize=10)\n",
    "plt.xlabel('Snow cover category', fontsize=10, labelpad=15)\n",
    "plt.ylabel('Departure delay (minutes)', fontsize=10, labelpad=15)\n",
    "plt.show()"
   ]
  },
  {
   "cell_type": "markdown",
   "metadata": {},
   "source": [
    "<p style='background-color: #FFFFE0; margin-top:20px; padding:5px 15px; font-weight: 500'>Calculating the Pearson correlation to examine linear relationships</p>"
   ]
  },
  {
   "cell_type": "code",
   "execution_count": 36,
   "metadata": {},
   "outputs": [
    {
     "name": "stdout",
     "output_type": "stream",
     "text": [
      "Pearson correlation: 0.02638696586790389, P-value: 0.0\n",
      "There is a positive linear relationship between snow cover and flight delay. As snow cover increases, flight delays tend to increase.\n"
     ]
    }
   ],
   "source": [
    "pearson_corr, p_value = pearsonr(flight_df_snwd['snwd'], flight_df_snwd['dep_delay'])\n",
    "print(f\"Pearson correlation: {pearson_corr}, P-value: {p_value}\")\n",
    "\n",
    "if p_value < 0.05:\n",
    "    if pearson_corr > 0:\n",
    "        print(\"There is a positive linear relationship between snow cover and flight delay. As snow cover increases, flight delays tend to increase.\")\n",
    "    elif pearson_corr < 0:\n",
    "        print(\"There is a negative linear relationship between snow cover and flight delay. As snow cover increases, flight delays tend to decrease.\")\n",
    "    else:\n",
    "        print(\"There is no linear relationship between snow cover and flight delay.\")\n",
    "else:\n",
    "    print(\"The Pearson correlation is not statistically significant. The relationship between snow cover and flight delay could be due to chance.\")\n"
   ]
  },
  {
   "cell_type": "markdown",
   "metadata": {},
   "source": [
    "<p style='background-color: #FFFFE0; margin-top:20px; padding:5px 15px; font-weight: 500'>Calculating the Spearman correlation to examine linear relationships</p>"
   ]
  },
  {
   "cell_type": "code",
   "execution_count": 37,
   "metadata": {},
   "outputs": [
    {
     "name": "stdout",
     "output_type": "stream",
     "text": [
      "Spearman correlation: 0.042244996270698214, P-value: 0.0\n",
      "There is a positive monotonic relationship between snow cover and flight delay. As snow cover increases, flight delays tend to increase.\n"
     ]
    }
   ],
   "source": [
    "spearman_corr, spearman_p_value = spearmanr(flight_df_snwd['snwd'], flight_df_snwd['dep_delay'])\n",
    "print(f\"Spearman correlation: {spearman_corr}, P-value: {spearman_p_value}\")\n",
    "\n",
    "if spearman_p_value < 0.05:\n",
    "    if spearman_corr > 0:\n",
    "        print(\"There is a positive monotonic relationship between snow cover and flight delay. As snow cover increases, flight delays tend to increase.\")\n",
    "    elif spearman_corr < 0:\n",
    "        print(\"There is a negative monotonic relationship between snow cover and flight delay. As snow cover increases, flight delays tend to decrease.\")\n",
    "    else:\n",
    "        print(\"There is no monotonic relationship between snow cover and flight delay.\")\n",
    "else:\n",
    "    print(\"The Spearman correlation is not statistically significant. The relationship between snow cover and flight delay could be due to chance.\")"
   ]
  },
  {
   "cell_type": "markdown",
   "metadata": {},
   "source": [
    "<br>\n",
    "\n",
    "### Key Observations\n",
    "\n",
    "Snow cover does have a positive relationship with flight delays, but the relationship is weak. As snow cover increases, flight delays tend to increase slightly, though the effect is not very strong. Other factors, such as snow intensity, airport operations, and external weather conditions, may also contribute to delays and need to be considered for more robust analysis."
   ]
  },
  {
   "cell_type": "markdown",
   "metadata": {},
   "source": [
    "###\n",
    "### No.3 - Is there an effect of the maximum temperature (col. `tmax`) at the departure airport on flight delay durations?"
   ]
  },
  {
   "cell_type": "markdown",
   "metadata": {},
   "source": [
    "<p style='background-color: #FFFFE0; margin-top:20px; padding:5px 15px; font-weight: 500'>Selecting only the relevant columns</p>"
   ]
  },
  {
   "cell_type": "code",
   "execution_count": 38,
   "metadata": {
    "id": "GQbego0SiSsI"
   },
   "outputs": [],
   "source": [
    "flight_df_tmax = flight_df.dropna(subset=['tmax', 'dep_delay'])"
   ]
  },
  {
   "cell_type": "markdown",
   "metadata": {},
   "source": [
    "<p style='background-color: #FFFFE0; margin-top:20px; padding:5px 15px; font-weight: 500'>Filter the weather data to include only valid temperature measurements</p>"
   ]
  },
  {
   "cell_type": "code",
   "execution_count": 39,
   "metadata": {},
   "outputs": [],
   "source": [
    "flight_df_tmax = flight_df_tmax[flight_df_tmax['tmax'] > 0]"
   ]
  },
  {
   "cell_type": "markdown",
   "metadata": {},
   "source": [
    "<p style='background-color: #FFFFE0; margin-top:20px; padding:5px 15px; font-weight: 500'>Conducting linear regression analysis</p>"
   ]
  },
  {
   "cell_type": "code",
   "execution_count": 40,
   "metadata": {},
   "outputs": [
    {
     "name": "stdout",
     "output_type": "stream",
     "text": [
      "                            OLS Regression Results                            \n",
      "==============================================================================\n",
      "Dep. Variable:              dep_delay   R-squared:                       0.000\n",
      "Model:                            OLS   Adj. R-squared:                  0.000\n",
      "Method:                 Least Squares   F-statistic:                     26.95\n",
      "Date:                Wed, 27 Nov 2024   Prob (F-statistic):           2.09e-07\n",
      "Time:                        13:04:38   Log-Likelihood:            -3.2571e+07\n",
      "No. Observations:             6210922   AIC:                         6.514e+07\n",
      "Df Residuals:                 6210920   BIC:                         6.514e+07\n",
      "Df Model:                           1                                         \n",
      "Covariance Type:            nonrobust                                         \n",
      "==============================================================================\n",
      "                 coef    std err          t      P>|t|      [0.025      0.975]\n",
      "------------------------------------------------------------------------------\n",
      "const         14.2343      0.073    194.917      0.000      14.091      14.377\n",
      "tmax          -0.0051      0.001     -5.191      0.000      -0.007      -0.003\n",
      "==============================================================================\n",
      "Omnibus:                  9716008.917   Durbin-Watson:                   1.821\n",
      "Prob(Omnibus):                  0.000   Jarque-Bera (JB):       8014847809.873\n",
      "Skew:                           9.942   Prob(JB):                         0.00\n",
      "Kurtosis:                     177.858   Cond. No.                         293.\n",
      "==============================================================================\n",
      "\n",
      "Notes:\n",
      "[1] Standard Errors assume that the covariance matrix of the errors is correctly specified.\n"
     ]
    }
   ],
   "source": [
    "# Preparing the data\n",
    "X = flight_df_tmax[['tmax']]  # Independent variable: tmax\n",
    "y = flight_df_tmax['dep_delay']  # Dependent variable: dep_delay\n",
    "\n",
    "# Adding a constant to the independent variable (for intercept)\n",
    "X = sm.add_constant(X)\n",
    "\n",
    "# Fitting the model\n",
    "model = sm.OLS(y, X).fit()\n",
    "\n",
    "print(model.summary())"
   ]
  },
  {
   "cell_type": "code",
   "execution_count": 41,
   "metadata": {},
   "outputs": [
    {
     "data": {
      "image/png": "[encoded data removed]",
      "text/plain": [
       "<Figure size 800x600 with 1 Axes>"
      ]
     },
     "metadata": {},
     "output_type": "display_data"
    }
   ],
   "source": [
    "plt.figure(figsize=(8, 6))\n",
    "sns.regplot(x='tmax', y='dep_delay', data=flight_df_tmax, scatter_kws={'s': 20}, line_kws={'color': 'red'})\n",
    "plt.title('Maximum Temperature vs. Flight Delay')\n",
    "plt.xlabel('Maximum Temperature (°C)')\n",
    "plt.ylabel('Departure Delay (minutes)')\n",
    "plt.show()"
   ]
  },
  {
   "cell_type": "markdown",
   "metadata": {},
   "source": [
    "####\n",
    "### Key Observations\n",
    "\n",
    "#### Model Summary:\n",
    "<li>R-squared: The R-squared value is 0.000, which indicates that the model explains virtually none of the variability in flight delays based on the maximum temperature. This suggests that maximum temperature has a very weak or no relationship with flight delays in this dataset.</li>\n",
    "<li>Adjusted R-squared: Also 0.000, reinforcing that the model doesn't provide any useful predictive power.</li>\n",
    "<li>F-statistic: The F-statistic is 26.95, with a p-value of 2.09e-07, which indicates that the overall model is statistically significant. This suggests that the model as a whole has some predictive value, but in this case, it is not explained by the temperature variable alone.</li>\n",
    "\n",
    "#### Coefficients:\n",
    "<li>Intercept (const): The coefficient for the intercept is 14.2343, meaning that when the maximum temperature is zero, the model predicts an average delay of 14.23 minutes.</li>\n",
    "<li>Maximum Temperature (tmax): The coefficient for maximum temperature is -0.0051. This indicates that for each 1-degree increase in maximum temperature, the average flight delay is predicted to decrease by 0.0051 minutes. This effect is very small, almost negligible.</li>\n",
    "\n",
    "#### Statistical Significance:\n",
    "<li>P-value for intercept: The p-value for the intercept is 14.091, which is not statistically meaningful (p-value above 0.05).</li>\n",
    "<li>P-value for temperature (tmax): The p-value for the coefficient of maximum temperature is -0.007, which is statistically significant, indicating that temperature does have a statistically significant relationship with delays, but the effect size is very small.</li>\n",
    "Given that the p-value for temperature is significant, but the coefficient is very small, it suggests a weak relationship between temperature and delays.\n",
    "\n",
    "#### Residuals and Diagnostics:\n",
    "<li>Omnibus and Jarque-Bera (JB) tests: Both tests are highly significant (p-value = 0.00), indicating that the residuals deviate significantly from normality, which suggests potential issues with model fit.</li>\n",
    "<li>Skewness: The skewness of the residuals is 9.942, suggesting that the distribution of residuals is heavily skewed. This is further confirmed by the high kurtosis value of 177.858, indicating that the residuals are not normally distributed and the model may suffer from non-linearity or outliers.</li>\n",
    "<li>Durbin-Watson: The Durbin-Watson statistic is 1.821, which is within an acceptable range (close to 2), indicating that there is no strong autocorrelation of residuals.</li>\n",
    "\n",
    "#### Conclusions:\n",
    "<li>The R-squared value of 0.000 suggests that maximum temperature does not explain flight delays in a meaningful way.</li>\n",
    "<li>The negative coefficient for temperature implies that, if anything, as maximum temperature increases, delays slightly decrease. However, the effect size is extremely small and not practically significant.</li>\n",
    "<li>Statistical significance is present for temperature, but given the very small effect size, the relationship between maximum temperature and delays is likely negligible.</li>\n",
    "<li>There are issues with non-normality of residuals, and the model might not fully capture the complexities of the data. Consider checking for non-linear relationships or incorporating other variables that might better explain flight delays.</li>\n",
    "<br>\n",
    "Temperature may not be a significant factor in explaining flight delays, or at least not the most important one. Other factors, such as airport operations, air traffic control, and more severe weather conditions, could have a stronger impact."
   ]
  },
  {
   "cell_type": "markdown",
   "metadata": {},
   "source": [
    "###\n",
    "## Notebooks Analysis Summary\n",
    "\n",
    "#### Effect of Snowfall on Flight Delays:\n",
    "<li>Snowfall significantly increases flight delays. Flights delayed due to snow experience more than double the average delay duration compared to non-snow conditions.</li>\n",
    "<li>This relationship is statistically significant, highlighting the importance of weather conditions, like snow, in disrupting flight schedules.</li>\n",
    "<li>Airlines and airport operators should consider snow as a key factor in planning for weather-related disruptions to minimize operational impact.</li>\n",
    "\n",
    "#### Effect of Snow Cover on Flight Delays:\n",
    "<li>Snow cover at the departure airport shows a weak positive relationship with flight delays.</li>\n",
    "<li>As the amount of snow cover increases, there is a slight increase in flight delays, but the effect is not very strong.</li>\n",
    "<li>Other factors, such as snow intensity, airport operations, and external weather conditions, may play more significant roles in influencing delays. Further analysis incorporating these variables could provide more accurate insights.</li>\n",
    "\n",
    "#### Effect of Maximum Temperature on Flight Delays:\n",
    "<li>Maximum temperature has a negligible effect on flight delays, as indicated by an R-squared value of 0.000, meaning it does not explain significant variability in delays.</li>\n",
    "<li>The coefficient for maximum temperature is negative (-0.0051), suggesting that higher temperatures might slightly decrease delays, but the effect is very small.</li>\n",
    "<li>Despite the statistical sig</li>nificance of the temperature variable, the small effect size implies that temperature is likely not a major factor influencing delays.\n",
    "<li>Residual analysis shows potential issues with the model, such as non-normality of residuals, indicating that the model may not capture the full complexity of the data.</li>\n",
    "\n",
    "#### Conclusion: \n",
    "The findings clearly indicate that snowfall has a significant and direct impact on flight delays, with snow-caused disruptions substantially increasing delay durations. This underscores the importance of weather-related planning in airline operations, particularly in regions prone to snow. While snow cover shows a slight correlation with delays, the effect is relatively weak, suggesting that other operational factors likely contribute more to the delays during snowy conditions. The analysis of maximum temperature reveals that it has a minimal impact on flight delays, with a very small effect size, indicating that temperature is not a significant factor in explaining delays. The weak relationship observed further suggests that other variables, such as airport operations, air traffic control, and more extreme weather conditions, should be considered as more influential factors in managing flight delays. Overall, these findings emphasize the need for weather-sensitive operational strategies, especially for snow-related disruptions, and the importance of focusing on more impactful factors to better understand and mitigate flight delays."
   ]
  },
  {
   "cell_type": "markdown",
   "metadata": {},
   "source": [
    "####\n",
    "<p style='background-color: #FFFFE0; margin-top:20px; padding:5px 15px; font-weight: 500'>Saving 'flight_df' DataFrame for futher analysis</p>"
   ]
  },
  {
   "cell_type": "code",
   "execution_count": 6,
   "metadata": {},
   "outputs": [],
   "source": [
    "flight_df.to_csv(f\"{DIR_PATH}{os.path.sep}data{os.path.sep}processed{os.path.sep}flight_df_03.csv\", index=False)"
   ]
  }
 ],
 "metadata": {
  "colab": {
   "provenance": []
  },
  "kernelspec": {
   "display_name": "Python 3 (ipykernel)",
   "language": "python",
   "name": "python3"
  },
  "language_info": {
   "codemirror_mode": {
    "name": "ipython",
    "version": 3
   },
   "file_extension": ".py",
   "mimetype": "text/x-python",
   "name": "python",
   "nbconvert_exporter": "python",
   "pygments_lexer": "ipython3",
   "version": "3.12.2"
  },
  "vscode": {
   "interpreter": {
    "hash": "136089914e87e2d4f80cd8636e7ceb6fbad42888d13047c5eed4d3dfe8a58423"
   }
  }
 },
 "nbformat": 4,
 "nbformat_minor": 4
}
